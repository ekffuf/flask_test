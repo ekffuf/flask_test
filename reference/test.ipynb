{
 "cells": [
  {
   "cell_type": "code",
   "execution_count": 2,
   "metadata": {
    "collapsed": true,
    "ExecuteTime": {
     "start_time": "2023-06-23T14:24:50.750093Z",
     "end_time": "2023-06-23T14:24:50.796333Z"
    }
   },
   "outputs": [
    {
     "name": "stderr",
     "output_type": "stream",
     "text": [
      "C:\\Users\\HKIT\\anaconda3\\lib\\site-packages\\pydub\\utils.py:170: RuntimeWarning: Couldn't find ffmpeg or avconv - defaulting to ffmpeg, but may not work\n",
      "  warn(\"Couldn't find ffmpeg or avconv - defaulting to ffmpeg, but may not work\", RuntimeWarning)\n"
     ]
    }
   ],
   "source": [
    "from keras.utils import pad_sequences\n",
    "import speech_recognition as sr\n",
    "from pydub import AudioSegment\n",
    "import urllib.parse\n",
    "import pickle as pk\n",
    "import os\n",
    "from keras.models import load_model"
   ]
  },
  {
   "cell_type": "code",
   "execution_count": 7,
   "outputs": [
    {
     "ename": "FileNotFoundError",
     "evalue": "[Errno 2] No such file or directory: '%EC%87%BC%ED%95%91_462.m4a'",
     "output_type": "error",
     "traceback": [
      "\u001B[1;31m---------------------------------------------------------------------------\u001B[0m",
      "\u001B[1;31mFileNotFoundError\u001B[0m                         Traceback (most recent call last)",
      "Cell \u001B[1;32mIn[7], line 2\u001B[0m\n\u001B[0;32m      1\u001B[0m encoded_path \u001B[38;5;241m=\u001B[39m urllib\u001B[38;5;241m.\u001B[39mparse\u001B[38;5;241m.\u001B[39mquote(\u001B[38;5;124m\"\u001B[39m\u001B[38;5;124m쇼핑_462.m4a\u001B[39m\u001B[38;5;124m\"\u001B[39m)\n\u001B[1;32m----> 2\u001B[0m wav_path \u001B[38;5;241m=\u001B[39m \u001B[43mAudioSegment\u001B[49m\u001B[38;5;241;43m.\u001B[39;49m\u001B[43mfrom_file\u001B[49m\u001B[43m(\u001B[49m\u001B[43mencoded_path\u001B[49m\u001B[43m,\u001B[49m\u001B[43m \u001B[49m\u001B[38;5;28;43mformat\u001B[39;49m\u001B[38;5;241;43m=\u001B[39;49m\u001B[38;5;124;43m\"\u001B[39;49m\u001B[38;5;124;43mm4a\u001B[39;49m\u001B[38;5;124;43m\"\u001B[39;49m\u001B[43m,\u001B[49m\u001B[43m \u001B[49m\u001B[43mencoding\u001B[49m\u001B[38;5;241;43m=\u001B[39;49m\u001B[38;5;124;43m\"\u001B[39;49m\u001B[38;5;124;43mutf-8\u001B[39;49m\u001B[38;5;124;43m\"\u001B[39;49m\u001B[43m)\u001B[49m\n\u001B[0;32m      3\u001B[0m wav \u001B[38;5;241m=\u001B[39m wav_path\u001B[38;5;241m.\u001B[39mexport(\u001B[38;5;124m\"\u001B[39m\u001B[38;5;124m쇼핑_462.wav\u001B[39m\u001B[38;5;124m\"\u001B[39m, \u001B[38;5;28mformat\u001B[39m\u001B[38;5;241m=\u001B[39m\u001B[38;5;124m\"\u001B[39m\u001B[38;5;124mwav\u001B[39m\u001B[38;5;124m\"\u001B[39m)\n\u001B[0;32m      5\u001B[0m r \u001B[38;5;241m=\u001B[39m sr\u001B[38;5;241m.\u001B[39mRecognizer()\n",
      "File \u001B[1;32m~\\anaconda3\\lib\\site-packages\\pydub\\audio_segment.py:651\u001B[0m, in \u001B[0;36mAudioSegment.from_file\u001B[1;34m(cls, file, format, codec, parameters, start_second, duration, **kwargs)\u001B[0m\n\u001B[0;32m    649\u001B[0m \u001B[38;5;28;01mexcept\u001B[39;00m \u001B[38;5;167;01mTypeError\u001B[39;00m:\n\u001B[0;32m    650\u001B[0m     filename \u001B[38;5;241m=\u001B[39m \u001B[38;5;28;01mNone\u001B[39;00m\n\u001B[1;32m--> 651\u001B[0m file, close_file \u001B[38;5;241m=\u001B[39m \u001B[43m_fd_or_path_or_tempfile\u001B[49m\u001B[43m(\u001B[49m\u001B[43mfile\u001B[49m\u001B[43m,\u001B[49m\u001B[43m \u001B[49m\u001B[38;5;124;43m'\u001B[39;49m\u001B[38;5;124;43mrb\u001B[39;49m\u001B[38;5;124;43m'\u001B[39;49m\u001B[43m,\u001B[49m\u001B[43m \u001B[49m\u001B[43mtempfile\u001B[49m\u001B[38;5;241;43m=\u001B[39;49m\u001B[38;5;28;43;01mFalse\u001B[39;49;00m\u001B[43m)\u001B[49m\n\u001B[0;32m    653\u001B[0m \u001B[38;5;28;01mif\u001B[39;00m \u001B[38;5;28mformat\u001B[39m:\n\u001B[0;32m    654\u001B[0m     \u001B[38;5;28mformat\u001B[39m \u001B[38;5;241m=\u001B[39m \u001B[38;5;28mformat\u001B[39m\u001B[38;5;241m.\u001B[39mlower()\n",
      "File \u001B[1;32m~\\anaconda3\\lib\\site-packages\\pydub\\utils.py:60\u001B[0m, in \u001B[0;36m_fd_or_path_or_tempfile\u001B[1;34m(fd, mode, tempfile)\u001B[0m\n\u001B[0;32m     57\u001B[0m     close_fd \u001B[38;5;241m=\u001B[39m \u001B[38;5;28;01mTrue\u001B[39;00m\n\u001B[0;32m     59\u001B[0m \u001B[38;5;28;01mif\u001B[39;00m \u001B[38;5;28misinstance\u001B[39m(fd, basestring):\n\u001B[1;32m---> 60\u001B[0m     fd \u001B[38;5;241m=\u001B[39m \u001B[38;5;28;43mopen\u001B[39;49m\u001B[43m(\u001B[49m\u001B[43mfd\u001B[49m\u001B[43m,\u001B[49m\u001B[43m \u001B[49m\u001B[43mmode\u001B[49m\u001B[38;5;241;43m=\u001B[39;49m\u001B[43mmode\u001B[49m\u001B[43m)\u001B[49m\n\u001B[0;32m     61\u001B[0m     close_fd \u001B[38;5;241m=\u001B[39m \u001B[38;5;28;01mTrue\u001B[39;00m\n\u001B[0;32m     63\u001B[0m \u001B[38;5;28;01mtry\u001B[39;00m:\n",
      "\u001B[1;31mFileNotFoundError\u001B[0m: [Errno 2] No such file or directory: '%EC%87%BC%ED%95%91_462.m4a'"
     ]
    }
   ],
   "source": [
    "encoded_path = urllib.parse.quote(\"쇼핑_462.m4a\")\n",
    "wav_path = AudioSegment.from_file(encoded_path, format=\"m4a\", encoding=\"utf-8\")\n",
    "wav = wav_path.export(\"쇼핑_462.wav\", format=\"wav\")\n",
    "\n",
    "r = sr.Recognizer()\n",
    "with sr.AudioFile(\"쇼핑_462.wav\") as source:\n",
    "    audio = r.record(source)\n",
    "r_text = r.recognize_google(audio, language='ko')"
   ],
   "metadata": {
    "collapsed": false,
    "ExecuteTime": {
     "start_time": "2023-06-23T14:27:29.009385Z",
     "end_time": "2023-06-23T14:27:29.025016Z"
    }
   }
  },
  {
   "cell_type": "code",
   "execution_count": 8,
   "outputs": [
    {
     "ename": "NameError",
     "evalue": "name 'r_text' is not defined",
     "output_type": "error",
     "traceback": [
      "\u001B[1;31m---------------------------------------------------------------------------\u001B[0m",
      "\u001B[1;31mNameError\u001B[0m                                 Traceback (most recent call last)",
      "Cell \u001B[1;32mIn[8], line 13\u001B[0m\n\u001B[0;32m      9\u001B[0m     tokenizer2 \u001B[38;5;241m=\u001B[39m pk\u001B[38;5;241m.\u001B[39mload(f)\n\u001B[0;32m     10\u001B[0m model2 \u001B[38;5;241m=\u001B[39m load_model(\u001B[38;5;124m\"\u001B[39m\u001B[38;5;124mmodel_post.h5\u001B[39m\u001B[38;5;124m\"\u001B[39m)\n\u001B[1;32m---> 13\u001B[0m string \u001B[38;5;241m=\u001B[39m \u001B[43mr_text\u001B[49m\n\u001B[0;32m     14\u001B[0m real_sequences1 \u001B[38;5;241m=\u001B[39m tokenizer1\u001B[38;5;241m.\u001B[39mtexts_to_sequences(string)\n\u001B[0;32m     15\u001B[0m real_seq1 \u001B[38;5;241m=\u001B[39m pad_sequences(real_sequences1, maxlen\u001B[38;5;241m=\u001B[39m\u001B[38;5;241m1000\u001B[39m, truncating\u001B[38;5;241m=\u001B[39m\u001B[38;5;124m\"\u001B[39m\u001B[38;5;124mpre\u001B[39m\u001B[38;5;124m\"\u001B[39m)\n",
      "\u001B[1;31mNameError\u001B[0m: name 'r_text' is not defined"
     ]
    }
   ],
   "source": [
    "# 모델 호출\n",
    "# --pre방식\n",
    "with open(\"tokenizer_pre.pickle\", \"rb\") as f:\n",
    "    tokenizer1 = pk.load(f)\n",
    "model1 = load_model(\"model_pre.h5\")\n",
    "\n",
    "# --post방식\n",
    "with open(\"tokenizer_post.pickle\", \"rb\") as f:\n",
    "    tokenizer2 = pk.load(f)\n",
    "model2 = load_model(\"model_post.h5\")\n",
    "\n",
    "\n",
    "string = r_text\n",
    "real_sequences1 = tokenizer1.texts_to_sequences(string)\n",
    "real_seq1 = pad_sequences(real_sequences1, maxlen=1000, truncating=\"pre\")\n",
    "result1 = model1.predict(real_seq1)\n",
    "\n",
    "real_sequences2 = tokenizer2.texts_to_sequences(string)\n",
    "real_seq2 = pad_sequences(real_sequences2, maxlen=1000, truncating=\"post\")\n",
    "result2 = model2.predict(real_seq2)\n",
    "\n",
    "if result1 or result2 >= 0.35:\n",
    "    detect = 1\n",
    "else:\n",
    "    detect = 0"
   ],
   "metadata": {
    "collapsed": false,
    "ExecuteTime": {
     "start_time": "2023-06-23T14:30:22.042382Z",
     "end_time": "2023-06-23T14:30:24.260935Z"
    }
   }
  },
  {
   "cell_type": "code",
   "execution_count": null,
   "outputs": [],
   "source": [
    "print(\"result: \" + detect)"
   ],
   "metadata": {
    "collapsed": false
   }
  },
  {
   "cell_type": "code",
   "execution_count": 1,
   "outputs": [],
   "source": [
    "from flask import Flask, request, jsonify\n",
    "from flask_restx import Api, Resource\n",
    "from keras.utils import pad_sequences\n",
    "from keras.models import load_model\n",
    "import pickle as pk\n",
    "import re"
   ],
   "metadata": {
    "collapsed": false,
    "ExecuteTime": {
     "start_time": "2023-07-05T14:28:42.835852Z",
     "end_time": "2023-07-05T14:28:47.470122Z"
    }
   }
  },
  {
   "cell_type": "code",
   "execution_count": 2,
   "outputs": [],
   "source": [
    "text_read = []"
   ],
   "metadata": {
    "collapsed": false,
    "ExecuteTime": {
     "start_time": "2023-07-05T14:28:59.331637Z",
     "end_time": "2023-07-05T14:28:59.341523Z"
    }
   }
  },
  {
   "cell_type": "code",
   "execution_count": null,
   "outputs": [],
   "source": [
    "import os\n",
    "\n",
    "address = r\"C:\\Users\\HKIT\\PycharmProjects\\yhdatabase\\model\"\n",
    "print(address)\n",
    "os.path.join(address, )"
   ],
   "metadata": {
    "collapsed": false
   }
  },
  {
   "cell_type": "code",
   "execution_count": 9,
   "outputs": [],
   "source": [
    "\n",
    "with open(\"../model/tokenizer_pre.pickle\", \"rb\") as f:\n",
    "    tokenizer1 = pk.load(f)\n",
    "model1 = load_model(\"../model/model_pre.h5\")"
   ],
   "metadata": {
    "collapsed": false,
    "ExecuteTime": {
     "start_time": "2023-07-05T14:33:19.750541Z",
     "end_time": "2023-07-05T14:33:20.837381Z"
    }
   }
  },
  {
   "cell_type": "code",
   "execution_count": 10,
   "outputs": [],
   "source": [
    "def predict(string):\n",
    "    real_sequences1 = tokenizer1.texts_to_sequences([string])\n",
    "    real_seq1 = pad_sequences(real_sequences1, maxlen=1000, truncating=\"pre\")\n",
    "    result1 = model1.predict(real_seq1)\n",
    "\n",
    "    if (result1 >= 0.35):\n",
    "        detect = 1\n",
    "    else:\n",
    "        detect = 0\n",
    "    return detect"
   ],
   "metadata": {
    "collapsed": false,
    "ExecuteTime": {
     "start_time": "2023-07-05T14:33:23.420916Z",
     "end_time": "2023-07-05T14:33:23.441082Z"
    }
   }
  },
  {
   "cell_type": "code",
   "execution_count": 11,
   "outputs": [
    {
     "name": "stdout",
     "output_type": "stream",
     "text": [
      "1/1 [==============================] - 2s 2s/step\n"
     ]
    }
   ],
   "source": [
    "text = \"안녕하세요 호갱님\"\n",
    "text_read.append(text)\n",
    "prediction = predict(text_read)"
   ],
   "metadata": {
    "collapsed": false,
    "ExecuteTime": {
     "start_time": "2023-07-05T14:34:23.668421Z",
     "end_time": "2023-07-05T14:34:25.342445Z"
    }
   }
  },
  {
   "cell_type": "code",
   "execution_count": 12,
   "outputs": [
    {
     "name": "stdout",
     "output_type": "stream",
     "text": [
      "0\n"
     ]
    }
   ],
   "source": [
    "print(prediction)"
   ],
   "metadata": {
    "collapsed": false,
    "ExecuteTime": {
     "start_time": "2023-07-05T14:34:39.265822Z",
     "end_time": "2023-07-05T14:34:39.280822Z"
    }
   }
  },
  {
   "cell_type": "code",
   "execution_count": 13,
   "outputs": [
    {
     "name": "stdout",
     "output_type": "stream",
     "text": [
      "안녕하세요 호갱님\n"
     ]
    }
   ],
   "source": [
    "import codecs\n",
    "text = \"안녕하세요 호갱님\"\n",
    "decoded_text = codecs.decode(text.encode(), 'utf-8')\n",
    "print(decoded_text)"
   ],
   "metadata": {
    "collapsed": false,
    "ExecuteTime": {
     "start_time": "2023-07-05T14:46:53.214101Z",
     "end_time": "2023-07-05T14:46:53.225100Z"
    }
   }
  },
  {
   "cell_type": "code",
   "execution_count": null,
   "outputs": [],
   "source": [],
   "metadata": {
    "collapsed": false
   }
  }
 ],
 "metadata": {
  "kernelspec": {
   "display_name": "Python 3",
   "language": "python",
   "name": "python3"
  },
  "language_info": {
   "codemirror_mode": {
    "name": "ipython",
    "version": 2
   },
   "file_extension": ".py",
   "mimetype": "text/x-python",
   "name": "python",
   "nbconvert_exporter": "python",
   "pygments_lexer": "ipython2",
   "version": "2.7.6"
  }
 },
 "nbformat": 4,
 "nbformat_minor": 0
}
