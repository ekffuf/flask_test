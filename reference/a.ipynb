{
 "cells": [
  {
   "cell_type": "code",
   "execution_count": 37,
   "metadata": {
    "collapsed": true,
    "ExecuteTime": {
     "start_time": "2023-06-28T12:26:36.652395Z",
     "end_time": "2023-06-28T12:26:36.669843Z"
    }
   },
   "outputs": [
    {
     "name": "stdout",
     "output_type": "stream",
     "text": [
      "16\n"
     ]
    }
   ],
   "source": [
    "while True:\n",
    "    if f\"{i}\"==f\"{i}\":\n",
    "        i+=1\n",
    "        print(i)\n",
    "        break"
   ]
  },
  {
   "cell_type": "code",
   "execution_count": 21,
   "outputs": [],
   "source": [
    "import mariadb\n",
    "\n",
    "conn = mariadb.connect(\n",
    "    user=\"root\",\n",
    "    password=\"hkit301301\",\n",
    "    host=\"182.229.34.184\",\n",
    "    port=3306,\n",
    "    database=\"301project\"\n",
    ")\n",
    "\n",
    "cursor = conn.cursor()\n",
    "query = \"SELECT CONVERT(content USING UTF8),disdata from voicedata\"\n",
    "cursor.execute(query)\n",
    "result = cursor.fetchall()\n",
    "cursor.close()\n",
    "conn.close()"
   ],
   "metadata": {
    "collapsed": false,
    "ExecuteTime": {
     "start_time": "2023-06-30T11:05:51.943338Z",
     "end_time": "2023-06-30T11:05:52.620153Z"
    }
   }
  },
  {
   "cell_type": "code",
   "execution_count": 2,
   "outputs": [
    {
     "data": {
      "text/plain": "[('오늘 커피 넘 많이 마셨어... 나도 4잔 ㅠㅠ 잠 안올듯 3 : 카페인 과다섭취 안좋아 카페인 중독이야 완전 카페인은 우리 인생인듯 3 : 이뇨 때문에 힘들지 않아? 나도 오늘 잠 안올듯 ㅠ 빠져들면 헤어나올 수가 없음 3 : 나는 요즘 카페인 많이 먹음 오줌 장난 아님 이뇨 때문에 힘들어...! 이뇨 떄문에 잠도 잘 깨요 ㅠㅠ 3 : 맞지 중간에 깨기도 잘깨고 마자 중간에  한번은 깨는 듯! 난 근데 하루에 물 3리터는 먹는듯 3 : 커피좀 적당히 마셔 3리터를 마셔? 대단 응 그냥 습관임 3 : 물 3리터에 커피까지 많이 마시면 진짜 화장실 많이 가겠다',\n  '0'),\n ('외국인 마사지 업소에서 마약 거래 한 거 봤어? 아 진짜 처음 듣는 소리야 진짜 한 50명 가까이 잡혔더라 마약 거래 진짜 대박이다 그중에 판매책에 태국인도 포함이래 키키 마사지 업소에서 마약 거래를 하지 키키 세상 참 마약 중에 필로폰이랑 야바를 했다 하더라고 키키 아 진짜 필로폰 말만 많이 들어봤지 키키 우리나라도 이제 마약에 노출 되기 시작 했나 봐 ㅠㅠ 아 진짜 노출 되기 시작했음 안 좋은 거 아니야 자그마치 마약만 23억 원어치래 키키 미쳤어 진짜 와 엄청 비싸네 대박 비싸기도 하고 엄청 많이 흡입 했다 하더라 아 진짜 흡입 왜 그런데 정말 아 정말 마약 규제는 빡세게 해야 해 그치 엄청 심하게 규제해야 해',\n  '0'),\n ('플스 해본 적 있음? 플스 해본 적은 있지 3 : 옛날에 많이 했었지 플스 사는 거 어떻게 생각함 근데 플스 게임은 어렵다... 뭔가 컨트롤러? 적응이 안됨 3 : 10년 전에는 플스방도 많았자나 게임이 엄청 어려워? 플스 사는 건 좋다고 봄 할 거 개많다 3 : 플스 사는 거 추천... 거기 지티에이 재밌다던데 쉬운 거도 있고 어려운 거도 있고 3 : 플스 게임 재밌는 거 많아. 3 : 나도 이번에 하나 살려구. 유튜브 보니까... 재밌어 보이더랑 지티에이 하면 세상 시간 잘 감 3 : 플스 닌텐도 중에 살건디... 너 그거 해봄? 살살 녹는다... 난 해봐찌 3 : 뭐 살까 고민댐... 3 : 알바 해서 둘 다 사버릴까...',\n  '0')]"
     },
     "execution_count": 2,
     "metadata": {},
     "output_type": "execute_result"
    }
   ],
   "source": [
    "result[-3:]"
   ],
   "metadata": {
    "collapsed": false,
    "ExecuteTime": {
     "start_time": "2023-06-30T09:23:19.740064Z",
     "end_time": "2023-06-30T09:23:19.771084Z"
    }
   }
  },
  {
   "cell_type": "code",
   "execution_count": 22,
   "outputs": [],
   "source": [
    "X = [i[0] for i in result]"
   ],
   "metadata": {
    "collapsed": false,
    "ExecuteTime": {
     "start_time": "2023-06-30T11:05:59.991061Z",
     "end_time": "2023-06-30T11:05:59.997061Z"
    }
   }
  },
  {
   "cell_type": "code",
   "execution_count": 4,
   "outputs": [
    {
     "data": {
      "text/plain": "['오늘 커피 넘 많이 마셨어... 나도 4잔 ㅠㅠ 잠 안올듯 3 : 카페인 과다섭취 안좋아 카페인 중독이야 완전 카페인은 우리 인생인듯 3 : 이뇨 때문에 힘들지 않아? 나도 오늘 잠 안올듯 ㅠ 빠져들면 헤어나올 수가 없음 3 : 나는 요즘 카페인 많이 먹음 오줌 장난 아님 이뇨 때문에 힘들어...! 이뇨 떄문에 잠도 잘 깨요 ㅠㅠ 3 : 맞지 중간에 깨기도 잘깨고 마자 중간에  한번은 깨는 듯! 난 근데 하루에 물 3리터는 먹는듯 3 : 커피좀 적당히 마셔 3리터를 마셔? 대단 응 그냥 습관임 3 : 물 3리터에 커피까지 많이 마시면 진짜 화장실 많이 가겠다',\n '외국인 마사지 업소에서 마약 거래 한 거 봤어? 아 진짜 처음 듣는 소리야 진짜 한 50명 가까이 잡혔더라 마약 거래 진짜 대박이다 그중에 판매책에 태국인도 포함이래 키키 마사지 업소에서 마약 거래를 하지 키키 세상 참 마약 중에 필로폰이랑 야바를 했다 하더라고 키키 아 진짜 필로폰 말만 많이 들어봤지 키키 우리나라도 이제 마약에 노출 되기 시작 했나 봐 ㅠㅠ 아 진짜 노출 되기 시작했음 안 좋은 거 아니야 자그마치 마약만 23억 원어치래 키키 미쳤어 진짜 와 엄청 비싸네 대박 비싸기도 하고 엄청 많이 흡입 했다 하더라 아 진짜 흡입 왜 그런데 정말 아 정말 마약 규제는 빡세게 해야 해 그치 엄청 심하게 규제해야 해',\n '플스 해본 적 있음? 플스 해본 적은 있지 3 : 옛날에 많이 했었지 플스 사는 거 어떻게 생각함 근데 플스 게임은 어렵다... 뭔가 컨트롤러? 적응이 안됨 3 : 10년 전에는 플스방도 많았자나 게임이 엄청 어려워? 플스 사는 건 좋다고 봄 할 거 개많다 3 : 플스 사는 거 추천... 거기 지티에이 재밌다던데 쉬운 거도 있고 어려운 거도 있고 3 : 플스 게임 재밌는 거 많아. 3 : 나도 이번에 하나 살려구. 유튜브 보니까... 재밌어 보이더랑 지티에이 하면 세상 시간 잘 감 3 : 플스 닌텐도 중에 살건디... 너 그거 해봄? 살살 녹는다... 난 해봐찌 3 : 뭐 살까 고민댐... 3 : 알바 해서 둘 다 사버릴까...']"
     },
     "execution_count": 4,
     "metadata": {},
     "output_type": "execute_result"
    }
   ],
   "source": [
    "X[-3:]"
   ],
   "metadata": {
    "collapsed": false,
    "ExecuteTime": {
     "start_time": "2023-06-30T09:23:21.927026Z",
     "end_time": "2023-06-30T09:23:21.941026Z"
    }
   }
  },
  {
   "cell_type": "code",
   "execution_count": 23,
   "outputs": [],
   "source": [
    "import numpy as np\n",
    "y = np.array([i[1] for i in result]).astype('float64')"
   ],
   "metadata": {
    "collapsed": false,
    "ExecuteTime": {
     "start_time": "2023-06-30T11:06:03.559661Z",
     "end_time": "2023-06-30T11:06:03.572659Z"
    }
   }
  },
  {
   "cell_type": "code",
   "execution_count": 24,
   "outputs": [
    {
     "data": {
      "text/plain": "dtype('float64')"
     },
     "execution_count": 24,
     "metadata": {},
     "output_type": "execute_result"
    }
   ],
   "source": [
    "y.dtype"
   ],
   "metadata": {
    "collapsed": false,
    "ExecuteTime": {
     "start_time": "2023-06-30T11:06:04.803583Z",
     "end_time": "2023-06-30T11:06:04.828522Z"
    }
   }
  },
  {
   "cell_type": "code",
   "execution_count": 25,
   "outputs": [],
   "source": [
    "import pandas as pd\n",
    "df = pd.DataFrame({\"document\": X, \"label\": y})"
   ],
   "metadata": {
    "collapsed": false,
    "ExecuteTime": {
     "start_time": "2023-06-30T11:06:05.945189Z",
     "end_time": "2023-06-30T11:06:05.953185Z"
    }
   }
  },
  {
   "cell_type": "code",
   "execution_count": 26,
   "outputs": [
    {
     "data": {
      "text/plain": "0.0    4295\n1.0     228\nName: count, dtype: int64"
     },
     "execution_count": 26,
     "metadata": {},
     "output_type": "execute_result"
    }
   ],
   "source": [
    "pd.Series(y).value_counts()"
   ],
   "metadata": {
    "collapsed": false,
    "ExecuteTime": {
     "start_time": "2023-06-30T11:06:06.587318Z",
     "end_time": "2023-06-30T11:06:06.618341Z"
    }
   }
  },
  {
   "cell_type": "code",
   "execution_count": 27,
   "outputs": [
    {
     "data": {
      "text/plain": "array([0., 0., 0., ..., 0., 0., 0.])"
     },
     "execution_count": 27,
     "metadata": {},
     "output_type": "execute_result"
    }
   ],
   "source": [
    "y"
   ],
   "metadata": {
    "collapsed": false,
    "ExecuteTime": {
     "start_time": "2023-06-30T11:06:08.573069Z",
     "end_time": "2023-06-30T11:06:08.582841Z"
    }
   }
  },
  {
   "cell_type": "code",
   "execution_count": 28,
   "outputs": [],
   "source": [
    "import os\n",
    "import tensorflow as tf\n",
    "import pickle as pk\n",
    "from tensorflow.keras.preprocessing.text import Tokenizer\n",
    "from tensorflow.keras.preprocessing.sequence import pad_sequences\n",
    "from sklearn.model_selection import train_test_split"
   ],
   "metadata": {
    "collapsed": false,
    "ExecuteTime": {
     "start_time": "2023-06-30T11:06:10.162190Z",
     "end_time": "2023-06-30T11:06:10.167189Z"
    }
   }
  },
  {
   "cell_type": "code",
   "execution_count": 29,
   "outputs": [],
   "source": [
    "MAX_LEN = 1000\n",
    "TRUNC = \"pre\"\n",
    "\n",
    "train_input, val_input, train_target, val_target = train_test_split(df[\"document\"], df[\"label\"], test_size=0.4, stratify=df[\"label\"])\n",
    "tokenizer = Tokenizer()\n",
    "\n",
    "tokenizer.fit_on_texts(train_input)\n",
    "train_sequences = tokenizer.texts_to_sequences(train_input)\n",
    "\n",
    "train_seq = pad_sequences(train_sequences, maxlen=MAX_LEN, truncating=TRUNC)\n",
    "val_sequences = tokenizer.texts_to_sequences(val_input)\n",
    "val_seq = pad_sequences(val_sequences, maxlen=MAX_LEN, truncating=TRUNC)"
   ],
   "metadata": {
    "collapsed": false,
    "ExecuteTime": {
     "start_time": "2023-06-30T11:06:12.021498Z",
     "end_time": "2023-06-30T11:06:12.934496Z"
    }
   }
  },
  {
   "cell_type": "code",
   "execution_count": 31,
   "outputs": [
    {
     "name": "stdout",
     "output_type": "stream",
     "text": [
      "Epoch 1/3\n",
      "85/85 [==============================] - 47s 497ms/step - loss: 0.4608 - accuracy: 0.9355 - val_loss: 0.2772 - val_accuracy: 0.9503\n",
      "Epoch 2/3\n",
      "85/85 [==============================] - 41s 480ms/step - loss: 0.2365 - accuracy: 0.9569 - val_loss: 0.1793 - val_accuracy: 0.9514\n",
      "Epoch 3/3\n",
      "85/85 [==============================] - 41s 483ms/step - loss: 0.1746 - accuracy: 0.9576 - val_loss: 0.1376 - val_accuracy: 0.9514\n"
     ]
    }
   ],
   "source": [
    "model = tf.keras.Sequential()\n",
    "model.add(tf.keras.layers.Embedding(input_dim=100000, output_dim=64, input_length=MAX_LEN))\n",
    "model.add(tf.keras.layers.Bidirectional(tf.keras.layers.LSTM(2, return_sequences=True)))\n",
    "model.add(tf.keras.layers.Bidirectional(tf.keras.layers.LSTM(2, return_sequences=False)))\n",
    "model.add(tf.keras.layers.Dropout(rate=0.3))\n",
    "model.add(tf.keras.layers.Dense(1, activation=\"sigmoid\"))\n",
    "\n",
    "model.compile(loss=\"binary_crossentropy\", optimizer=\"adam\", metrics=[\"accuracy\"])\n",
    "history = model.fit(train_seq, train_target, epochs=3, batch_size=32, validation_data=(val_seq, val_target))\n"
   ],
   "metadata": {
    "collapsed": false,
    "ExecuteTime": {
     "start_time": "2023-06-30T11:06:30.528618Z",
     "end_time": "2023-06-30T11:08:41.067047Z"
    }
   }
  },
  {
   "cell_type": "code",
   "execution_count": 33,
   "outputs": [],
   "source": [
    "# 저장할 폴더 경로\n",
    "folder_path = './model'\n",
    "\n",
    "# 저장할 파일 이름\n",
    "file_name = 'modelVer.h5'\n",
    "\n",
    "# 이미 있는 파일들의 목록 가져오기\n",
    "existing_files = os.listdir(folder_path)\n",
    "\n",
    "# 같은 이름의 파일이 이미 존재하는지 확인\n",
    "if file_name in existing_files:\n",
    "    # 다른 이름으로 저장할 파일의 번호 결정\n",
    "    next_number = 1\n",
    "    while True:\n",
    "        next_file_name = f'{file_name.split(\".\")[0]}_{next_number}.h5'\n",
    "        if next_file_name not in existing_files:\n",
    "            break\n",
    "        next_number += 1\n",
    "else:\n",
    "    # 같은 이름의 파일이 없을 경우 그대로 저장\n",
    "    next_file_name = file_name\n",
    "\n",
    "# 저장할 파일의 경로 생성\n",
    "next_file_path = os.path.join(folder_path, next_file_name)\n",
    "\n",
    "# 모델 저장\n",
    "model.save(next_file_path)"
   ],
   "metadata": {
    "collapsed": false,
    "ExecuteTime": {
     "start_time": "2023-06-30T11:10:09.521570Z",
     "end_time": "2023-06-30T11:10:09.735761Z"
    }
   }
  },
  {
   "cell_type": "code",
   "execution_count": null,
   "outputs": [],
   "source": [],
   "metadata": {
    "collapsed": false
   }
  }
 ],
 "metadata": {
  "kernelspec": {
   "display_name": "Python 3",
   "language": "python",
   "name": "python3"
  },
  "language_info": {
   "codemirror_mode": {
    "name": "ipython",
    "version": 2
   },
   "file_extension": ".py",
   "mimetype": "text/x-python",
   "name": "python",
   "nbconvert_exporter": "python",
   "pygments_lexer": "ipython2",
   "version": "2.7.6"
  }
 },
 "nbformat": 4,
 "nbformat_minor": 0
}
