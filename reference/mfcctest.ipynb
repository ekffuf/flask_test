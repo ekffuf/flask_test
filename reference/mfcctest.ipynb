{
 "cells": [
  {
   "cell_type": "code",
   "execution_count": 22,
   "outputs": [
    {
     "name": "stdout",
     "output_type": "stream",
     "text": [
      "Foldername : 0 - 5 파일\n",
      "Foldername : 1 - 5 파일\n",
      "X_data : (8307, 13)\n",
      "Y_data : (8307, 2)\n"
     ]
    }
   ],
   "source": [
    "import librosa\n",
    "import numpy as np\n",
    "from sklearn.model_selection import train_test_split\n",
    "import os\n",
    "\n",
    "RATE = 16000  # 샘플레이트\n",
    "DATA_PATH = r\"C:\\Users\\HKIT\\PycharmProjects\\realproject\\project\\dataset1\"\n",
    "\n",
    "X_data = []\n",
    "y_data = []\n",
    "\n",
    "for dataset in os.listdir(DATA_PATH):\n",
    "    folder_path = os.path.join(DATA_PATH, dataset)\n",
    "\n",
    "    if os.path.isdir(folder_path):\n",
    "        label = int(dataset)  # 폴더명을 정수로 변환하여 클래스 레이블로 사용\n",
    "        files = os.listdir(folder_path)\n",
    "        print(\"Foldername :\", dataset, \"-\", len(files), \"파일\")\n",
    "        for filename in files:\n",
    "            file_path = os.path.join(folder_path, filename)\n",
    "\n",
    "            if filename.endswith('.wav'):\n",
    "                y, sr = librosa.load(file_path)\n",
    "                mfcc = librosa.feature.mfcc(y=y, sr=sr, n_mfcc=13, hop_length=int(sr * 0.01), n_fft=int(sr * 0.02)).T\n",
    "\n",
    "                X_data.append(mfcc)\n",
    "                for i in range(len(mfcc)):\n",
    "                    y_data.append([0, 1] if label else [1, 0])  # [[0, 1], [0, 1], [1, 0], [1, 0]]\n",
    "\n",
    "X_data = np.concatenate(X_data)\n",
    "y_data = np.array(y_data)\n",
    "\n",
    "print(\"X_data :\", X_data.shape)\n",
    "print(\"Y_data :\", y_data.shape)\n",
    "X_train, X_test, y_train, y_test = train_test_split(X_data, y_data)"
   ],
   "metadata": {
    "collapsed": false,
    "ExecuteTime": {
     "start_time": "2023-07-06T10:40:14.403104Z",
     "end_time": "2023-07-06T10:40:14.574473Z"
    }
   }
  },
  {
   "cell_type": "code",
   "execution_count": 23,
   "outputs": [
    {
     "data": {
      "text/plain": "array([1, 0])"
     },
     "execution_count": 23,
     "metadata": {},
     "output_type": "execute_result"
    }
   ],
   "source": [
    "y_train[0]"
   ],
   "metadata": {
    "collapsed": false,
    "ExecuteTime": {
     "start_time": "2023-07-06T10:40:16.130192Z",
     "end_time": "2023-07-06T10:40:16.140306Z"
    }
   }
  },
  {
   "cell_type": "code",
   "execution_count": 24,
   "outputs": [],
   "source": [
    "import keras\n",
    "import tensorflow as tf\n",
    "from keras.layers import Dense\n",
    "adam = keras.optimizers.Adam(learning_rate=0.01)\n",
    "model = tf.keras.Sequential()\n",
    "model.add(Dense(units=256, activation='relu'))\n",
    "model.add(Dense(units=128, activation='relu'))\n",
    "# model.add(Dense(units=512, activation='relu'))\n",
    "# model.add(Dense(units=512, activation='relu'))\n",
    "model.add(Dense(units=2, activation='sigmoid'))\n",
    "model.compile(loss=\"categorical_crossentropy\", optimizer=adam, metrics=[\"accuracy\"])"
   ],
   "metadata": {
    "collapsed": false,
    "ExecuteTime": {
     "start_time": "2023-07-06T10:40:17.599851Z",
     "end_time": "2023-07-06T10:40:17.621680Z"
    }
   }
  },
  {
   "cell_type": "code",
   "execution_count": 25,
   "outputs": [
    {
     "name": "stdout",
     "output_type": "stream",
     "text": [
      "Epoch 1/100\n",
      "98/98 [==============================] - 1s 4ms/step - loss: 5.5321 - accuracy: 0.7852 - val_loss: 0.4564 - val_accuracy: 0.7679\n",
      "Epoch 2/100\n",
      "98/98 [==============================] - 0s 2ms/step - loss: 0.3361 - accuracy: 0.8737 - val_loss: 0.2279 - val_accuracy: 0.9191\n",
      "Epoch 3/100\n",
      "98/98 [==============================] - 0s 2ms/step - loss: 0.2849 - accuracy: 0.8894 - val_loss: 0.3280 - val_accuracy: 0.8676\n",
      "Epoch 4/100\n",
      "98/98 [==============================] - 0s 2ms/step - loss: 0.2107 - accuracy: 0.9162 - val_loss: 0.2033 - val_accuracy: 0.9273\n",
      "Epoch 5/100\n",
      "98/98 [==============================] - 0s 2ms/step - loss: 0.2017 - accuracy: 0.9225 - val_loss: 0.1827 - val_accuracy: 0.9254\n",
      "Epoch 6/100\n",
      "98/98 [==============================] - 0s 2ms/step - loss: 0.1996 - accuracy: 0.9230 - val_loss: 0.2298 - val_accuracy: 0.8955\n",
      "Epoch 7/100\n",
      "98/98 [==============================] - 0s 2ms/step - loss: 0.1667 - accuracy: 0.9332 - val_loss: 0.1578 - val_accuracy: 0.9389\n",
      "Epoch 8/100\n",
      "98/98 [==============================] - 0s 2ms/step - loss: 0.1726 - accuracy: 0.9321 - val_loss: 0.1748 - val_accuracy: 0.9283\n",
      "Epoch 9/100\n",
      "98/98 [==============================] - 0s 2ms/step - loss: 0.1548 - accuracy: 0.9390 - val_loss: 0.1531 - val_accuracy: 0.9398\n",
      "Epoch 10/100\n",
      "98/98 [==============================] - 0s 2ms/step - loss: 0.1464 - accuracy: 0.9449 - val_loss: 0.1734 - val_accuracy: 0.9340\n",
      "Epoch 11/100\n",
      "98/98 [==============================] - 0s 2ms/step - loss: 0.1374 - accuracy: 0.9453 - val_loss: 0.1419 - val_accuracy: 0.9480\n",
      "Epoch 12/100\n",
      "98/98 [==============================] - 0s 2ms/step - loss: 0.1423 - accuracy: 0.9454 - val_loss: 0.3210 - val_accuracy: 0.9066\n",
      "Epoch 13/100\n",
      "98/98 [==============================] - 0s 2ms/step - loss: 0.1428 - accuracy: 0.9430 - val_loss: 0.1408 - val_accuracy: 0.9480\n",
      "Epoch 14/100\n",
      "98/98 [==============================] - 0s 2ms/step - loss: 0.1358 - accuracy: 0.9443 - val_loss: 0.1446 - val_accuracy: 0.9470\n",
      "Epoch 15/100\n",
      "98/98 [==============================] - 0s 2ms/step - loss: 0.1250 - accuracy: 0.9514 - val_loss: 0.1343 - val_accuracy: 0.9466\n",
      "Epoch 16/100\n",
      "98/98 [==============================] - 0s 2ms/step - loss: 0.1304 - accuracy: 0.9488 - val_loss: 0.1470 - val_accuracy: 0.9461\n",
      "Epoch 17/100\n",
      "98/98 [==============================] - 0s 2ms/step - loss: 0.1173 - accuracy: 0.9530 - val_loss: 0.1293 - val_accuracy: 0.9490\n",
      "Epoch 18/100\n",
      "98/98 [==============================] - 0s 3ms/step - loss: 0.1104 - accuracy: 0.9570 - val_loss: 0.1348 - val_accuracy: 0.9437\n",
      "Epoch 19/100\n",
      "98/98 [==============================] - 0s 2ms/step - loss: 0.1033 - accuracy: 0.9594 - val_loss: 0.1248 - val_accuracy: 0.9543\n",
      "Epoch 20/100\n",
      "98/98 [==============================] - 0s 2ms/step - loss: 0.1222 - accuracy: 0.9526 - val_loss: 0.1271 - val_accuracy: 0.9581\n",
      "Epoch 21/100\n",
      "98/98 [==============================] - 0s 2ms/step - loss: 0.1200 - accuracy: 0.9546 - val_loss: 0.1348 - val_accuracy: 0.9543\n",
      "Epoch 22/100\n",
      "98/98 [==============================] - 0s 2ms/step - loss: 0.1064 - accuracy: 0.9600 - val_loss: 0.1174 - val_accuracy: 0.9591\n",
      "Epoch 23/100\n",
      "98/98 [==============================] - 0s 2ms/step - loss: 0.1160 - accuracy: 0.9560 - val_loss: 0.1442 - val_accuracy: 0.9504\n",
      "Epoch 24/100\n",
      "98/98 [==============================] - 0s 2ms/step - loss: 0.1130 - accuracy: 0.9568 - val_loss: 0.1530 - val_accuracy: 0.9461\n",
      "Epoch 25/100\n",
      "98/98 [==============================] - 0s 2ms/step - loss: 0.1159 - accuracy: 0.9571 - val_loss: 0.1200 - val_accuracy: 0.9543\n",
      "Epoch 26/100\n",
      "98/98 [==============================] - 0s 2ms/step - loss: 0.1008 - accuracy: 0.9594 - val_loss: 0.1416 - val_accuracy: 0.9408\n",
      "Epoch 27/100\n",
      "98/98 [==============================] - 0s 2ms/step - loss: 0.1048 - accuracy: 0.9608 - val_loss: 0.1415 - val_accuracy: 0.9509\n",
      "Epoch 28/100\n",
      "98/98 [==============================] - 0s 2ms/step - loss: 0.1027 - accuracy: 0.9612 - val_loss: 0.1499 - val_accuracy: 0.9519\n",
      "Epoch 29/100\n",
      "98/98 [==============================] - 0s 2ms/step - loss: 0.1051 - accuracy: 0.9600 - val_loss: 0.1779 - val_accuracy: 0.9321\n",
      "Epoch 30/100\n",
      "98/98 [==============================] - 0s 2ms/step - loss: 0.1010 - accuracy: 0.9597 - val_loss: 0.1451 - val_accuracy: 0.9437\n",
      "Epoch 31/100\n",
      "98/98 [==============================] - 0s 2ms/step - loss: 0.0920 - accuracy: 0.9624 - val_loss: 0.1496 - val_accuracy: 0.9533\n",
      "Epoch 32/100\n",
      "98/98 [==============================] - 0s 2ms/step - loss: 0.0985 - accuracy: 0.9616 - val_loss: 0.1481 - val_accuracy: 0.9456\n",
      "Epoch 33/100\n",
      "98/98 [==============================] - 0s 2ms/step - loss: 0.0979 - accuracy: 0.9624 - val_loss: 0.1353 - val_accuracy: 0.9461\n",
      "Epoch 34/100\n",
      "98/98 [==============================] - 0s 2ms/step - loss: 0.0918 - accuracy: 0.9644 - val_loss: 0.1599 - val_accuracy: 0.9456\n",
      "Epoch 35/100\n",
      "98/98 [==============================] - 0s 2ms/step - loss: 0.1057 - accuracy: 0.9573 - val_loss: 0.1480 - val_accuracy: 0.9442\n",
      "Epoch 36/100\n",
      "98/98 [==============================] - 0s 2ms/step - loss: 0.1050 - accuracy: 0.9583 - val_loss: 0.1756 - val_accuracy: 0.9355\n",
      "Epoch 37/100\n",
      "98/98 [==============================] - 0s 2ms/step - loss: 0.1094 - accuracy: 0.9559 - val_loss: 0.1175 - val_accuracy: 0.9562\n",
      "Epoch 38/100\n",
      "98/98 [==============================] - 0s 2ms/step - loss: 0.0944 - accuracy: 0.9612 - val_loss: 0.1381 - val_accuracy: 0.9557\n",
      "Epoch 39/100\n",
      "98/98 [==============================] - 0s 2ms/step - loss: 0.1058 - accuracy: 0.9605 - val_loss: 0.1926 - val_accuracy: 0.9355\n",
      "Epoch 40/100\n",
      "98/98 [==============================] - 0s 2ms/step - loss: 0.1032 - accuracy: 0.9647 - val_loss: 0.1255 - val_accuracy: 0.9581\n",
      "Epoch 41/100\n",
      "98/98 [==============================] - 0s 2ms/step - loss: 0.0985 - accuracy: 0.9616 - val_loss: 0.1371 - val_accuracy: 0.9528\n",
      "Epoch 42/100\n",
      "98/98 [==============================] - 0s 2ms/step - loss: 0.1023 - accuracy: 0.9610 - val_loss: 0.1400 - val_accuracy: 0.9466\n",
      "Epoch 43/100\n",
      "98/98 [==============================] - 0s 2ms/step - loss: 0.1089 - accuracy: 0.9581 - val_loss: 0.1606 - val_accuracy: 0.9466\n",
      "Epoch 44/100\n",
      "98/98 [==============================] - 0s 2ms/step - loss: 0.0934 - accuracy: 0.9632 - val_loss: 0.1267 - val_accuracy: 0.9610\n",
      "Epoch 45/100\n",
      "98/98 [==============================] - 0s 2ms/step - loss: 0.0984 - accuracy: 0.9604 - val_loss: 0.1736 - val_accuracy: 0.9446\n",
      "Epoch 46/100\n",
      "98/98 [==============================] - 0s 2ms/step - loss: 0.1199 - accuracy: 0.9541 - val_loss: 0.1553 - val_accuracy: 0.9480\n",
      "Epoch 47/100\n",
      "98/98 [==============================] - 0s 2ms/step - loss: 0.0922 - accuracy: 0.9677 - val_loss: 0.1249 - val_accuracy: 0.9523\n",
      "Epoch 48/100\n",
      "98/98 [==============================] - 0s 2ms/step - loss: 0.1012 - accuracy: 0.9600 - val_loss: 0.1656 - val_accuracy: 0.9514\n",
      "Epoch 49/100\n",
      "98/98 [==============================] - 0s 2ms/step - loss: 0.1132 - accuracy: 0.9522 - val_loss: 0.1275 - val_accuracy: 0.9485\n",
      "Epoch 50/100\n",
      "98/98 [==============================] - 0s 2ms/step - loss: 0.0814 - accuracy: 0.9677 - val_loss: 0.1395 - val_accuracy: 0.9596\n",
      "Epoch 51/100\n",
      "98/98 [==============================] - 0s 2ms/step - loss: 0.0950 - accuracy: 0.9636 - val_loss: 0.1191 - val_accuracy: 0.9562\n",
      "Epoch 52/100\n",
      "98/98 [==============================] - 0s 2ms/step - loss: 0.0867 - accuracy: 0.9690 - val_loss: 0.1857 - val_accuracy: 0.9389\n",
      "Epoch 53/100\n",
      "98/98 [==============================] - 0s 2ms/step - loss: 0.1149 - accuracy: 0.9552 - val_loss: 0.1823 - val_accuracy: 0.9364\n",
      "Epoch 54/100\n",
      "98/98 [==============================] - 0s 2ms/step - loss: 0.1145 - accuracy: 0.9559 - val_loss: 0.1345 - val_accuracy: 0.9543\n",
      "Epoch 55/100\n",
      "98/98 [==============================] - 0s 2ms/step - loss: 0.1045 - accuracy: 0.9612 - val_loss: 0.1851 - val_accuracy: 0.9437\n",
      "Epoch 56/100\n",
      "98/98 [==============================] - 0s 2ms/step - loss: 0.1118 - accuracy: 0.9581 - val_loss: 0.1492 - val_accuracy: 0.9543\n",
      "Epoch 57/100\n",
      "98/98 [==============================] - 0s 2ms/step - loss: 0.0997 - accuracy: 0.9623 - val_loss: 0.1743 - val_accuracy: 0.9422\n",
      "Epoch 58/100\n",
      "98/98 [==============================] - 0s 2ms/step - loss: 0.1013 - accuracy: 0.9639 - val_loss: 0.1477 - val_accuracy: 0.9490\n",
      "Epoch 59/100\n",
      "98/98 [==============================] - 0s 2ms/step - loss: 0.0866 - accuracy: 0.9679 - val_loss: 0.1454 - val_accuracy: 0.9514\n",
      "Epoch 60/100\n",
      "98/98 [==============================] - 0s 2ms/step - loss: 0.0931 - accuracy: 0.9661 - val_loss: 0.1576 - val_accuracy: 0.9456\n",
      "Epoch 61/100\n",
      "98/98 [==============================] - 0s 2ms/step - loss: 0.0949 - accuracy: 0.9631 - val_loss: 0.1629 - val_accuracy: 0.9422\n",
      "Epoch 62/100\n",
      "98/98 [==============================] - 0s 2ms/step - loss: 0.0947 - accuracy: 0.9639 - val_loss: 0.1580 - val_accuracy: 0.9475\n",
      "Epoch 63/100\n",
      "98/98 [==============================] - 0s 2ms/step - loss: 0.0911 - accuracy: 0.9671 - val_loss: 0.1367 - val_accuracy: 0.9499\n",
      "Epoch 64/100\n",
      "98/98 [==============================] - 0s 2ms/step - loss: 0.0996 - accuracy: 0.9608 - val_loss: 0.1477 - val_accuracy: 0.9543\n",
      "Epoch 65/100\n",
      "98/98 [==============================] - 0s 2ms/step - loss: 0.1036 - accuracy: 0.9628 - val_loss: 0.2413 - val_accuracy: 0.9220\n",
      "Epoch 66/100\n",
      "98/98 [==============================] - 0s 2ms/step - loss: 0.1109 - accuracy: 0.9600 - val_loss: 0.2062 - val_accuracy: 0.9437\n",
      "Epoch 67/100\n",
      "98/98 [==============================] - 0s 2ms/step - loss: 0.1101 - accuracy: 0.9563 - val_loss: 0.1603 - val_accuracy: 0.9432\n",
      "Epoch 68/100\n",
      "98/98 [==============================] - 0s 2ms/step - loss: 0.1056 - accuracy: 0.9583 - val_loss: 0.1771 - val_accuracy: 0.9437\n",
      "Epoch 69/100\n",
      "98/98 [==============================] - 0s 2ms/step - loss: 0.1038 - accuracy: 0.9613 - val_loss: 0.1302 - val_accuracy: 0.9519\n",
      "Epoch 70/100\n",
      "98/98 [==============================] - 0s 2ms/step - loss: 0.0913 - accuracy: 0.9637 - val_loss: 0.1134 - val_accuracy: 0.9620\n",
      "Epoch 71/100\n",
      "98/98 [==============================] - 0s 2ms/step - loss: 0.0816 - accuracy: 0.9716 - val_loss: 0.1460 - val_accuracy: 0.9538\n",
      "Epoch 72/100\n",
      "98/98 [==============================] - 0s 2ms/step - loss: 0.0841 - accuracy: 0.9676 - val_loss: 0.1170 - val_accuracy: 0.9610\n",
      "Epoch 73/100\n",
      "98/98 [==============================] - 0s 2ms/step - loss: 0.0981 - accuracy: 0.9628 - val_loss: 0.1276 - val_accuracy: 0.9591\n",
      "Epoch 74/100\n",
      "98/98 [==============================] - 0s 2ms/step - loss: 0.1093 - accuracy: 0.9602 - val_loss: 0.1202 - val_accuracy: 0.9552\n",
      "Epoch 75/100\n",
      "98/98 [==============================] - 0s 2ms/step - loss: 0.0821 - accuracy: 0.9685 - val_loss: 0.1546 - val_accuracy: 0.9538\n",
      "Epoch 76/100\n",
      "98/98 [==============================] - 0s 2ms/step - loss: 0.0886 - accuracy: 0.9674 - val_loss: 0.1673 - val_accuracy: 0.9456\n",
      "Epoch 77/100\n",
      "98/98 [==============================] - 0s 2ms/step - loss: 0.0992 - accuracy: 0.9597 - val_loss: 0.2046 - val_accuracy: 0.9422\n",
      "Epoch 78/100\n",
      "98/98 [==============================] - 0s 2ms/step - loss: 0.0847 - accuracy: 0.9685 - val_loss: 0.1523 - val_accuracy: 0.9567\n",
      "Epoch 79/100\n",
      "98/98 [==============================] - 0s 2ms/step - loss: 0.0796 - accuracy: 0.9695 - val_loss: 0.1264 - val_accuracy: 0.9605\n",
      "Epoch 80/100\n",
      "98/98 [==============================] - 0s 2ms/step - loss: 0.0953 - accuracy: 0.9661 - val_loss: 0.1594 - val_accuracy: 0.9523\n",
      "Epoch 81/100\n",
      "98/98 [==============================] - 0s 2ms/step - loss: 0.1039 - accuracy: 0.9613 - val_loss: 0.1639 - val_accuracy: 0.9490\n",
      "Epoch 82/100\n",
      "98/98 [==============================] - 0s 2ms/step - loss: 0.1032 - accuracy: 0.9631 - val_loss: 0.1417 - val_accuracy: 0.9591\n",
      "Epoch 83/100\n",
      "98/98 [==============================] - 0s 2ms/step - loss: 0.0998 - accuracy: 0.9655 - val_loss: 0.1923 - val_accuracy: 0.9446\n",
      "Epoch 84/100\n",
      "98/98 [==============================] - 0s 2ms/step - loss: 0.0879 - accuracy: 0.9673 - val_loss: 0.1290 - val_accuracy: 0.9620\n",
      "Epoch 85/100\n",
      "98/98 [==============================] - 0s 2ms/step - loss: 0.1021 - accuracy: 0.9623 - val_loss: 0.1336 - val_accuracy: 0.9543\n",
      "Epoch 86/100\n",
      "98/98 [==============================] - 0s 2ms/step - loss: 0.0881 - accuracy: 0.9647 - val_loss: 0.1932 - val_accuracy: 0.9490\n",
      "Epoch 87/100\n",
      "98/98 [==============================] - 0s 2ms/step - loss: 0.0997 - accuracy: 0.9626 - val_loss: 0.1443 - val_accuracy: 0.9543\n",
      "Epoch 88/100\n",
      "98/98 [==============================] - 0s 2ms/step - loss: 0.0992 - accuracy: 0.9621 - val_loss: 0.1325 - val_accuracy: 0.9576\n",
      "Epoch 89/100\n",
      "98/98 [==============================] - 0s 2ms/step - loss: 0.0797 - accuracy: 0.9690 - val_loss: 0.1492 - val_accuracy: 0.9624\n",
      "Epoch 90/100\n",
      "98/98 [==============================] - 0s 2ms/step - loss: 0.0857 - accuracy: 0.9698 - val_loss: 0.1731 - val_accuracy: 0.9538\n",
      "Epoch 91/100\n",
      "98/98 [==============================] - 0s 2ms/step - loss: 0.0871 - accuracy: 0.9665 - val_loss: 0.1149 - val_accuracy: 0.9562\n",
      "Epoch 92/100\n",
      "98/98 [==============================] - 0s 2ms/step - loss: 0.0823 - accuracy: 0.9693 - val_loss: 0.1287 - val_accuracy: 0.9552\n",
      "Epoch 93/100\n",
      "98/98 [==============================] - 0s 2ms/step - loss: 0.1097 - accuracy: 0.9639 - val_loss: 0.1668 - val_accuracy: 0.9456\n",
      "Epoch 94/100\n",
      "98/98 [==============================] - 0s 2ms/step - loss: 0.0871 - accuracy: 0.9660 - val_loss: 0.1597 - val_accuracy: 0.9470\n",
      "Epoch 95/100\n",
      "98/98 [==============================] - 0s 2ms/step - loss: 0.1092 - accuracy: 0.9586 - val_loss: 0.1328 - val_accuracy: 0.9547\n",
      "Epoch 96/100\n",
      "98/98 [==============================] - 0s 2ms/step - loss: 0.0910 - accuracy: 0.9647 - val_loss: 0.1738 - val_accuracy: 0.9547\n",
      "Epoch 97/100\n",
      "98/98 [==============================] - 0s 2ms/step - loss: 0.0949 - accuracy: 0.9608 - val_loss: 0.1619 - val_accuracy: 0.9499\n",
      "Epoch 98/100\n",
      "98/98 [==============================] - 0s 2ms/step - loss: 0.0910 - accuracy: 0.9658 - val_loss: 0.1614 - val_accuracy: 0.9523\n",
      "Epoch 99/100\n",
      "98/98 [==============================] - 0s 2ms/step - loss: 0.0833 - accuracy: 0.9681 - val_loss: 0.1385 - val_accuracy: 0.9571\n",
      "Epoch 100/100\n",
      "98/98 [==============================] - 0s 2ms/step - loss: 0.0778 - accuracy: 0.9697 - val_loss: 0.1419 - val_accuracy: 0.9528\n"
     ]
    }
   ],
   "source": [
    "history = model.fit(X_train, y_train, epochs=100, batch_size=64, validation_data=(X_test, y_test))"
   ],
   "metadata": {
    "collapsed": false,
    "ExecuteTime": {
     "start_time": "2023-07-06T10:40:18.167309Z",
     "end_time": "2023-07-06T10:40:39.907078Z"
    }
   }
  },
  {
   "cell_type": "code",
   "execution_count": 17,
   "outputs": [
    {
     "data": {
      "text/plain": "[<matplotlib.lines.Line2D at 0x224be72ea90>]"
     },
     "execution_count": 17,
     "metadata": {},
     "output_type": "execute_result"
    },
    {
     "data": {
      "text/plain": "<Figure size 640x480 with 1 Axes>",
      "image/png": "[encoded data removed]"
     },
     "metadata": {},
     "output_type": "display_data"
    }
   ],
   "source": [
    "import matplotlib.pyplot as plt\n",
    "\n",
    "plt.plot(history.history[\"loss\"])\n",
    "plt.plot(history.history[\"val_loss\"])"
   ],
   "metadata": {
    "collapsed": false,
    "ExecuteTime": {
     "start_time": "2023-07-06T09:43:00.226412Z",
     "end_time": "2023-07-06T09:43:00.351926Z"
    }
   }
  },
  {
   "cell_type": "code",
   "execution_count": 18,
   "outputs": [],
   "source": [
    "y, sr = librosa.load(r\"C:\\Users\\HKIT\\PycharmProjects\\realproject\\project\\dataset1\\iucopy2.wav\")\n",
    "X_test = librosa.feature.mfcc(y=y, sr=sr, n_mfcc=13, hop_length=int(sr*0.01),n_fft=int(sr*0.02)).T\n",
    "label = [0 for i in range(2)]\n",
    "label[0] = 1.0\n",
    "Y_test = []\n",
    "for i in range(len(X_test)):\n",
    "    Y_test.append(label)"
   ],
   "metadata": {
    "collapsed": false,
    "ExecuteTime": {
     "start_time": "2023-07-06T09:43:00.351926Z",
     "end_time": "2023-07-06T09:43:00.377281Z"
    }
   }
  },
  {
   "cell_type": "code",
   "execution_count": 19,
   "outputs": [
    {
     "name": "stdout",
     "output_type": "stream",
     "text": [
      "32/32 [==============================] - 0s 1ms/step\n"
     ]
    }
   ],
   "source": [
    "y_test = model.predict(x=X_test)"
   ],
   "metadata": {
    "collapsed": false,
    "ExecuteTime": {
     "start_time": "2023-07-06T09:43:00.377281Z",
     "end_time": "2023-07-06T09:43:00.532217Z"
    }
   }
  },
  {
   "cell_type": "code",
   "execution_count": 20,
   "outputs": [
    {
     "name": "stdout",
     "output_type": "stream",
     "text": [
      "32/32 [==============================] - 0s 1ms/step - loss: 0.5662 - accuracy: 0.8551\n"
     ]
    },
    {
     "data": {
      "text/plain": "[0.5662422180175781, 0.8551448583602905]"
     },
     "execution_count": 20,
     "metadata": {},
     "output_type": "execute_result"
    }
   ],
   "source": [
    "result2 = model.evaluate(x=X_test, y=np.array(Y_test))[1]"
   ],
   "metadata": {
    "collapsed": false,
    "ExecuteTime": {
     "start_time": "2023-07-06T09:43:13.293918Z",
     "end_time": "2023-07-06T09:43:13.506424Z"
    }
   }
  },
  {
   "cell_type": "code",
   "execution_count": 26,
   "outputs": [],
   "source": [
    "from tensorflow.python.keras.models import load_model\n",
    "model.save('mfcc.h5')"
   ],
   "metadata": {
    "collapsed": false,
    "ExecuteTime": {
     "start_time": "2023-07-06T10:42:32.028675Z",
     "end_time": "2023-07-06T10:42:32.099173Z"
    }
   }
  },
  {
   "cell_type": "code",
   "execution_count": null,
   "outputs": [],
   "source": [],
   "metadata": {
    "collapsed": false
   }
  }
 ],
 "metadata": {
  "kernelspec": {
   "display_name": "Python 3",
   "language": "python",
   "name": "python3"
  },
  "language_info": {
   "codemirror_mode": {
    "name": "ipython",
    "version": 2
   },
   "file_extension": ".py",
   "mimetype": "text/x-python",
   "name": "python",
   "nbconvert_exporter": "python",
   "pygments_lexer": "ipython2",
   "version": "2.7.6"
  }
 },
 "nbformat": 4,
 "nbformat_minor": 0
}
