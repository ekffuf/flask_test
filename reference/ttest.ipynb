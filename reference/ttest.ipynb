{
 "cells": [
  {
   "cell_type": "code",
   "execution_count": 4,
   "metadata": {
    "collapsed": true,
    "ExecuteTime": {
     "start_time": "2023-06-27T14:14:43.699248Z",
     "end_time": "2023-06-27T14:14:43.714876Z"
    }
   },
   "outputs": [
    {
     "data": {
      "text/plain": "['13_00000.wav',\n '13_00120.wav',\n '13_00240.wav',\n '13_00360.wav',\n '13_00480.wav',\n '13_00600.wav',\n '13_00720.wav',\n '13_00840.wav',\n '13_00960.wav',\n '13_01080.wav',\n '13_01200.wav',\n '13_01320.wav',\n '13_01440.wav',\n '13_01560.wav',\n '13_01680.wav',\n '13_01800.wav',\n '13_01920.wav']"
     },
     "execution_count": 4,
     "metadata": {},
     "output_type": "execute_result"
    }
   ],
   "source": [
    "import os\n",
    "\n",
    "base_path = r\"C:\\Users\\HKIT\\PycharmProjects\\yhdatabase\"\n",
    "save_path = base_path + r\"\\wav\"\n",
    "os.listdir(save_path)"
   ]
  },
  {
   "cell_type": "code",
   "execution_count": 16,
   "outputs": [
    {
     "name": "stdout",
     "output_type": "stream",
     "text": [
      "642_00000.wav 파일이 삭제되었습니다.\n"
     ]
    }
   ],
   "source": [
    "import os\n",
    "\n",
    "base_path = r\"C:\\Users\\HKIT\\PycharmProjects\\yhdatabase\"\n",
    "save_path = base_path + r\"\\wav\"\n",
    "\n",
    "for filename in os.listdir(save_path):\n",
    "    file_path = os.path.join(save_path, filename)\n",
    "    if os.path.isfile(file_path):\n",
    "        os.remove(file_path)\n",
    "        print(f\"{filename} 파일이 삭제되었습니다.\")"
   ],
   "metadata": {
    "collapsed": false,
    "ExecuteTime": {
     "start_time": "2023-06-27T14:48:19.879300Z",
     "end_time": "2023-06-27T14:48:19.899885Z"
    }
   }
  },
  {
   "cell_type": "code",
   "execution_count": 11,
   "outputs": [
    {
     "name": "stdout",
     "output_type": "stream",
     "text": [
      "('1', '2')\n",
      "('fdjslafme', '1')\n"
     ]
    }
   ],
   "source": [
    "import mariadb\n",
    "\n",
    "# DB 연결 설정\n",
    "conn = mariadb.connect(\n",
    "    user=\"root\",\n",
    "    password=\"1234\",\n",
    "    host=\"127.0.0.1\",\n",
    "    port=3309,\n",
    "    database=\"mysql\"\n",
    ")\n",
    "\n",
    "# DB에서 데이터 조회\n",
    "cursor = conn.cursor()\n",
    "query = \"SELECT * FROM test\"\n",
    "cursor.execute(query)\n",
    "\n",
    "# 데이터 처리\n",
    "for row in cursor:\n",
    "    text = row[0]\n",
    "    print(text)\n",
    "\n",
    "# DB 연결 종료\n",
    "cursor.close()\n",
    "conn.close()\n"
   ],
   "metadata": {
    "collapsed": false,
    "ExecuteTime": {
     "start_time": "2023-06-27T21:01:45.705550Z",
     "end_time": "2023-06-27T21:01:45.716526Z"
    }
   }
  },
  {
   "cell_type": "code",
   "execution_count": 1,
   "outputs": [
    {
     "name": "stdout",
     "output_type": "stream",
     "text": [
      "파일 '882.txt'의 글자 수: 3052\n"
     ]
    }
   ],
   "source": [
    "filename = \"new_쇼핑.txt\"  # 실제 파일 경로와 이름으로 변경해주세요\n",
    "\n",
    "# 파일 열기\n",
    "with open(filename, \"r\", encoding=\"utf-8\") as file:\n",
    "    content = file.read()  # 파일 내용 읽기\n",
    "\n",
    "character_count = len(content)  # 문자열 길이 계산\n",
    "\n",
    "print(f\"파일 '{filename}'의 글자 수: {character_count}\")\n"
   ],
   "metadata": {
    "collapsed": false,
    "ExecuteTime": {
     "start_time": "2023-06-27T17:27:07.386621Z",
     "end_time": "2023-06-27T17:27:07.401872Z"
    }
   }
  },
  {
   "cell_type": "code",
   "execution_count": 3,
   "outputs": [],
   "source": [
    "# DB 연결 설정\n",
    "conn = mariadb.connect(\n",
    "    user=\"root\",\n",
    "    password=\"1234\",\n",
    "    host=\"127.0.0.1\",\n",
    "    port=3309,\n",
    "    database=\"mysql\"\n",
    ")\n",
    "\n",
    "# DB에서 데이터 조회\n",
    "cursor = conn.cursor()\n",
    "#query = \"create table test2(text varchar(60000), result varchar(10))\"\n",
    "query = \"insert into\"\n",
    "cursor.execute(query)\n",
    "\n",
    "# DB 연결 종료\n",
    "cursor.close()\n",
    "conn.close()"
   ],
   "metadata": {
    "collapsed": false,
    "ExecuteTime": {
     "start_time": "2023-06-27T16:28:13.235373Z",
     "end_time": "2023-06-27T16:28:13.269371Z"
    }
   }
  },
  {
   "cell_type": "code",
   "execution_count": 10,
   "outputs": [],
   "source": [
    "import mariadb\n",
    "\n",
    "# DB 연결 설정\n",
    "conn = mariadb.connect(\n",
    "    user=\"root\",\n",
    "    password=\"1234\",\n",
    "    host=\"127.0.0.1\",\n",
    "    port=3309,\n",
    "    database=\"mysql\"\n",
    ")\n",
    "\n",
    "# DB에서 데이터 조회\n",
    "cursor = conn.cursor()\n",
    "query = \"insert into test values ('werasdsa')\"\n",
    "cursor.execute(query)\n",
    "conn.commit()\n",
    "\n",
    "# DB 연결 종료\n",
    "cursor.close()\n",
    "conn.close()\n"
   ],
   "metadata": {
    "collapsed": false,
    "ExecuteTime": {
     "start_time": "2023-06-27T20:58:22.922780Z",
     "end_time": "2023-06-27T20:58:22.938430Z"
    }
   }
  },
  {
   "cell_type": "code",
   "execution_count": 6,
   "outputs": [
    {
     "name": "stdout",
     "output_type": "stream",
     "text": [
      "column_stats\n",
      "columns_priv\n",
      "db\n",
      "event\n",
      "flask\n",
      "func\n",
      "general_log\n",
      "global_priv\n",
      "gtid_slave_pos\n",
      "help_category\n",
      "help_keyword\n",
      "help_relation\n",
      "help_topic\n",
      "index_stats\n",
      "innodb_index_stats\n",
      "innodb_table_stats\n",
      "plugin\n",
      "proc\n",
      "procs_priv\n",
      "proxies_priv\n",
      "roles_mapping\n",
      "servers\n",
      "slow_log\n",
      "sq_test\n",
      "table_stats\n",
      "tables_priv\n",
      "time_zone\n",
      "time_zone_leap_second\n",
      "time_zone_name\n",
      "time_zone_transition\n",
      "time_zone_transition_type\n",
      "transaction_registry\n",
      "user\n"
     ]
    }
   ],
   "source": [
    "import mariadb\n",
    "\n",
    "# MariaDB 연결 설정\n",
    "conn = mariadb.connect(\n",
    "    user=\"root\",\n",
    "    password=\"1234\",\n",
    "    host=\"127.0.0.1\",\n",
    "    port=3309\n",
    ")\n",
    "\n",
    "# 연결 성공 시 데이터베이스 이름 가져오기\n",
    "\n",
    "cursor = conn.cursor()\n",
    "cursor.execute(\"SHOW DATABASES\")\n",
    "databases = cursor.fetchall()\n",
    "\n",
    "# 데이터베이스 이름 출력\n",
    "for db in databases:\n",
    "    print(db[0])\n",
    "\n",
    "# 연결 종료\n",
    "cursor.close()\n",
    "conn.close()"
   ],
   "metadata": {
    "collapsed": false,
    "ExecuteTime": {
     "start_time": "2023-06-27T20:54:15.112938Z",
     "end_time": "2023-06-27T20:54:15.134710Z"
    }
   }
  },
  {
   "cell_type": "code",
   "execution_count": null,
   "outputs": [],
   "source": [
    "import mariadb\n",
    "\n",
    "# DB 연결 설정\n",
    "conn = mariadb.connect(\n",
    "    user=\"root\",\n",
    "    password=\"1234\",\n",
    "    host=\"127.0.0.1\",\n",
    "    port=3309,\n",
    "    database=\"mysql\"\n",
    ")\n",
    "\n",
    "# DB에서 데이터 조회\n",
    "cursor = conn.cursor()\n",
    "query = \"drop table test;\"\n",
    "cursor.execute(query)\n",
    "conn.commit()\n",
    "\n",
    "# DB 연결 종료\n",
    "cursor.close()\n",
    "conn.close()\n"
   ],
   "metadata": {
    "collapsed": false
   }
  },
  {
   "cell_type": "code",
   "execution_count": 2,
   "outputs": [
    {
     "name": "stdout",
     "output_type": "stream",
     "text": [
      "301project\n",
      "TestPlace_01\n",
      "information_schema\n",
      "mysql\n",
      "performance_schema\n",
      "sys\n"
     ]
    }
   ],
   "source": [
    "import mariadb\n",
    "conn = mariadb.connect(\n",
    "    user=\"root\",\n",
    "    password=\"hkit301301\",\n",
    "    host=\"182.229.34.184\",\n",
    "    port=3306,\n",
    "    database=\"301project\"\n",
    ")\n",
    "\n",
    "cursor = conn.cursor()\n",
    "cursor.execute(\"SHOW DATABASES\")\n",
    "databases = cursor.fetchall()\n",
    "\n",
    "# 데이터베이스 이름 출력\n",
    "for db in databases:\n",
    "    print(db[0])\n",
    "\n",
    "# 연결 종료\n",
    "cursor.close()\n",
    "conn.close()"
   ],
   "metadata": {
    "collapsed": false,
    "ExecuteTime": {
     "start_time": "2023-06-27T16:24:43.703516Z",
     "end_time": "2023-06-27T16:24:43.823493Z"
    }
   }
  },
  {
   "cell_type": "code",
   "execution_count": null,
   "outputs": [],
   "source": [
    "conn = mariadb.connect(\n",
    "                user=\"root\",\n",
    "                password=\"1234\",\n",
    "                host=\"127.0.0.1\",\n",
    "                port=3309,\n",
    "                database=\"mysql\",\n",
    "            )\n",
    "\n",
    "cursor = conn.cursor()\n",
    "query = f\"INSERT INTO flask(textt, result) values ('{text_final}','{detect}')\"\n",
    "cursor.execute(query)\n",
    "conn.commit()\n",
    "cursor.close()\n",
    "conn.close()"
   ],
   "metadata": {
    "collapsed": false
   }
  },
  {
   "cell_type": "code",
   "execution_count": 1,
   "outputs": [
    {
     "data": {
      "text/plain": "'C:\\\\Users\\\\HKIT\\\\PycharmProjects\\\\yhdatabase'"
     },
     "execution_count": 1,
     "metadata": {},
     "output_type": "execute_result"
    }
   ],
   "source": [
    "import os\n",
    "os.getcwd()"
   ],
   "metadata": {
    "collapsed": false,
    "ExecuteTime": {
     "start_time": "2023-06-28T08:51:04.690540Z",
     "end_time": "2023-06-28T08:51:04.706241Z"
    }
   }
  },
  {
   "cell_type": "code",
   "execution_count": 2,
   "outputs": [
    {
     "data": {
      "text/plain": "['.git',\n '.idea',\n '25.m4a',\n '27.m4a',\n '38_음성을_30초로_자르기',\n '642.m4a',\n 'database.py',\n 'database_final.py',\n 'failcode',\n 'model',\n 'reference',\n 'sampling',\n 'static',\n 'templates',\n 'testt.py',\n 'ttest.ipynb',\n 'txt',\n 'voice.txt',\n 'wav',\n 'wav_filename',\n '__pycache__',\n '쇼핑_1156.m4a',\n '쇼핑_642.m4a']"
     },
     "execution_count": 2,
     "metadata": {},
     "output_type": "execute_result"
    }
   ],
   "source": [
    "os.listdir()"
   ],
   "metadata": {
    "collapsed": false,
    "ExecuteTime": {
     "start_time": "2023-06-28T08:51:35.837309Z",
     "end_time": "2023-06-28T08:51:35.897582Z"
    }
   }
  },
  {
   "cell_type": "code",
   "execution_count": null,
   "outputs": [],
   "source": [],
   "metadata": {
    "collapsed": false
   }
  }
 ],
 "metadata": {
  "kernelspec": {
   "display_name": "Python 3",
   "language": "python",
   "name": "python3"
  },
  "language_info": {
   "codemirror_mode": {
    "name": "ipython",
    "version": 2
   },
   "file_extension": ".py",
   "mimetype": "text/x-python",
   "name": "python",
   "nbconvert_exporter": "python",
   "pygments_lexer": "ipython2",
   "version": "2.7.6"
  }
 },
 "nbformat": 4,
 "nbformat_minor": 0
}
