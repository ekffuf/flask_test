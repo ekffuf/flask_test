{
 "cells": [
  {
   "cell_type": "code",
   "execution_count": 2,
   "metadata": {
    "collapsed": true,
    "ExecuteTime": {
     "start_time": "2023-06-26T18:26:52.318351Z",
     "end_time": "2023-06-26T18:26:55.860458Z"
    }
   },
   "outputs": [],
   "source": [
    "from flask import Flask, render_template, request\n",
    "from flask_restx import Api, Resource\n",
    "from pydub import AudioSegment\n",
    "import speech_recognition as sr\n",
    "from keras.models import load_model\n",
    "from keras.utils import pad_sequences\n",
    "import urllib.parse\n",
    "import os\n",
    "import pickle as pk\n",
    "import librosa\n",
    "import soundfile as sf\n",
    "import math\n",
    "\n",
    "def m4a_wav_convert(path):\n",
    "    encoded_path = urllib.parse.unquote(path)\n",
    "    m4a_file = AudioSegment.from_file(encoded_path, format=\"m4a\", encoding=\"utf-8\")\n",
    "    wav_path = encoded_path.replace(\".m4a\", \".wav\")\n",
    "    m4a_file.export(wav_path, format=\"wav\")\n",
    "    print(wav_path)\n",
    "    return wav_path\n",
    "\n",
    "\n",
    "def trim_audio_data(wav_path, save_file, start_time=0.0, sec=30):\n",
    "    sr = 44100\n",
    "    y, sr = librosa.load(wav_path, sr=sr)\n",
    "    sec_total = int(librosa.get_duration(y=y, sr=sr))\n",
    "    ny = y[start_time * sr:sr * (sec + start_time)]\n",
    "    my = sf.write(save_file + f\"_{start_time}.wav\", ny, sr)\n",
    "    return my\n",
    "\n",
    "base_path = r\"C:\\Users\\HKIT\\PycharmProjects\\yhdatabase\"\n",
    "audio_path = base_path + r\"\\wav_filename\"\n",
    "save_path = base_path + r\"\\wav\"\n",
    "audio_list = os.listdir(audio_path)\n",
    "audio_list = [\"25.m4a\"]  # 임시 라인임!!!!!!!!!!!!\n",
    "\n",
    "def cut_wav(my):\n",
    "    for audio_name in audio_list:\n",
    "        if audio_name.find('wav'):\n",
    "            audio_file = audio_path + \"\\\\\" + audio_name\n",
    "            save_file = save_path + \"\\\\\" + audio_name[:-4]\n",
    "            f = sf.SoundFile(audio_file)\n",
    "            f_sec = f.frames // f.samplerate\n",
    "            print(audio_file, \" seconds, \", f_sec)\n",
    "\n",
    "            sec = 30\n",
    "            data_list = []\n",
    "            for i in range(math.ceil(f_sec / sec)):\n",
    "                if i * 30 > f_sec:\n",
    "                    break\n",
    "                data_list.append(trim_audio_data(audio_file, save_file, i * 30, sec))\n",
    "        return data_list\n",
    "\n",
    "def transcribe_audio(data_list):\n",
    "    text_list = []\n",
    "    for i in data_list:\n",
    "        r = sr.Recognizer()\n",
    "        with sr.AudioFile(i) as source:\n",
    "            audio = r.record(source)\n",
    "        text = r.recognize_google(audio, language='ko-KR')\n",
    "        text_list.append(text)\n",
    "    return text_list\n",
    "\n",
    "def concatenate_texts(text_list):\n",
    "    concatenated_text = ' '.join(text_list)\n",
    "    print(concatenated_text)\n",
    "    return concatenated_text\n",
    "\n",
    "\n",
    "m4apath = \"25.m4a\"\n",
    "wav_path = m4a_wav_convert(m4apath)\n",
    "cut = cut_wav(wav_path)\n",
    "stt = transcribe_audio(cut)\n",
    "text_final = concatenate_texts(stt)"
   ]
  },
  {
   "cell_type": "code",
   "execution_count": null,
   "outputs": [],
   "source": [],
   "metadata": {
    "collapsed": false
   }
  }
 ],
 "metadata": {
  "kernelspec": {
   "display_name": "Python 3",
   "language": "python",
   "name": "python3"
  },
  "language_info": {
   "codemirror_mode": {
    "name": "ipython",
    "version": 2
   },
   "file_extension": ".py",
   "mimetype": "text/x-python",
   "name": "python",
   "nbconvert_exporter": "python",
   "pygments_lexer": "ipython2",
   "version": "2.7.6"
  }
 },
 "nbformat": 4,
 "nbformat_minor": 0
}
