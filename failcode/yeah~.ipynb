{
 "cells": [
  {
   "cell_type": "code",
   "execution_count": 6,
   "metadata": {
    "collapsed": true,
    "ExecuteTime": {
     "start_time": "2023-07-04T11:05:28.300440Z",
     "end_time": "2023-07-04T11:05:28.316439Z"
    }
   },
   "outputs": [],
   "source": [
    "import os\n",
    "import numpy as np\n",
    "import pandas as pd\n",
    "import tensorflow as tf\n",
    "import mariadb\n",
    "from tensorflow.keras.preprocessing.text import Tokenizer\n",
    "from tensorflow.keras.preprocessing.sequence import pad_sequences\n",
    "from sklearn.model_selection import train_test_split\n",
    "from keras.models import Sequential"
   ]
  },
  {
   "cell_type": "code",
   "execution_count": 2,
   "outputs": [],
   "source": [
    "conn = mariadb.connect(\n",
    "    user=\"user\",\n",
    "    password=\"password\",\n",
    "    host=\"host\",\n",
    "    port=port,\n",
    "    database=\"database\"\n",
    ")\n",
    "\n",
    "#DB메인코드\n",
    "# 커서로 sql문 실행\n",
    "cursor = conn.cursor()\n",
    "#실행할 SQL문\n",
    "query = \"SELECT CONVERT(content USING UTF8),disdata from voicedata\"\n",
    "cursor.execute(query)\n",
    "result = cursor.fetchall()\n",
    " # 커서닫기\n",
    "cursor.close()\n",
    "conn.close()"
   ],
   "metadata": {
    "collapsed": false,
    "ExecuteTime": {
     "start_time": "2023-07-04T11:03:27.554599Z",
     "end_time": "2023-07-04T11:03:28.141483Z"
    }
   }
  },
  {
   "cell_type": "code",
   "execution_count": 3,
   "outputs": [],
   "source": [
    "X = [i[0] for i in result]\n",
    "y = np.array([i[1] for i in result]).astype('float64')\n",
    "df = pd.DataFrame({\"document\": X, \"label\": y})"
   ],
   "metadata": {
    "collapsed": false,
    "ExecuteTime": {
     "start_time": "2023-07-04T11:03:35.627262Z",
     "end_time": "2023-07-04T11:03:35.645229Z"
    }
   }
  },
  {
   "cell_type": "code",
   "execution_count": 4,
   "outputs": [],
   "source": [
    "MAX_LEN = 1000\n",
    "TRUNC = \"pre\"\n",
    "\n",
    "train_input, val_input, train_target, val_target = train_test_split(df[\"document\"], df[\"label\"], test_size=0.4, stratify=df[\"label\"])\n",
    "tokenizer = Tokenizer()\n",
    "\n",
    "tokenizer.fit_on_texts(train_input)\n",
    "train_sequences = tokenizer.texts_to_sequences(train_input)\n",
    "\n",
    "train_seq = pad_sequences(train_sequences, maxlen=MAX_LEN, truncating=TRUNC)\n",
    "val_sequences = tokenizer.texts_to_sequences(val_input)\n",
    "val_seq = pad_sequences(val_sequences, maxlen=MAX_LEN, truncating=TRUNC)"
   ],
   "metadata": {
    "collapsed": false,
    "ExecuteTime": {
     "start_time": "2023-07-04T11:03:38.381350Z",
     "end_time": "2023-07-04T11:03:39.180834Z"
    }
   }
  },
  {
   "cell_type": "code",
   "execution_count": 5,
   "outputs": [
    {
     "ename": "AttributeError",
     "evalue": "module 'keras.api._v2.keras.layers' has no attribute 'MLP'",
     "output_type": "error",
     "traceback": [
      "\u001B[1;31m---------------------------------------------------------------------------\u001B[0m",
      "\u001B[1;31mAttributeError\u001B[0m                            Traceback (most recent call last)",
      "Cell \u001B[1;32mIn[5], line 3\u001B[0m\n\u001B[0;32m      1\u001B[0m model \u001B[38;5;241m=\u001B[39m tf\u001B[38;5;241m.\u001B[39mkeras\u001B[38;5;241m.\u001B[39mSequential()\n\u001B[0;32m      2\u001B[0m model\u001B[38;5;241m.\u001B[39madd(tf\u001B[38;5;241m.\u001B[39mkeras\u001B[38;5;241m.\u001B[39mlayers\u001B[38;5;241m.\u001B[39mEmbedding(input_dim\u001B[38;5;241m=\u001B[39m\u001B[38;5;241m100000\u001B[39m, output_dim\u001B[38;5;241m=\u001B[39m\u001B[38;5;241m64\u001B[39m, input_length\u001B[38;5;241m=\u001B[39mMAX_LEN))\n\u001B[1;32m----> 3\u001B[0m model\u001B[38;5;241m.\u001B[39madd(tf\u001B[38;5;241m.\u001B[39mkeras\u001B[38;5;241m.\u001B[39mlayers\u001B[38;5;241m.\u001B[39mBidirectional(\u001B[43mtf\u001B[49m\u001B[38;5;241;43m.\u001B[39;49m\u001B[43mkeras\u001B[49m\u001B[38;5;241;43m.\u001B[39;49m\u001B[43mlayers\u001B[49m\u001B[38;5;241;43m.\u001B[39;49m\u001B[43mMLP\u001B[49m(\u001B[38;5;241m2\u001B[39m, return_sequences\u001B[38;5;241m=\u001B[39m\u001B[38;5;28;01mTrue\u001B[39;00m)))\n\u001B[0;32m      4\u001B[0m model\u001B[38;5;241m.\u001B[39madd(tf\u001B[38;5;241m.\u001B[39mkeras\u001B[38;5;241m.\u001B[39mlayers\u001B[38;5;241m.\u001B[39mBidirectional(tf\u001B[38;5;241m.\u001B[39mkeras\u001B[38;5;241m.\u001B[39mlayers\u001B[38;5;241m.\u001B[39mMLP(\u001B[38;5;241m2\u001B[39m, return_sequences\u001B[38;5;241m=\u001B[39m\u001B[38;5;28;01mFalse\u001B[39;00m)))\n\u001B[0;32m      5\u001B[0m model\u001B[38;5;241m.\u001B[39madd(tf\u001B[38;5;241m.\u001B[39mkeras\u001B[38;5;241m.\u001B[39mlayers\u001B[38;5;241m.\u001B[39mDropout(rate\u001B[38;5;241m=\u001B[39m\u001B[38;5;241m0.3\u001B[39m))\n",
      "\u001B[1;31mAttributeError\u001B[0m: module 'keras.api._v2.keras.layers' has no attribute 'MLP'"
     ]
    }
   ],
   "source": [
    "model = tf.keras.Sequential()\n",
    "model.add(tf.keras.layers.Embedding(input_dim=100000, output_dim=64, input_length=MAX_LEN))\n",
    "model.add(tf.keras.layers.Bidirectional(tf.keras.layers.(2, return_sequences=True)))\n",
    "model.add(tf.keras.layers.Bidirectional(tf.keras.layers.MLP(2, return_sequences=False)))\n",
    "model.add(tf.keras.layers.Dropout(rate=0.3))\n",
    "model.add(tf.keras.layers.Dense(1, activation=\"sigmoid\"))"
   ],
   "metadata": {
    "collapsed": false
   }
  },
  {
   "cell_type": "code",
   "execution_count": null,
   "outputs": [],
   "source": [
    "model.compile(loss=\"binary_crossentropy\", optimizer=\"adam\", metrics=[\"accuracy\"])\n",
    "history = model.fit(train_seq, train_target, epochs=50, batch_size=32, validation_data=(val_seq, val_target))"
   ],
   "metadata": {
    "collapsed": false
   }
  }
 ],
 "metadata": {
  "kernelspec": {
   "display_name": "Python 3",
   "language": "python",
   "name": "python3"
  },
  "language_info": {
   "codemirror_mode": {
    "name": "ipython",
    "version": 2
   },
   "file_extension": ".py",
   "mimetype": "text/x-python",
   "name": "python",
   "nbconvert_exporter": "python",
   "pygments_lexer": "ipython2",
   "version": "2.7.6"
  }
 },
 "nbformat": 4,
 "nbformat_minor": 0
}
