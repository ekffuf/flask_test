{
 "cells": [
  {
   "cell_type": "code",
   "execution_count": 1,
   "metadata": {
    "collapsed": true
   },
   "outputs": [
    {
     "ename": "ProgrammingError",
     "evalue": "statement (1) doesn't match the number of data elements (0).",
     "output_type": "error",
     "traceback": [
      "\u001B[1;31m---------------------------------------------------------------------------\u001B[0m",
      "\u001B[1;31mProgrammingError\u001B[0m                          Traceback (most recent call last)",
      "Cell \u001B[1;32mIn[1], line 16\u001B[0m\n\u001B[0;32m     14\u001B[0m             line \u001B[38;5;241m=\u001B[39m line\u001B[38;5;241m.\u001B[39mstrip()\n\u001B[0;32m     15\u001B[0m             query \u001B[38;5;241m=\u001B[39m \u001B[38;5;124mf\u001B[39m\u001B[38;5;124m\"\u001B[39m\u001B[38;5;124mINSERT INTO flask (text,result) VALUES (\u001B[39m\u001B[38;5;124m'\u001B[39m\u001B[38;5;132;01m{\u001B[39;00mline\u001B[38;5;132;01m}\u001B[39;00m\u001B[38;5;124m'\u001B[39m\u001B[38;5;124m,\u001B[39m\u001B[38;5;124m'\u001B[39m\u001B[38;5;124m0\u001B[39m\u001B[38;5;124m'\u001B[39m\u001B[38;5;124m)\u001B[39m\u001B[38;5;124m\"\u001B[39m\n\u001B[1;32m---> 16\u001B[0m             \u001B[43mcursor\u001B[49m\u001B[38;5;241;43m.\u001B[39;49m\u001B[43mexecute\u001B[49m\u001B[43m(\u001B[49m\u001B[43mquery\u001B[49m\u001B[43m)\u001B[49m\n\u001B[0;32m     17\u001B[0m conn\u001B[38;5;241m.\u001B[39mcommit()\n\u001B[0;32m     18\u001B[0m cursor\u001B[38;5;241m.\u001B[39mclose()\n",
      "File \u001B[1;32m~\\anaconda3\\lib\\site-packages\\mariadb\\cursors.py:277\u001B[0m, in \u001B[0;36mCursor.execute\u001B[1;34m(self, statement, data, buffered)\u001B[0m\n\u001B[0;32m    275\u001B[0m \u001B[38;5;66;03m# parse statement and check param style\u001B[39;00m\n\u001B[0;32m    276\u001B[0m \u001B[38;5;28;01mif\u001B[39;00m do_parse:\n\u001B[1;32m--> 277\u001B[0m     \u001B[38;5;28;43mself\u001B[39;49m\u001B[38;5;241;43m.\u001B[39;49m\u001B[43m_parse_execute\u001B[49m\u001B[43m(\u001B[49m\u001B[43mstatement\u001B[49m\u001B[43m,\u001B[49m\u001B[43m \u001B[49m\u001B[43m(\u001B[49m\u001B[43mdata\u001B[49m\u001B[43m)\u001B[49m\u001B[43m)\u001B[49m\n\u001B[0;32m    279\u001B[0m \u001B[38;5;28mself\u001B[39m\u001B[38;5;241m.\u001B[39m_description \u001B[38;5;241m=\u001B[39m \u001B[38;5;28;01mNone\u001B[39;00m\n\u001B[0;32m    281\u001B[0m \u001B[38;5;66;03m# CONPY-218: Allow None as replacement for empty tuple\u001B[39;00m\n",
      "File \u001B[1;32m~\\anaconda3\\lib\\site-packages\\mariadb\\cursors.py:221\u001B[0m, in \u001B[0;36mCursor._parse_execute\u001B[1;34m(self, statement, data, is_bulk)\u001B[0m\n\u001B[0;32m    217\u001B[0m     \u001B[38;5;28mself\u001B[39m\u001B[38;5;241m.\u001B[39m_text \u001B[38;5;241m=\u001B[39m \u001B[38;5;28;01mFalse\u001B[39;00m\n\u001B[0;32m    219\u001B[0m \u001B[38;5;28mself\u001B[39m\u001B[38;5;241m.\u001B[39m_data \u001B[38;5;241m=\u001B[39m data\n\u001B[1;32m--> 221\u001B[0m \u001B[38;5;28;43mself\u001B[39;49m\u001B[38;5;241;43m.\u001B[39;49m\u001B[43m_check_execute_params\u001B[49m\u001B[43m(\u001B[49m\u001B[43m)\u001B[49m\n",
      "File \u001B[1;32m~\\anaconda3\\lib\\site-packages\\mariadb\\cursors.py:167\u001B[0m, in \u001B[0;36mCursor._check_execute_params\u001B[1;34m(self)\u001B[0m\n\u001B[0;32m    161\u001B[0m \u001B[38;5;28;01melse\u001B[39;00m:\n\u001B[0;32m    162\u001B[0m     \u001B[38;5;66;03m# check if number of place holders matches the number of\u001B[39;00m\n\u001B[0;32m    163\u001B[0m     \u001B[38;5;66;03m# supplied elements in data tuple\u001B[39;00m\n\u001B[0;32m    164\u001B[0m     \u001B[38;5;28;01mif\u001B[39;00m \u001B[38;5;28mself\u001B[39m\u001B[38;5;241m.\u001B[39m_paramlist \u001B[38;5;129;01mand\u001B[39;00m (\n\u001B[0;32m    165\u001B[0m        (\u001B[38;5;129;01mnot\u001B[39;00m \u001B[38;5;28mself\u001B[39m\u001B[38;5;241m.\u001B[39m_data \u001B[38;5;129;01mand\u001B[39;00m \u001B[38;5;28mlen\u001B[39m(\u001B[38;5;28mself\u001B[39m\u001B[38;5;241m.\u001B[39m_paramlist) \u001B[38;5;241m>\u001B[39m \u001B[38;5;241m0\u001B[39m) \u001B[38;5;129;01mor\u001B[39;00m\n\u001B[0;32m    166\u001B[0m        (\u001B[38;5;28mlen\u001B[39m(\u001B[38;5;28mself\u001B[39m\u001B[38;5;241m.\u001B[39m_data) \u001B[38;5;241m!=\u001B[39m \u001B[38;5;28mlen\u001B[39m(\u001B[38;5;28mself\u001B[39m\u001B[38;5;241m.\u001B[39m_paramlist))):\n\u001B[1;32m--> 167\u001B[0m         \u001B[38;5;28;01mraise\u001B[39;00m mariadb\u001B[38;5;241m.\u001B[39mProgrammingError(\n\u001B[0;32m    168\u001B[0m             \u001B[38;5;124m\"\u001B[39m\u001B[38;5;124mstatement (\u001B[39m\u001B[38;5;132;01m%s\u001B[39;00m\u001B[38;5;124m) doesn\u001B[39m\u001B[38;5;124m'\u001B[39m\u001B[38;5;124mt match the number of data elements\u001B[39m\u001B[38;5;124m\"\u001B[39m\n\u001B[0;32m    169\u001B[0m             \u001B[38;5;124m\"\u001B[39m\u001B[38;5;124m (\u001B[39m\u001B[38;5;132;01m%s\u001B[39;00m\u001B[38;5;124m).\u001B[39m\u001B[38;5;124m\"\u001B[39m \u001B[38;5;241m%\u001B[39m (\u001B[38;5;28mlen\u001B[39m(\u001B[38;5;28mself\u001B[39m\u001B[38;5;241m.\u001B[39m_paramlist), \u001B[38;5;28mlen\u001B[39m(\u001B[38;5;28mself\u001B[39m\u001B[38;5;241m.\u001B[39m_data)))\n",
      "\u001B[1;31mProgrammingError\u001B[0m: statement (1) doesn't match the number of data elements (0)."
     ]
    }
   ],
   "source": [
    "import mariadb\n",
    "\n",
    "conn = mariadb.connect(\n",
    "                user=\"root\",\n",
    "                password=\"hkit301301\",\n",
    "                host=\"182.229.34.184\",\n",
    "                port=3306,\n",
    "                database=\"301project\",\n",
    "            )\n",
    "cursor = conn.cursor()\n",
    "with open(\"./txt/0.txt\", \"r\", encoding=\"utf8\") as file:\n",
    "        lines = file.readlines()\n",
    "        for line in lines:\n",
    "            line = line.strip()\n",
    "            query = f\"INSERT INTO flask2 (text,result) VALUES ('{line}','0')\"\n",
    "            cursor.execute(query)\n",
    "conn.commit()\n",
    "cursor.close()\n",
    "conn.close()"
   ]
  },
  {
   "cell_type": "code",
   "execution_count": 33,
   "outputs": [],
   "source": [
    "import mariadb\n",
    "\n",
    "conn = mariadb.connect(\n",
    "            user=\"root\",\n",
    "            password=\"hkit301301\",\n",
    "            host=\"182.229.34.184\",\n",
    "            port=3306,\n",
    "            database=\"301project\",\n",
    "            )\n",
    "cursor = conn.cursor()\n",
    "with open(\"./txt/new_쇼핑.txt\", encoding=\"utf-8\") as f:\n",
    "    txt = f.read()\n",
    "txt = txt.split(\"\\n\")"
   ],
   "metadata": {
    "collapsed": false,
    "ExecuteTime": {
     "start_time": "2023-06-28T18:25:11.035295Z",
     "end_time": "2023-06-28T18:25:11.177484Z"
    }
   }
  },
  {
   "cell_type": "code",
   "execution_count": 36,
   "outputs": [
    {
     "data": {
      "text/plain": "'서비스 제공을 위해 성함 생년월일 성별 주소 연락처를 등록하고 있습니다 이에 동의하십니까네 감사합니다 성함 말씀 부탁드립니다 0025 확인 감사합니다 생년월일 6자리 말씀 부탁드립니다 궁둥이 확인 감사합니다 전화번호 말씀 부탁드립니다 000000 정보 확인 감사합니다 유선번호 등록해 드릴까요 아니요 감사합니다 주소 말씀 부탁드립니다 서울 서초구 00 00 00 00 00 00 죄송하지만 00 00 파티요네네 고객님 말씀하신 주소 서울 서초구 000000 아파트 00 00 00 맞습니까 맞아요네 확인 감사합니다 이벤트나 상품 서비스 문자로 드릴 수 있습니다네 그렇게 해 주세요 예 방송 보시는 상품 요청하신 대로 책상 위에 블랙과 화이트가 있습니다 어느 상품으로 하실 건가요 화이트로 주세요 예 화이트색상 자동 주문 5,000원 할인 혜택 드려서 14만 4천 원 결제 도움 드리겠습니다 결제 카드 하시겠습니까네 그걸로 할게요 카드 번호 말씀 부탁드립니다 4 0 0 0 0 공구 점핑 000 아니 지금 이게 여러가지 운동할 수 있다는 거죠네 맞습니다 아 이거는 자동 주문이 안 되네요 제가 등록이 안 된다고 그러는데요 지금 자동 주문 하셨는데요 등록이 안 돼서 아마 상담사 연결 된 것 같습니다 고객님 본인 되십니까네 맞아요 카드 소유주 000 님의 생년월일 6자리 다시 한번 말씀 부탁드립니다 000000 확인 감사합니다 카드 유효기간 말씀 부탁드립니다 공금을 공공연히 아 예 감사합니다 목요일까지 무이자 할부 가능합니다 아니요 20으로 해 주세요 일시불은 만 원 할인 혜택 드려서 13만 4천 원에 결제 도움 드리겠습니다네 고객님의 안전한 결제를 위해 카드인증 ARS로 연결합니다 안내멘트에 따라 카드 비밀번호 앞 두 자리 입력 부탁드립니다 연결하였습니다네 내일 요청하신 올인원스쿼트머신 화이트 색상 134,000원 20을 승인 도움 드렸습니다네 다음번 편리한 결제를 위해 카드 정보 등록해제 있도록 할까요네 그럴게요 감사합니다 상품 배송은 일요일 공휴일 제외 일주일 내내 배송이 됩니다네 교환이나 반품은 배송 받으신 날로부터 30일 이내에 연락을 주셔야 하며 제품에 개봉 및 사용 시 기간 경과 시 교환 반품 불가합니다 그런데 언제 배송 된다고요 일요일 공휴일 제외하고 4일입니다 안에 만약에 다음 주 월요일 날 배송도 가능 해요 저희가 여행을 가서 조금 이번 주는 좀 그래서요 그렇게는 조금 어려울 거 같은데요 언제 여행 가시는 건가요 안 돼요 이번 주 중 3일 동안 사람이 없는데요 혹시 여기 아파트인데 아파트 경비실은 보관이 어려울 거예요 그런데 그이나 2일 날 출발하게 되면 바로 그 다음 날 오지 않아요 저희가 이제 보통은 말씀드린 것이 일요일 날이 연휴 때문에 업체에서 2일 날 출고 될 수도 있는데요 아마 3일 날 주문 안 되어 있을 거예요 언제요네 그런데 아직 정확하게 전달받지 못했습니다 그럼 3일이나 4일 날 주문한 거네요 예 그래서 넉넉하게 오히려 안으로 배송이 되는데 고객님 그 여행 스케줄 하고 비슷할 것 같거든요 그래서 저는 만약이 주문을 2일로 해 주신 다든가 3일 날로 해 주거나 이렇게 하면 안 되는 건가요네 그렇게는 어렵지 고객님 아 그럼 지금 바로 그냥 되는 거예요네 승인 하셨기 때문에 되는 거고요 아네네 이게 지금 오늘 일이잖아요 현금 입금 하신다고 그래도 늦어도 3일 날 입금을 하셔야만 유지가 되는 거거든요 아네 그렇군요 아니면 3일 날 했는데 무통장입금 처리 해 놓으면 3일 날 전화 한번 주셔서 이거 그러면 좀 연장해 주세요라고 하시면 될 것 같고요 그럼 어떻게 하라고요 다시 그럼 카드 안 하고요네 그럼 제가 카드 취소를 하고 무통장 입금 처리 하는 거죠네 금요일은 동일 하니까요 그렇죠 아니네 두 누구 주문 도와 드릴까요 고객님 리 자동 주문 하고요 행사 카드는 뭔데요 농협 NH 카드입니다 아 그건 아니고요 그러면 자동 주문만 하면 얼마예요 판매 가격이 149,000원 그러면 3일안에 제 성함만 확인하고 2일 날 하게 되면 되는 건가요 오늘이 1일 날이니까요 입금 일자가 3일까지 입금이에요 내일 아니더 3일은 여행 가니까 없는데요 입금 일자가 주문한 날로부터 3일이라고요 지금 오늘 해야 된다는 거네요 그러니까 2일 날에 다시 결제 변경하셔도 4일 날 입금을 해 주셔야 되는 겁니다 복잡하네요 그러면 제가 이거를 메모를 해 놨다가 3일 날 오후 2시 까지니까요 3일 제가 오후 늦게 다시 결제 변경을 해 드릴게요 그러면 5일 날까지 입금하신 처리가 되거든요 그럼 거기서 언제 오시는 거예요네 지리산은 아침에 옵니다 그러면 어렵게 없는데요 그럼 5일 내로 다시 또 변경을 하셔야 되는 건데요 아 그럼 지금 주문하면 3일 날 올 수도 있는 거네요 그렇죠 아 근데 이게 정확하게 몰라서 잠이 안 해요 아니면 근데 이거 인터넷으로도이 가격에 팔아요 고객님 모바일로 주문하시면 되는데요 고객님 이거 고객님이 다녀오셔서 하시면 되세요 그때도 하고 있어요 예 그때도 하니까요 예 잠시만요 고객님 제가 다시 정확히 안내를 해 드릴게요 저희가 입금 일자가 계속 변경이 되는 거기 때문에 갔다 와서 그냥 하는게 나을 것 같네요네 그럼 그때 오는데요 궁금 쇼핑에서 만 하는 건가요 올인원스쿼트머신은 다른 쇼핑 사에서도 확인 가능한데요 고객님 그러면 방송 알림 서비스로 해 드릴까요 아 예네 그럼 그렇게 해 주세요 그러면 이제 방송 할 때마다 1개월 이내 주문할 수 있도록 요청을 해 드릴 거고요 지금은 상품 취소 해 드릴게요 급한 건 아니니까요네네네 알겠습니다 고객님 내일 오전 취소 취소를 해드리고요 이게 이름이 뭐죠 저희 올인원스쿼트머신이에요 알겠습니다 그럼 그렇게 해 주세요네 우선 방송 알림에서 1개월 이내에 방송 할 때마다 고객님께 문자를 드리도록 하겠습니다네네 고객님 더 문의할 사람 없습니까네네 그거 오지는 않은 거지요 네 지금 오늘 취소 했으니까요 아마 카드사로부터 취소 문자가 전달되었을 겁니다네네 알겠습니다 더 좋은 상품으로 찾아뵙겠습니다 000 있습니다네 주문 5,000원 할인 혜택 되시면 14만 4천 원이고요 일시불로 했을 때 만 원 할인해 드리겠습니다네네 그러면 주문할게요네 감사합니다 공공 쇼핑 처음 이용해 주셔서 고객 정보 등록 후 주문 도와드리겠습니다 그럴게요 전화 주신 고객님에 '"
     },
     "execution_count": 36,
     "metadata": {},
     "output_type": "execute_result"
    }
   ],
   "source": [
    "txt[-1]"
   ],
   "metadata": {
    "collapsed": false,
    "ExecuteTime": {
     "start_time": "2023-06-28T18:25:15.305298Z",
     "end_time": "2023-06-28T18:25:15.313299Z"
    }
   }
  },
  {
   "cell_type": "code",
   "execution_count": 35,
   "outputs": [
    {
     "data": {
      "text/plain": "''"
     },
     "execution_count": 35,
     "metadata": {},
     "output_type": "execute_result"
    }
   ],
   "source": [
    "txt.pop()"
   ],
   "metadata": {
    "collapsed": false,
    "ExecuteTime": {
     "start_time": "2023-06-28T18:25:14.005981Z",
     "end_time": "2023-06-28T18:25:14.025588Z"
    }
   }
  },
  {
   "cell_type": "code",
   "execution_count": 37,
   "outputs": [
    {
     "name": "stderr",
     "output_type": "stream",
     "text": [
      "100%|██████████| 81/81 [00:04<00:00, 16.31it/s]\n"
     ]
    }
   ],
   "source": [
    "from tqdm import tqdm\n",
    "\n",
    "txt = [i.replace(\"'\", \"\") for i in txt]\n",
    "\n",
    "for i in tqdm(txt):\n",
    "    query = f\"\"\"INSERT INTO flask2(text, result) VALUES('{i}', '0')\"\"\"\n",
    "    cursor.execute(query)\n",
    "    conn.commit()"
   ],
   "metadata": {
    "collapsed": false,
    "ExecuteTime": {
     "start_time": "2023-06-28T18:25:23.264059Z",
     "end_time": "2023-06-28T18:25:28.247099Z"
    }
   }
  },
  {
   "cell_type": "code",
   "execution_count": 15,
   "outputs": [
    {
     "data": {
      "text/plain": "\"INSERT INTO flask2(text, result) VALUES('', '1')\""
     },
     "execution_count": 15,
     "metadata": {},
     "output_type": "execute_result"
    }
   ],
   "source": [
    "query"
   ],
   "metadata": {
    "collapsed": false,
    "ExecuteTime": {
     "start_time": "2023-06-28T18:20:44.979277Z",
     "end_time": "2023-06-28T18:20:44.996302Z"
    }
   }
  },
  {
   "cell_type": "code",
   "execution_count": 29,
   "outputs": [],
   "source": [
    "cursor.close()\n",
    "conn.close()"
   ],
   "metadata": {
    "collapsed": false,
    "ExecuteTime": {
     "start_time": "2023-06-28T18:24:46.229085Z",
     "end_time": "2023-06-28T18:24:46.244124Z"
    }
   }
  },
  {
   "cell_type": "code",
   "execution_count": 30,
   "outputs": [],
   "source": [
    "import mariadb\n",
    "\n",
    "conn = mariadb.connect(\n",
    "            user=\"root\",\n",
    "            password=\"hkit301301\",\n",
    "            host=\"182.229.34.184\",\n",
    "            port=3306,\n",
    "            database=\"301project\",\n",
    "            )\n",
    "cursor = conn.cursor()\n",
    "query = \"SELECT CONVERT(text USING UTF8),result from flask2\"\n",
    "cursor.execute(query)\n",
    "result = cursor.fetchall()"
   ],
   "metadata": {
    "collapsed": false,
    "ExecuteTime": {
     "start_time": "2023-06-28T18:24:49.170013Z",
     "end_time": "2023-06-28T18:24:50.781122Z"
    }
   }
  },
  {
   "cell_type": "code",
   "execution_count": 39,
   "outputs": [],
   "source": [
    "cursor.close()\n",
    "conn.close()"
   ],
   "metadata": {
    "collapsed": false,
    "ExecuteTime": {
     "start_time": "2023-06-28T18:25:51.210099Z",
     "end_time": "2023-06-28T18:25:51.232098Z"
    }
   }
  },
  {
   "cell_type": "code",
   "execution_count": 40,
   "outputs": [
    {
     "data": {
      "text/plain": "[('확인되셨습니다 나머지주소 말씀 부탁드립니다 000 000 000 확인해 주셔서 감사합니다 이벤트나 상품 서비스 광고를 문자를 드릴 수 있습니다 받아 보시겠습니까네 보내주세요 고객님 정보 등록 하겠습니다 상담 쪽에서는 자동주문전화 할인 적용 안 되시지만 첫 주문이라 제가 적용해 드렸습니다네 알겠습니다 지금 방송 중인 0000 스쿼트머신 주문 맞습니까네 맞아요이 상품은 블랙과 화이트 색상이 있는데 어떤 식당으로 해드릴까요 블랙이야 자동주문전화 할인 5,000원 적용해 드렸고요 20을 하시면 만 원 할인 있고 무이자할부는 6개월까지 가능 합니다 결제 어떻게 도와드릴까요 아 그런데 다 조립이 되어서 설치할 수 있게 오는 건가요네 확인해 보겠습니다 잠시만 기다려 주시겠습니까 네 고객님이 제품 조립 되어서 배송되는데 부분적으로는 고객님께서 어렵지 않게 졸업하시는 부분도 있습니다 그러면 설명서는 있는 거죠네 같이 배송됩니다네 알겠습니다 결제 계속 진행해 네 그래요네 그러시면 00000 커피머신 주문 도와드리겠습니다 카드 결제를 도와 드릴까요네 카드 번호 말씀해 주시겠습니까 00 00 00 00 네 시간 확인 부탁드리겠습니다 0000 카드 소유자는 고객님 본인 되십니까 될 거예요 가족소유 의신 000 고객님의 생년월일 6자리 확인 부탁드립니다 000000 확인 감사합니다 0000 스쿼트머신 주문이요네 고객님 저희 쪽에 아직 회원 가입이 안 되셔서요 전부 등록하고 하니까 증명해서 주문 도와 드리겠습니다네네 고객님 회원 서비스 제공을 위해 성함 생년월일 성별 할부는 6개월로 할까요 일시불로 해 주세요네 13만 4천 원 결제 요청하겠습니다 고객님의 안전한 결제를 위해 카드인증 ELS 연결해 드리겠습니다 안내멘트에 따라 카드 비밀번호 앞 두 자리 입력 부탁드립니다 연결 하겠습니다 카드 승인 중입니다 잠시만 기다려 주시겠습니까네네 결제 잘 되었습니다 고객님 카드 정보 등록해 드릴까요네 해 주세요네 감사합니다 주문 잘 되었습니다 배송은 일요일 공휴일 제외하고 다 일 안에 배송이 됩니다 교환 반품은 배송받으신 날로부터 30일 안에 연락을 주셔야 하며 제품하자 왜 개봉 및 사용 시 기간 경과 시 교환반품불가 한점 양해 부탁드리겠습니다네 알겠습니다네 더 문의할 사람 없으니까 없습니다네 2019년에도 좋은 상품으로 찾아뵙겠습니다 000 있습니다 수고하세요 주소 연락처를 등등 가고 있습니다 이에 동의하십니까네 확인 감사합니다 성함 확인 부탁드리겠습니다 000 000 생년월일 말씀 부탁드립니다 홍북면 0 0 1 0 0 1 전화번호 말씀 부탁드립니다 000 000 000 주소 확인 부탁드리겠습니다 전라남도 순창 00 00 00 00 00 잠시만요 ',\n  '0'),\n ('그러면 주문할게요 저희 공공 쇼핑 처음이라고 나옵니다 신규 가입 먼저 하고 상담 도와 드리겠습니다 고객님의 회원 서비스 제공을 위해 성함 생년월일 성별 주소 연락처 등록하고 있습니다 이에 동의하시겠습니까네 감사합니다 성함 먼저 말씀 아시겠습니까 000 000 분이십니까네 생년월일 6자리 말씀해 주시겠습니까 000000 핸드폰 번호는 000000 맞습니까네 맞아요 주소지 말씀 하시겠습니까 부산시 남구 000 건지 확인 감사합니다 이벤트나 상품 서비스 광고 문자 드릴 수 있습니다네 현재 방송 중인 상품 남성용과 여성용 주문하시면 됩니다 히트상품 이니까 두 개 주시는 거죠 일단 선택하시겠습니까 사이즈 말씀해 주시겠습니까 240 이요 여성용은 화이트 240으로 하셨고 남성용 색상 말씀해 주시겠습니까 남성용도 화이트 262화 남성용은 260 하셨습니다 다시 한번 사이즈 확인하겠습니다 여성용은 240 남성용은 260 얘는 7만 9천 6백 원입니다 카드 결제하시겠습니까네 카드 번호 처음부터 말씀해 주시겠습니까 00 00 00 00 서울 잡은 돈이니까네 생년월일 6자리 말씀해 주시겠습니까 0000 지금 7만 9천 6백원 일시불 진행해 드리겠습니다 고객님의 안전한 결제를 위해 카드인증 ARS 연결해 드리겠습니다 안내멘트에 따라 카드 비밀번호 앞 두 자리 입력 부탁드립니다 입력하신 후에는 다시 저에게 연결됩니다 끊지 말고 기다려 주시겠습니까 연결해 드리겠습니다 공주 게임 공입니다 지금 그 방송하는 거 주문하려고요 죄송합니다 지금 저희 쪽에서 문자 발송 중이어서 상담을 도와드릴 수 없는 점 양해 부탁드립니다 죄송하지만 제가 전화 드릴 수도 있는데 한 5분 안에 다시 전화 드려도 되겠습니까 아니면 고객님 다시 한번 전화 주시겠습니까 아 그럼 카드 번호를 제가 잘못 받아 적었나 봅니다 다시 한번 말씀 부탁드립니다 00 00 00 00 다시 한번 인증 센터 연결 하겠습니다 네 결제 승인되었습니다 상품은 일요일 공휴일 제외 평일기준 3일에서 4일 안에 배송됩니다 교환 반품은 배송 받으신 날로부터 7일 하늘 연락하셔도 됩니다 제품하자에 택 제거 나 외부 착하나 기간 경과시 교환반품불가 한 점 양해 부탁드립니다 주문시 편리한 결제를 위해 카드 등록해 드릴까요네 주문 되었습니다 더 문 의상 없습니까 만약에 사이즈가 안 맞으면요 배송받으신 날로부터 7일 안으로 전화 주시면 됩니다 재거나 외부 착용하시면 안 되고요 근데 상품을 다시 보내고 하는 비용은 저희가 하는 건가요 고객님 부담은 아닙니다 교환 반품 조건에 맞은요 물론 조건에 맞지 않으면 교환 반품 자체가 되지 않고요 아네 알겠어요 더 없습니까네 없어요네 감사합니다 저는 002 없습니다네 수고하세요 다시 전화 주세요 그러면 휴대폰 번호 말씀해 주시겠습니까 000 000 000 000 고객님 전화번호는 000 하셨습니다 5분 안에 다시 전화 드리겠습니다네 고객님 기다려 주셔서 감사합니다 공공 쇼핑 0 0 0입니다 주문 도와 드릴까요네 지금 방송 나오는 000 데일리슈즈 2개는 따로 주문이 안 되는 거예요 죄송하지만 해당 상품은 세트 판매입니다 무조건 그렇게 주문 해야 되나 보네요 ',\n  '0'),\n ('서비스 제공을 위해 성함 생년월일 성별 주소 연락처를 등록하고 있습니다 이에 동의하십니까네 감사합니다 성함 말씀 부탁드립니다 0025 확인 감사합니다 생년월일 6자리 말씀 부탁드립니다 궁둥이 확인 감사합니다 전화번호 말씀 부탁드립니다 000000 정보 확인 감사합니다 유선번호 등록해 드릴까요 아니요 감사합니다 주소 말씀 부탁드립니다 서울 서초구 00 00 00 00 00 00 죄송하지만 00 00 파티요네네 고객님 말씀하신 주소 서울 서초구 000000 아파트 00 00 00 맞습니까 맞아요네 확인 감사합니다 이벤트나 상품 서비스 문자로 드릴 수 있습니다네 그렇게 해 주세요 예 방송 보시는 상품 요청하신 대로 책상 위에 블랙과 화이트가 있습니다 어느 상품으로 하실 건가요 화이트로 주세요 예 화이트색상 자동 주문 5,000원 할인 혜택 드려서 14만 4천 원 결제 도움 드리겠습니다 결제 카드 하시겠습니까네 그걸로 할게요 카드 번호 말씀 부탁드립니다 4 0 0 0 0 공구 점핑 000 아니 지금 이게 여러가지 운동할 수 있다는 거죠네 맞습니다 아 이거는 자동 주문이 안 되네요 제가 등록이 안 된다고 그러는데요 지금 자동 주문 하셨는데요 등록이 안 돼서 아마 상담사 연결 된 것 같습니다 고객님 본인 되십니까네 맞아요 카드 소유주 000 님의 생년월일 6자리 다시 한번 말씀 부탁드립니다 000000 확인 감사합니다 카드 유효기간 말씀 부탁드립니다 공금을 공공연히 아 예 감사합니다 목요일까지 무이자 할부 가능합니다 아니요 20으로 해 주세요 일시불은 만 원 할인 혜택 드려서 13만 4천 원에 결제 도움 드리겠습니다네 고객님의 안전한 결제를 위해 카드인증 ARS로 연결합니다 안내멘트에 따라 카드 비밀번호 앞 두 자리 입력 부탁드립니다 연결하였습니다네 내일 요청하신 올인원스쿼트머신 화이트 색상 134,000원 20을 승인 도움 드렸습니다네 다음번 편리한 결제를 위해 카드 정보 등록해제 있도록 할까요네 그럴게요 감사합니다 상품 배송은 일요일 공휴일 제외 일주일 내내 배송이 됩니다네 교환이나 반품은 배송 받으신 날로부터 30일 이내에 연락을 주셔야 하며 제품에 개봉 및 사용 시 기간 경과 시 교환 반품 불가합니다 그런데 언제 배송 된다고요 일요일 공휴일 제외하고 4일입니다 안에 만약에 다음 주 월요일 날 배송도 가능 해요 저희가 여행을 가서 조금 이번 주는 좀 그래서요 그렇게는 조금 어려울 거 같은데요 언제 여행 가시는 건가요 안 돼요 이번 주 중 3일 동안 사람이 없는데요 혹시 여기 아파트인데 아파트 경비실은 보관이 어려울 거예요 그런데 그이나 2일 날 출발하게 되면 바로 그 다음 날 오지 않아요 저희가 이제 보통은 말씀드린 것이 일요일 날이 연휴 때문에 업체에서 2일 날 출고 될 수도 있는데요 아마 3일 날 주문 안 되어 있을 거예요 언제요네 그런데 아직 정확하게 전달받지 못했습니다 그럼 3일이나 4일 날 주문한 거네요 예 그래서 넉넉하게 오히려 안으로 배송이 되는데 고객님 그 여행 스케줄 하고 비슷할 것 같거든요 그래서 저는 만약이 주문을 2일로 해 주신 다든가 3일 날로 해 주거나 이렇게 하면 안 되는 건가요네 그렇게는 어렵지 고객님 아 그럼 지금 바로 그냥 되는 거예요네 승인 하셨기 때문에 되는 거고요 아네네 이게 지금 오늘 일이잖아요 현금 입금 하신다고 그래도 늦어도 3일 날 입금을 하셔야만 유지가 되는 거거든요 아네 그렇군요 아니면 3일 날 했는데 무통장입금 처리 해 놓으면 3일 날 전화 한번 주셔서 이거 그러면 좀 연장해 주세요라고 하시면 될 것 같고요 그럼 어떻게 하라고요 다시 그럼 카드 안 하고요네 그럼 제가 카드 취소를 하고 무통장 입금 처리 하는 거죠네 금요일은 동일 하니까요 그렇죠 아니네 두 누구 주문 도와 드릴까요 고객님 리 자동 주문 하고요 행사 카드는 뭔데요 농협 NH 카드입니다 아 그건 아니고요 그러면 자동 주문만 하면 얼마예요 판매 가격이 149,000원 그러면 3일안에 제 성함만 확인하고 2일 날 하게 되면 되는 건가요 오늘이 1일 날이니까요 입금 일자가 3일까지 입금이에요 내일 아니더 3일은 여행 가니까 없는데요 입금 일자가 주문한 날로부터 3일이라고요 지금 오늘 해야 된다는 거네요 그러니까 2일 날에 다시 결제 변경하셔도 4일 날 입금을 해 주셔야 되는 겁니다 복잡하네요 그러면 제가 이거를 메모를 해 놨다가 3일 날 오후 2시 까지니까요 3일 제가 오후 늦게 다시 결제 변경을 해 드릴게요 그러면 5일 날까지 입금하신 처리가 되거든요 그럼 거기서 언제 오시는 거예요네 지리산은 아침에 옵니다 그러면 어렵게 없는데요 그럼 5일 내로 다시 또 변경을 하셔야 되는 건데요 아 그럼 지금 주문하면 3일 날 올 수도 있는 거네요 그렇죠 아 근데 이게 정확하게 몰라서 잠이 안 해요 아니면 근데 이거 인터넷으로도이 가격에 팔아요 고객님 모바일로 주문하시면 되는데요 고객님 이거 고객님이 다녀오셔서 하시면 되세요 그때도 하고 있어요 예 그때도 하니까요 예 잠시만요 고객님 제가 다시 정확히 안내를 해 드릴게요 저희가 입금 일자가 계속 변경이 되는 거기 때문에 갔다 와서 그냥 하는게 나을 것 같네요네 그럼 그때 오는데요 궁금 쇼핑에서 만 하는 건가요 올인원스쿼트머신은 다른 쇼핑 사에서도 확인 가능한데요 고객님 그러면 방송 알림 서비스로 해 드릴까요 아 예네 그럼 그렇게 해 주세요 그러면 이제 방송 할 때마다 1개월 이내 주문할 수 있도록 요청을 해 드릴 거고요 지금은 상품 취소 해 드릴게요 급한 건 아니니까요네네네 알겠습니다 고객님 내일 오전 취소 취소를 해드리고요 이게 이름이 뭐죠 저희 올인원스쿼트머신이에요 알겠습니다 그럼 그렇게 해 주세요네 우선 방송 알림에서 1개월 이내에 방송 할 때마다 고객님께 문자를 드리도록 하겠습니다네네 고객님 더 문의할 사람 없습니까네네 그거 오지는 않은 거지요 네 지금 오늘 취소 했으니까요 아마 카드사로부터 취소 문자가 전달되었을 겁니다네네 알겠습니다 더 좋은 상품으로 찾아뵙겠습니다 000 있습니다네 주문 5,000원 할인 혜택 되시면 14만 4천 원이고요 일시불로 했을 때 만 원 할인해 드리겠습니다네네 그러면 주문할게요네 감사합니다 공공 쇼핑 처음 이용해 주셔서 고객 정보 등록 후 주문 도와드리겠습니다 그럴게요 전화 주신 고객님에 ',\n  '0')]"
     },
     "execution_count": 40,
     "metadata": {},
     "output_type": "execute_result"
    }
   ],
   "source": [
    "result[-3:]  # 됨!"
   ],
   "metadata": {
    "collapsed": false,
    "ExecuteTime": {
     "start_time": "2023-06-28T18:25:51.781535Z",
     "end_time": "2023-06-28T18:25:51.808877Z"
    }
   }
  },
  {
   "cell_type": "code",
   "execution_count": null,
   "outputs": [],
   "source": [],
   "metadata": {
    "collapsed": false
   }
  },
  {
   "cell_type": "code",
   "execution_count": 22,
   "outputs": [],
   "source": [
    "a = [1,2,3,4,5]"
   ],
   "metadata": {
    "collapsed": false,
    "ExecuteTime": {
     "start_time": "2023-06-28T18:21:35.796163Z",
     "end_time": "2023-06-28T18:21:35.816163Z"
    }
   }
  },
  {
   "cell_type": "code",
   "execution_count": 23,
   "outputs": [
    {
     "data": {
      "text/plain": "[1, 2]"
     },
     "execution_count": 23,
     "metadata": {},
     "output_type": "execute_result"
    }
   ],
   "source": [],
   "metadata": {
    "collapsed": false,
    "ExecuteTime": {
     "start_time": "2023-06-28T18:21:37.916241Z",
     "end_time": "2023-06-28T18:21:37.935240Z"
    }
   }
  },
  {
   "cell_type": "code",
   "execution_count": 28,
   "outputs": [],
   "source": [
    "from speech_recognition import UnknownValueError\n",
    "import soundfile as sf\n",
    "import librosa\n",
    "import math\n",
    "import os\n",
    "import speech_recognition as sr\n",
    "\n",
    "SPLITWAV_PATH = \"./sampling\"\n",
    "\n",
    "def trim_audio_data(wav_filename, start_time=0.0, sec=120):\n",
    "    sample_rate = 44100\n",
    "    audio_array, sample_rate = librosa.load(wav_filename, sr=sample_rate)\n",
    "    audio_splitted = audio_array[start_time * sample_rate:sample_rate * (sec + start_time)]\n",
    "    sf.write(os.path.join(SPLITWAV_PATH, os.path.basename(wav_filename.replace(\".wav\", f\"_{str(start_time).zfill(5)}.wav\"))), audio_splitted, sample_rate)\n",
    "    return\n",
    "\n",
    "\n",
    "def cut_wav(wav_filename):\n",
    "    f = sf.SoundFile(wav_filename)\n",
    "    total_sec = f.frames // f.samplerate\n",
    "    print(f\"{wav_filename} 파일의 총 길이는 {total_sec} 초입니다.\")\n",
    "\n",
    "    split_sec = 120\n",
    "    interval_count = math.ceil(total_sec / split_sec)\n",
    "    for i in range(interval_count):\n",
    "        if i * split_sec > total_sec:\n",
    "            break\n",
    "        trim_audio_data(wav_filename, i * split_sec, split_sec)\n",
    "    return\n",
    "\n",
    "\n",
    "def transcribe_audio(data_list):\n",
    "    text_list = []\n",
    "    for i in data_list:\n",
    "        r = sr.Recognizer()\n",
    "        filename = os.path.join(SPLITWAV_PATH, i)  # <-\n",
    "        print(filename)  # <-\n",
    "        with sr.AudioFile(filename) as source:\n",
    "            audio = r.record(source)\n",
    "        try:\n",
    "            text = r.recognize_google(audio, language='ko-KR')\n",
    "        except UnknownValueError as e:\n",
    "            text = \"\"\n",
    "        text_list.append(text)\n",
    "    return text_list\n",
    "\n",
    "\n",
    "def concatenate_texts(text_list):\n",
    "    concatenated_text = ' '.join(text_list)\n",
    "    return concatenated_text"
   ],
   "metadata": {
    "collapsed": false,
    "ExecuteTime": {
     "start_time": "2023-06-29T19:07:25.212777Z",
     "end_time": "2023-06-29T19:07:25.224778Z"
    }
   }
  },
  {
   "cell_type": "code",
   "execution_count": 29,
   "outputs": [],
   "source": [
    "def get_datalist(wav_filename):\n",
    "    basename = os.path.basename(wav_filename)\n",
    "    data_list = [i for i in os.listdir(SPLITWAV_PATH) if i.startswith(os.path.splitext(basename)[0]+\"_\")]\n",
    "    return data_list"
   ],
   "metadata": {
    "collapsed": false,
    "ExecuteTime": {
     "start_time": "2023-06-29T19:07:25.516948Z",
     "end_time": "2023-06-29T19:07:25.526952Z"
    }
   }
  },
  {
   "cell_type": "code",
   "execution_count": 30,
   "outputs": [
    {
     "name": "stderr",
     "output_type": "stream",
     "text": [
      "  0%|          | 0/80 [00:00<?, ?it/s]"
     ]
    },
    {
     "name": "stdout",
     "output_type": "stream",
     "text": [
      "sampling\\쇼핑_1026.wav 파일의 총 길이는 364 초입니다.\n",
      "./sampling\\쇼핑_1026_00000.wav\n",
      "./sampling\\쇼핑_1026_00120.wav\n",
      "./sampling\\쇼핑_1026_00240.wav\n",
      "./sampling\\쇼핑_1026_00360.wav\n"
     ]
    },
    {
     "name": "stderr",
     "output_type": "stream",
     "text": [
      "  1%|▏         | 1/80 [00:41<55:02, 41.80s/it]"
     ]
    },
    {
     "name": "stdout",
     "output_type": "stream",
     "text": [
      "sampling\\쇼핑_1040.wav 파일의 총 길이는 194 초입니다.\n",
      "./sampling\\쇼핑_1040_00000.wav\n",
      "./sampling\\쇼핑_1040_00120.wav\n"
     ]
    },
    {
     "name": "stderr",
     "output_type": "stream",
     "text": [
      "  2%|▎         | 2/80 [01:03<38:48, 29.85s/it]"
     ]
    },
    {
     "name": "stdout",
     "output_type": "stream",
     "text": [
      "sampling\\쇼핑_110.wav 파일의 총 길이는 529 초입니다.\n",
      "./sampling\\쇼핑_110_00000.wav\n",
      "./sampling\\쇼핑_110_00120.wav\n",
      "./sampling\\쇼핑_110_00240.wav\n",
      "./sampling\\쇼핑_110_00360.wav\n",
      "./sampling\\쇼핑_110_00480.wav\n"
     ]
    },
    {
     "name": "stderr",
     "output_type": "stream",
     "text": [
      "  4%|▍         | 3/80 [02:02<55:38, 43.36s/it]"
     ]
    },
    {
     "name": "stdout",
     "output_type": "stream",
     "text": [
      "sampling\\쇼핑_1112.wav 파일의 총 길이는 192 초입니다.\n",
      "./sampling\\쇼핑_1112_00000.wav\n",
      "./sampling\\쇼핑_1112_00120.wav\n"
     ]
    },
    {
     "name": "stderr",
     "output_type": "stream",
     "text": [
      "  5%|▌         | 4/80 [02:23<43:35, 34.41s/it]"
     ]
    },
    {
     "name": "stdout",
     "output_type": "stream",
     "text": [
      "sampling\\쇼핑_1156.wav 파일의 총 길이는 295 초입니다.\n",
      "./sampling\\쇼핑_1156_00000.wav\n",
      "./sampling\\쇼핑_1156_00120.wav\n",
      "./sampling\\쇼핑_1156_00240.wav\n"
     ]
    },
    {
     "name": "stderr",
     "output_type": "stream",
     "text": [
      "  6%|▋         | 5/80 [02:56<42:37, 34.09s/it]"
     ]
    },
    {
     "name": "stdout",
     "output_type": "stream",
     "text": [
      "sampling\\쇼핑_1163.wav 파일의 총 길이는 424 초입니다.\n",
      "./sampling\\쇼핑_1163_00000.wav\n",
      "./sampling\\쇼핑_1163_00120.wav\n",
      "./sampling\\쇼핑_1163_00240.wav\n",
      "./sampling\\쇼핑_1163_00360.wav\n"
     ]
    },
    {
     "name": "stderr",
     "output_type": "stream",
     "text": [
      "  8%|▊         | 6/80 [03:42<46:45, 37.91s/it]"
     ]
    },
    {
     "name": "stdout",
     "output_type": "stream",
     "text": [
      "sampling\\쇼핑_120.wav 파일의 총 길이는 406 초입니다.\n",
      "./sampling\\쇼핑_120_00000.wav\n",
      "./sampling\\쇼핑_120_00120.wav\n",
      "./sampling\\쇼핑_120_00240.wav\n",
      "./sampling\\쇼핑_120_00360.wav\n"
     ]
    },
    {
     "name": "stderr",
     "output_type": "stream",
     "text": [
      "  9%|▉         | 7/80 [04:29<49:52, 40.99s/it]"
     ]
    },
    {
     "name": "stdout",
     "output_type": "stream",
     "text": [
      "sampling\\쇼핑_1246.wav 파일의 총 길이는 367 초입니다.\n",
      "./sampling\\쇼핑_1246_00000.wav\n",
      "./sampling\\쇼핑_1246_00120.wav\n",
      "./sampling\\쇼핑_1246_00240.wav\n",
      "./sampling\\쇼핑_1246_00360.wav\n"
     ]
    },
    {
     "name": "stderr",
     "output_type": "stream",
     "text": [
      " 10%|█         | 8/80 [05:09<48:47, 40.66s/it]"
     ]
    },
    {
     "name": "stdout",
     "output_type": "stream",
     "text": [
      "sampling\\쇼핑_1253.wav 파일의 총 길이는 288 초입니다.\n",
      "./sampling\\쇼핑_1253_00000.wav\n",
      "./sampling\\쇼핑_1253_00120.wav\n",
      "./sampling\\쇼핑_1253_00240.wav\n"
     ]
    },
    {
     "name": "stderr",
     "output_type": "stream",
     "text": [
      " 11%|█▏        | 9/80 [05:43<45:34, 38.52s/it]"
     ]
    },
    {
     "name": "stdout",
     "output_type": "stream",
     "text": [
      "sampling\\쇼핑_1293.wav 파일의 총 길이는 491 초입니다.\n",
      "./sampling\\쇼핑_1293_00000.wav\n",
      "./sampling\\쇼핑_1293_00120.wav\n",
      "./sampling\\쇼핑_1293_00240.wav\n",
      "./sampling\\쇼핑_1293_00360.wav\n",
      "./sampling\\쇼핑_1293_00480.wav\n"
     ]
    },
    {
     "name": "stderr",
     "output_type": "stream",
     "text": [
      " 12%|█▎        | 10/80 [06:38<50:54, 43.63s/it]"
     ]
    },
    {
     "name": "stdout",
     "output_type": "stream",
     "text": [
      "sampling\\쇼핑_1311.wav 파일의 총 길이는 194 초입니다.\n",
      "./sampling\\쇼핑_1311_00000.wav\n",
      "./sampling\\쇼핑_1311_00120.wav\n"
     ]
    },
    {
     "name": "stderr",
     "output_type": "stream",
     "text": [
      " 14%|█▍        | 11/80 [06:59<42:21, 36.83s/it]"
     ]
    },
    {
     "name": "stdout",
     "output_type": "stream",
     "text": [
      "sampling\\쇼핑_1358.wav 파일의 총 길이는 404 초입니다.\n",
      "./sampling\\쇼핑_1358_00000.wav\n",
      "./sampling\\쇼핑_1358_00120.wav\n",
      "./sampling\\쇼핑_1358_00240.wav\n",
      "./sampling\\쇼핑_1358_00360.wav\n"
     ]
    },
    {
     "name": "stderr",
     "output_type": "stream",
     "text": [
      " 15%|█▌        | 12/80 [07:45<44:41, 39.44s/it]"
     ]
    },
    {
     "name": "stdout",
     "output_type": "stream",
     "text": [
      "sampling\\쇼핑_1401.wav 파일의 총 길이는 417 초입니다.\n",
      "./sampling\\쇼핑_1401_00000.wav\n",
      "./sampling\\쇼핑_1401_00120.wav\n",
      "./sampling\\쇼핑_1401_00240.wav\n",
      "./sampling\\쇼핑_1401_00360.wav\n"
     ]
    },
    {
     "name": "stderr",
     "output_type": "stream",
     "text": [
      " 16%|█▋        | 13/80 [08:32<46:42, 41.83s/it]"
     ]
    },
    {
     "name": "stdout",
     "output_type": "stream",
     "text": [
      "sampling\\쇼핑_1443.wav 파일의 총 길이는 701 초입니다.\n",
      "./sampling\\쇼핑_1443_00000.wav\n",
      "./sampling\\쇼핑_1443_00120.wav\n",
      "./sampling\\쇼핑_1443_00240.wav\n",
      "./sampling\\쇼핑_1443_00360.wav\n",
      "./sampling\\쇼핑_1443_00480.wav\n",
      "./sampling\\쇼핑_1443_00600.wav\n"
     ]
    },
    {
     "name": "stderr",
     "output_type": "stream",
     "text": [
      " 18%|█▊        | 14/80 [09:52<58:46, 53.43s/it]"
     ]
    },
    {
     "name": "stdout",
     "output_type": "stream",
     "text": [
      "sampling\\쇼핑_153.wav 파일의 총 길이는 547 초입니다.\n",
      "./sampling\\쇼핑_153_00000.wav\n",
      "./sampling\\쇼핑_153_00120.wav\n",
      "./sampling\\쇼핑_153_00240.wav\n",
      "./sampling\\쇼핑_153_00360.wav\n",
      "./sampling\\쇼핑_153_00480.wav\n"
     ]
    },
    {
     "name": "stderr",
     "output_type": "stream",
     "text": [
      " 19%|█▉        | 15/80 [10:56<1:01:08, 56.44s/it]"
     ]
    },
    {
     "name": "stdout",
     "output_type": "stream",
     "text": [
      "sampling\\쇼핑_1569.wav 파일의 총 길이는 351 초입니다.\n",
      "./sampling\\쇼핑_1569_00000.wav\n",
      "./sampling\\쇼핑_1569_00120.wav\n",
      "./sampling\\쇼핑_1569_00240.wav\n"
     ]
    },
    {
     "name": "stderr",
     "output_type": "stream",
     "text": [
      " 20%|██        | 16/80 [11:34<54:24, 51.01s/it]  "
     ]
    },
    {
     "name": "stdout",
     "output_type": "stream",
     "text": [
      "sampling\\쇼핑_1627.wav 파일의 총 길이는 192 초입니다.\n",
      "./sampling\\쇼핑_1627_00000.wav\n",
      "./sampling\\쇼핑_1627_00120.wav\n"
     ]
    },
    {
     "name": "stderr",
     "output_type": "stream",
     "text": [
      " 21%|██▏       | 17/80 [11:55<44:05, 41.99s/it]"
     ]
    },
    {
     "name": "stdout",
     "output_type": "stream",
     "text": [
      "sampling\\쇼핑_167.wav 파일의 총 길이는 402 초입니다.\n",
      "./sampling\\쇼핑_167_00000.wav\n",
      "./sampling\\쇼핑_167_00120.wav\n",
      "./sampling\\쇼핑_167_00240.wav\n",
      "./sampling\\쇼핑_167_00360.wav\n"
     ]
    },
    {
     "name": "stderr",
     "output_type": "stream",
     "text": [
      " 22%|██▎       | 18/80 [12:43<45:13, 43.77s/it]"
     ]
    },
    {
     "name": "stdout",
     "output_type": "stream",
     "text": [
      "sampling\\쇼핑_184.wav 파일의 총 길이는 534 초입니다.\n",
      "./sampling\\쇼핑_184_00000.wav\n",
      "./sampling\\쇼핑_184_00120.wav\n",
      "./sampling\\쇼핑_184_00240.wav\n",
      "./sampling\\쇼핑_184_00360.wav\n",
      "./sampling\\쇼핑_184_00480.wav\n"
     ]
    },
    {
     "name": "stderr",
     "output_type": "stream",
     "text": [
      " 24%|██▍       | 19/80 [13:45<50:08, 49.31s/it]"
     ]
    },
    {
     "name": "stdout",
     "output_type": "stream",
     "text": [
      "sampling\\쇼핑_1872.wav 파일의 총 길이는 414 초입니다.\n",
      "./sampling\\쇼핑_1872_00000.wav\n",
      "./sampling\\쇼핑_1872_00120.wav\n",
      "./sampling\\쇼핑_1872_00240.wav\n",
      "./sampling\\쇼핑_1872_00360.wav\n"
     ]
    },
    {
     "name": "stderr",
     "output_type": "stream",
     "text": [
      " 25%|██▌       | 20/80 [14:29<47:43, 47.73s/it]"
     ]
    },
    {
     "name": "stdout",
     "output_type": "stream",
     "text": [
      "sampling\\쇼핑_190.wav 파일의 총 길이는 446 초입니다.\n",
      "./sampling\\쇼핑_190_00000.wav\n",
      "./sampling\\쇼핑_190_00120.wav\n",
      "./sampling\\쇼핑_190_00240.wav\n",
      "./sampling\\쇼핑_190_00360.wav\n"
     ]
    },
    {
     "name": "stderr",
     "output_type": "stream",
     "text": [
      " 26%|██▋       | 21/80 [15:22<48:15, 49.08s/it]"
     ]
    },
    {
     "name": "stdout",
     "output_type": "stream",
     "text": [
      "sampling\\쇼핑_1908.wav 파일의 총 길이는 364 초입니다.\n",
      "./sampling\\쇼핑_1908_00000.wav\n",
      "./sampling\\쇼핑_1908_00120.wav\n",
      "./sampling\\쇼핑_1908_00240.wav\n",
      "./sampling\\쇼핑_1908_00360.wav\n"
     ]
    },
    {
     "name": "stderr",
     "output_type": "stream",
     "text": [
      " 28%|██▊       | 22/80 [16:01<44:42, 46.24s/it]"
     ]
    },
    {
     "name": "stdout",
     "output_type": "stream",
     "text": [
      "sampling\\쇼핑_1984.wav 파일의 총 길이는 392 초입니다.\n",
      "./sampling\\쇼핑_1984_00000.wav\n",
      "./sampling\\쇼핑_1984_00120.wav\n",
      "./sampling\\쇼핑_1984_00240.wav\n",
      "./sampling\\쇼핑_1984_00360.wav\n"
     ]
    },
    {
     "name": "stderr",
     "output_type": "stream",
     "text": [
      " 29%|██▉       | 23/80 [16:44<43:02, 45.31s/it]"
     ]
    },
    {
     "name": "stdout",
     "output_type": "stream",
     "text": [
      "sampling\\쇼핑_1995.wav 파일의 총 길이는 123 초입니다.\n",
      "./sampling\\쇼핑_1995_00000.wav\n",
      "./sampling\\쇼핑_1995_00120.wav\n"
     ]
    },
    {
     "name": "stderr",
     "output_type": "stream",
     "text": [
      " 30%|███       | 24/80 [16:58<33:27, 35.85s/it]"
     ]
    },
    {
     "name": "stdout",
     "output_type": "stream",
     "text": [
      "sampling\\쇼핑_203.wav 파일의 총 길이는 337 초입니다.\n",
      "./sampling\\쇼핑_203_00000.wav\n",
      "./sampling\\쇼핑_203_00120.wav\n",
      "./sampling\\쇼핑_203_00240.wav\n"
     ]
    },
    {
     "name": "stderr",
     "output_type": "stream",
     "text": [
      " 31%|███▏      | 25/80 [17:36<33:28, 36.51s/it]"
     ]
    },
    {
     "name": "stdout",
     "output_type": "stream",
     "text": [
      "sampling\\쇼핑_209.wav 파일의 총 길이는 411 초입니다.\n",
      "./sampling\\쇼핑_209_00000.wav\n",
      "./sampling\\쇼핑_209_00120.wav\n",
      "./sampling\\쇼핑_209_00240.wav\n",
      "./sampling\\쇼핑_209_00360.wav\n"
     ]
    },
    {
     "name": "stderr",
     "output_type": "stream",
     "text": [
      " 32%|███▎      | 26/80 [18:25<36:06, 40.12s/it]"
     ]
    },
    {
     "name": "stdout",
     "output_type": "stream",
     "text": [
      "sampling\\쇼핑_2122.wav 파일의 총 길이는 383 초입니다.\n",
      "./sampling\\쇼핑_2122_00000.wav\n",
      "./sampling\\쇼핑_2122_00120.wav\n",
      "./sampling\\쇼핑_2122_00240.wav\n",
      "./sampling\\쇼핑_2122_00360.wav\n"
     ]
    },
    {
     "name": "stderr",
     "output_type": "stream",
     "text": [
      " 34%|███▍      | 27/80 [19:06<35:45, 40.47s/it]"
     ]
    },
    {
     "name": "stdout",
     "output_type": "stream",
     "text": [
      "sampling\\쇼핑_2189.wav 파일의 총 길이는 458 초입니다.\n",
      "./sampling\\쇼핑_2189_00000.wav\n",
      "./sampling\\쇼핑_2189_00120.wav\n",
      "./sampling\\쇼핑_2189_00240.wav\n",
      "./sampling\\쇼핑_2189_00360.wav\n"
     ]
    },
    {
     "name": "stderr",
     "output_type": "stream",
     "text": [
      " 35%|███▌      | 28/80 [19:57<37:43, 43.52s/it]"
     ]
    },
    {
     "name": "stdout",
     "output_type": "stream",
     "text": [
      "sampling\\쇼핑_2276.wav 파일의 총 길이는 386 초입니다.\n",
      "./sampling\\쇼핑_2276_00000.wav\n",
      "./sampling\\쇼핑_2276_00120.wav\n",
      "./sampling\\쇼핑_2276_00240.wav\n",
      "./sampling\\쇼핑_2276_00360.wav\n"
     ]
    },
    {
     "name": "stderr",
     "output_type": "stream",
     "text": [
      " 36%|███▋      | 29/80 [20:38<36:34, 43.02s/it]"
     ]
    },
    {
     "name": "stdout",
     "output_type": "stream",
     "text": [
      "sampling\\쇼핑_2429.wav 파일의 총 길이는 347 초입니다.\n",
      "./sampling\\쇼핑_2429_00000.wav\n",
      "./sampling\\쇼핑_2429_00120.wav\n",
      "./sampling\\쇼핑_2429_00240.wav\n"
     ]
    },
    {
     "name": "stderr",
     "output_type": "stream",
     "text": [
      " 38%|███▊      | 30/80 [21:16<34:35, 41.51s/it]"
     ]
    },
    {
     "name": "stdout",
     "output_type": "stream",
     "text": [
      "sampling\\쇼핑_25.wav 파일의 총 길이는 413 초입니다.\n",
      "./sampling\\쇼핑_25_00000.wav\n",
      "./sampling\\쇼핑_25_00120.wav\n",
      "./sampling\\쇼핑_25_00240.wav\n",
      "./sampling\\쇼핑_25_00360.wav\n"
     ]
    },
    {
     "name": "stderr",
     "output_type": "stream",
     "text": [
      " 39%|███▉      | 31/80 [22:02<34:50, 42.67s/it]"
     ]
    },
    {
     "name": "stdout",
     "output_type": "stream",
     "text": [
      "sampling\\쇼핑_2579.wav 파일의 총 길이는 408 초입니다.\n",
      "./sampling\\쇼핑_2579_00000.wav\n",
      "./sampling\\쇼핑_2579_00120.wav\n",
      "./sampling\\쇼핑_2579_00240.wav\n",
      "./sampling\\쇼핑_2579_00360.wav\n"
     ]
    },
    {
     "name": "stderr",
     "output_type": "stream",
     "text": [
      " 40%|████      | 32/80 [22:46<34:33, 43.21s/it]"
     ]
    },
    {
     "name": "stdout",
     "output_type": "stream",
     "text": [
      "sampling\\쇼핑_27.wav 파일의 총 길이는 368 초입니다.\n",
      "./sampling\\쇼핑_27_00000.wav\n",
      "./sampling\\쇼핑_27_00120.wav\n",
      "./sampling\\쇼핑_27_00240.wav\n",
      "./sampling\\쇼핑_27_00360.wav\n"
     ]
    },
    {
     "name": "stderr",
     "output_type": "stream",
     "text": [
      " 41%|████▏     | 33/80 [23:28<33:30, 42.78s/it]"
     ]
    },
    {
     "name": "stdout",
     "output_type": "stream",
     "text": [
      "sampling\\쇼핑_2912.wav 파일의 총 길이는 343 초입니다.\n",
      "./sampling\\쇼핑_2912_00000.wav\n",
      "./sampling\\쇼핑_2912_00120.wav\n",
      "./sampling\\쇼핑_2912_00240.wav\n"
     ]
    },
    {
     "name": "stderr",
     "output_type": "stream",
     "text": [
      " 42%|████▎     | 34/80 [24:10<32:38, 42.57s/it]"
     ]
    },
    {
     "name": "stdout",
     "output_type": "stream",
     "text": [
      "sampling\\쇼핑_2969.wav 파일의 총 길이는 447 초입니다.\n",
      "./sampling\\쇼핑_2969_00000.wav\n",
      "./sampling\\쇼핑_2969_00120.wav\n",
      "./sampling\\쇼핑_2969_00240.wav\n",
      "./sampling\\쇼핑_2969_00360.wav\n"
     ]
    },
    {
     "name": "stderr",
     "output_type": "stream",
     "text": [
      " 44%|████▍     | 35/80 [24:59<33:23, 44.52s/it]"
     ]
    },
    {
     "name": "stdout",
     "output_type": "stream",
     "text": [
      "sampling\\쇼핑_3019.wav 파일의 총 길이는 366 초입니다.\n",
      "./sampling\\쇼핑_3019_00000.wav\n",
      "./sampling\\쇼핑_3019_00120.wav\n",
      "./sampling\\쇼핑_3019_00240.wav\n",
      "./sampling\\쇼핑_3019_00360.wav\n"
     ]
    },
    {
     "name": "stderr",
     "output_type": "stream",
     "text": [
      " 45%|████▌     | 36/80 [25:41<31:56, 43.56s/it]"
     ]
    },
    {
     "name": "stdout",
     "output_type": "stream",
     "text": [
      "sampling\\쇼핑_3057.wav 파일의 총 길이는 194 초입니다.\n",
      "./sampling\\쇼핑_3057_00000.wav\n",
      "./sampling\\쇼핑_3057_00120.wav\n"
     ]
    },
    {
     "name": "stderr",
     "output_type": "stream",
     "text": [
      " 46%|████▋     | 37/80 [26:03<26:39, 37.21s/it]"
     ]
    },
    {
     "name": "stdout",
     "output_type": "stream",
     "text": [
      "sampling\\쇼핑_3074.wav 파일의 총 길이는 333 초입니다.\n",
      "./sampling\\쇼핑_3074_00000.wav\n",
      "./sampling\\쇼핑_3074_00120.wav\n",
      "./sampling\\쇼핑_3074_00240.wav\n"
     ]
    },
    {
     "name": "stderr",
     "output_type": "stream",
     "text": [
      " 48%|████▊     | 38/80 [26:41<26:07, 37.33s/it]"
     ]
    },
    {
     "name": "stdout",
     "output_type": "stream",
     "text": [
      "sampling\\쇼핑_3117.wav 파일의 총 길이는 338 초입니다.\n",
      "./sampling\\쇼핑_3117_00000.wav\n",
      "./sampling\\쇼핑_3117_00120.wav\n",
      "./sampling\\쇼핑_3117_00240.wav\n"
     ]
    },
    {
     "name": "stderr",
     "output_type": "stream",
     "text": [
      " 49%|████▉     | 39/80 [27:21<26:10, 38.29s/it]"
     ]
    },
    {
     "name": "stdout",
     "output_type": "stream",
     "text": [
      "sampling\\쇼핑_3120.wav 파일의 총 길이는 334 초입니다.\n",
      "./sampling\\쇼핑_3120_00000.wav\n",
      "./sampling\\쇼핑_3120_00120.wav\n",
      "./sampling\\쇼핑_3120_00240.wav\n"
     ]
    },
    {
     "name": "stderr",
     "output_type": "stream",
     "text": [
      " 50%|█████     | 40/80 [27:58<25:19, 38.00s/it]"
     ]
    },
    {
     "name": "stdout",
     "output_type": "stream",
     "text": [
      "sampling\\쇼핑_3126.wav 파일의 총 길이는 814 초입니다.\n",
      "./sampling\\쇼핑_3126_00000.wav\n",
      "./sampling\\쇼핑_3126_00120.wav\n",
      "./sampling\\쇼핑_3126_00240.wav\n",
      "./sampling\\쇼핑_3126_00360.wav\n",
      "./sampling\\쇼핑_3126_00480.wav\n",
      "./sampling\\쇼핑_3126_00600.wav\n",
      "./sampling\\쇼핑_3126_00720.wav\n"
     ]
    },
    {
     "name": "stderr",
     "output_type": "stream",
     "text": [
      " 51%|█████▏    | 41/80 [29:28<34:48, 53.54s/it]"
     ]
    },
    {
     "name": "stdout",
     "output_type": "stream",
     "text": [
      "sampling\\쇼핑_3141.wav 파일의 총 길이는 340 초입니다.\n",
      "./sampling\\쇼핑_3141_00000.wav\n",
      "./sampling\\쇼핑_3141_00120.wav\n",
      "./sampling\\쇼핑_3141_00240.wav\n"
     ]
    },
    {
     "name": "stderr",
     "output_type": "stream",
     "text": [
      " 52%|█████▎    | 42/80 [30:08<31:21, 49.52s/it]"
     ]
    },
    {
     "name": "stdout",
     "output_type": "stream",
     "text": [
      "sampling\\쇼핑_3179.wav 파일의 총 길이는 362 초입니다.\n",
      "./sampling\\쇼핑_3179_00000.wav\n",
      "./sampling\\쇼핑_3179_00120.wav\n",
      "./sampling\\쇼핑_3179_00240.wav\n",
      "./sampling\\쇼핑_3179_00360.wav\n"
     ]
    },
    {
     "name": "stderr",
     "output_type": "stream",
     "text": [
      " 54%|█████▍    | 43/80 [30:48<28:37, 46.41s/it]"
     ]
    },
    {
     "name": "stdout",
     "output_type": "stream",
     "text": [
      "sampling\\쇼핑_3192.wav 파일의 총 길이는 191 초입니다.\n",
      "./sampling\\쇼핑_3192_00000.wav\n",
      "./sampling\\쇼핑_3192_00120.wav\n"
     ]
    },
    {
     "name": "stderr",
     "output_type": "stream",
     "text": [
      " 55%|█████▌    | 44/80 [31:08<23:06, 38.52s/it]"
     ]
    },
    {
     "name": "stdout",
     "output_type": "stream",
     "text": [
      "sampling\\쇼핑_322.wav 파일의 총 길이는 502 초입니다.\n",
      "./sampling\\쇼핑_322_00000.wav\n",
      "./sampling\\쇼핑_322_00120.wav\n",
      "./sampling\\쇼핑_322_00240.wav\n",
      "./sampling\\쇼핑_322_00360.wav\n",
      "./sampling\\쇼핑_322_00480.wav\n"
     ]
    },
    {
     "name": "stderr",
     "output_type": "stream",
     "text": [
      " 56%|█████▋    | 45/80 [32:05<25:43, 44.10s/it]"
     ]
    },
    {
     "name": "stdout",
     "output_type": "stream",
     "text": [
      "sampling\\쇼핑_3266.wav 파일의 총 길이는 361 초입니다.\n",
      "./sampling\\쇼핑_3266_00000.wav\n",
      "./sampling\\쇼핑_3266_00120.wav\n",
      "./sampling\\쇼핑_3266_00240.wav\n",
      "./sampling\\쇼핑_3266_00360.wav\n"
     ]
    },
    {
     "name": "stderr",
     "output_type": "stream",
     "text": [
      " 57%|█████▊    | 46/80 [32:48<24:54, 43.95s/it]"
     ]
    },
    {
     "name": "stdout",
     "output_type": "stream",
     "text": [
      "sampling\\쇼핑_33.wav 파일의 총 길이는 332 초입니다.\n",
      "./sampling\\쇼핑_33_00000.wav\n",
      "./sampling\\쇼핑_33_00120.wav\n",
      "./sampling\\쇼핑_33_00240.wav\n"
     ]
    },
    {
     "name": "stderr",
     "output_type": "stream",
     "text": [
      " 59%|█████▉    | 47/80 [33:26<23:11, 42.17s/it]"
     ]
    },
    {
     "name": "stdout",
     "output_type": "stream",
     "text": [
      "sampling\\쇼핑_3308.wav 파일의 총 길이는 286 초입니다.\n",
      "./sampling\\쇼핑_3308_00000.wav\n",
      "./sampling\\쇼핑_3308_00120.wav\n",
      "./sampling\\쇼핑_3308_00240.wav\n"
     ]
    },
    {
     "name": "stderr",
     "output_type": "stream",
     "text": [
      " 60%|██████    | 48/80 [33:58<20:50, 39.07s/it]"
     ]
    },
    {
     "name": "stdout",
     "output_type": "stream",
     "text": [
      "sampling\\쇼핑_3312.wav 파일의 총 길이는 295 초입니다.\n",
      "./sampling\\쇼핑_3312_00000.wav\n",
      "./sampling\\쇼핑_3312_00120.wav\n",
      "./sampling\\쇼핑_3312_00240.wav\n"
     ]
    },
    {
     "name": "stderr",
     "output_type": "stream",
     "text": [
      " 61%|██████▏   | 49/80 [34:33<19:27, 37.66s/it]"
     ]
    },
    {
     "name": "stdout",
     "output_type": "stream",
     "text": [
      "sampling\\쇼핑_3317.wav 파일의 총 길이는 269 초입니다.\n",
      "./sampling\\쇼핑_3317_00000.wav\n",
      "./sampling\\쇼핑_3317_00120.wav\n",
      "./sampling\\쇼핑_3317_00240.wav\n"
     ]
    },
    {
     "name": "stderr",
     "output_type": "stream",
     "text": [
      " 62%|██████▎   | 50/80 [35:03<17:48, 35.62s/it]"
     ]
    },
    {
     "name": "stdout",
     "output_type": "stream",
     "text": [
      "sampling\\쇼핑_3331.wav 파일의 총 길이는 339 초입니다.\n",
      "./sampling\\쇼핑_3331_00000.wav\n",
      "./sampling\\쇼핑_3331_00120.wav\n",
      "./sampling\\쇼핑_3331_00240.wav\n"
     ]
    },
    {
     "name": "stderr",
     "output_type": "stream",
     "text": [
      " 64%|██████▍   | 51/80 [35:43<17:50, 36.90s/it]"
     ]
    },
    {
     "name": "stdout",
     "output_type": "stream",
     "text": [
      "sampling\\쇼핑_3332.wav 파일의 총 길이는 266 초입니다.\n",
      "./sampling\\쇼핑_3332_00000.wav\n",
      "./sampling\\쇼핑_3332_00120.wav\n",
      "./sampling\\쇼핑_3332_00240.wav\n"
     ]
    },
    {
     "name": "stderr",
     "output_type": "stream",
     "text": [
      " 65%|██████▌   | 52/80 [36:13<16:15, 34.83s/it]"
     ]
    },
    {
     "name": "stdout",
     "output_type": "stream",
     "text": [
      "sampling\\쇼핑_3373.wav 파일의 총 길이는 357 초입니다.\n",
      "./sampling\\쇼핑_3373_00000.wav\n",
      "./sampling\\쇼핑_3373_00120.wav\n",
      "./sampling\\쇼핑_3373_00240.wav\n"
     ]
    },
    {
     "name": "stderr",
     "output_type": "stream",
     "text": [
      " 66%|██████▋   | 53/80 [36:54<16:29, 36.65s/it]"
     ]
    },
    {
     "name": "stdout",
     "output_type": "stream",
     "text": [
      "sampling\\쇼핑_3390.wav 파일의 총 길이는 265 초입니다.\n",
      "./sampling\\쇼핑_3390_00000.wav\n",
      "./sampling\\쇼핑_3390_00120.wav\n",
      "./sampling\\쇼핑_3390_00240.wav\n"
     ]
    },
    {
     "name": "stderr",
     "output_type": "stream",
     "text": [
      " 68%|██████▊   | 54/80 [37:24<14:58, 34.56s/it]"
     ]
    },
    {
     "name": "stdout",
     "output_type": "stream",
     "text": [
      "sampling\\쇼핑_3423.wav 파일의 총 길이는 411 초입니다.\n",
      "./sampling\\쇼핑_3423_00000.wav\n",
      "./sampling\\쇼핑_3423_00120.wav\n",
      "./sampling\\쇼핑_3423_00240.wav\n",
      "./sampling\\쇼핑_3423_00360.wav\n"
     ]
    },
    {
     "name": "stderr",
     "output_type": "stream",
     "text": [
      " 69%|██████▉   | 55/80 [38:12<16:05, 38.62s/it]"
     ]
    },
    {
     "name": "stdout",
     "output_type": "stream",
     "text": [
      "sampling\\쇼핑_3522.wav 파일의 총 길이는 355 초입니다.\n",
      "./sampling\\쇼핑_3522_00000.wav\n",
      "./sampling\\쇼핑_3522_00120.wav\n",
      "./sampling\\쇼핑_3522_00240.wav\n"
     ]
    },
    {
     "name": "stderr",
     "output_type": "stream",
     "text": [
      " 70%|███████   | 56/80 [38:52<15:37, 39.08s/it]"
     ]
    },
    {
     "name": "stdout",
     "output_type": "stream",
     "text": [
      "sampling\\쇼핑_3559.wav 파일의 총 길이는 342 초입니다.\n",
      "./sampling\\쇼핑_3559_00000.wav\n",
      "./sampling\\쇼핑_3559_00120.wav\n",
      "./sampling\\쇼핑_3559_00240.wav\n"
     ]
    },
    {
     "name": "stderr",
     "output_type": "stream",
     "text": [
      " 71%|███████▏  | 57/80 [39:29<14:41, 38.35s/it]"
     ]
    },
    {
     "name": "stdout",
     "output_type": "stream",
     "text": [
      "sampling\\쇼핑_3642.wav 파일의 총 길이는 364 초입니다.\n",
      "./sampling\\쇼핑_3642_00000.wav\n",
      "./sampling\\쇼핑_3642_00120.wav\n",
      "./sampling\\쇼핑_3642_00240.wav\n",
      "./sampling\\쇼핑_3642_00360.wav\n"
     ]
    },
    {
     "name": "stderr",
     "output_type": "stream",
     "text": [
      " 72%|███████▎  | 58/80 [40:10<14:22, 39.18s/it]"
     ]
    },
    {
     "name": "stdout",
     "output_type": "stream",
     "text": [
      "sampling\\쇼핑_371.wav 파일의 총 길이는 548 초입니다.\n",
      "./sampling\\쇼핑_371_00000.wav\n",
      "./sampling\\쇼핑_371_00120.wav\n",
      "./sampling\\쇼핑_371_00240.wav\n",
      "./sampling\\쇼핑_371_00360.wav\n",
      "./sampling\\쇼핑_371_00480.wav\n"
     ]
    },
    {
     "name": "stderr",
     "output_type": "stream",
     "text": [
      " 74%|███████▍  | 59/80 [41:15<16:27, 47.03s/it]"
     ]
    },
    {
     "name": "stdout",
     "output_type": "stream",
     "text": [
      "sampling\\쇼핑_3763.wav 파일의 총 길이는 395 초입니다.\n",
      "./sampling\\쇼핑_3763_00000.wav\n",
      "./sampling\\쇼핑_3763_00120.wav\n",
      "./sampling\\쇼핑_3763_00240.wav\n",
      "./sampling\\쇼핑_3763_00360.wav\n"
     ]
    },
    {
     "name": "stderr",
     "output_type": "stream",
     "text": [
      " 75%|███████▌  | 60/80 [42:03<15:43, 47.19s/it]"
     ]
    },
    {
     "name": "stdout",
     "output_type": "stream",
     "text": [
      "sampling\\쇼핑_3812.wav 파일의 총 길이는 390 초입니다.\n",
      "./sampling\\쇼핑_3812_00000.wav\n",
      "./sampling\\쇼핑_3812_00120.wav\n",
      "./sampling\\쇼핑_3812_00240.wav\n",
      "./sampling\\쇼핑_3812_00360.wav\n"
     ]
    },
    {
     "name": "stderr",
     "output_type": "stream",
     "text": [
      " 76%|███████▋  | 61/80 [42:48<14:43, 46.50s/it]"
     ]
    },
    {
     "name": "stdout",
     "output_type": "stream",
     "text": [
      "sampling\\쇼핑_3859.wav 파일의 총 길이는 351 초입니다.\n",
      "./sampling\\쇼핑_3859_00000.wav\n",
      "./sampling\\쇼핑_3859_00120.wav\n",
      "./sampling\\쇼핑_3859_00240.wav\n"
     ]
    },
    {
     "name": "stderr",
     "output_type": "stream",
     "text": [
      " 78%|███████▊  | 62/80 [43:28<13:21, 44.51s/it]"
     ]
    },
    {
     "name": "stdout",
     "output_type": "stream",
     "text": [
      "sampling\\쇼핑_3863.wav 파일의 총 길이는 336 초입니다.\n",
      "./sampling\\쇼핑_3863_00000.wav\n",
      "./sampling\\쇼핑_3863_00120.wav\n",
      "./sampling\\쇼핑_3863_00240.wav\n"
     ]
    },
    {
     "name": "stderr",
     "output_type": "stream",
     "text": [
      " 79%|███████▉  | 63/80 [44:06<12:04, 42.61s/it]"
     ]
    },
    {
     "name": "stdout",
     "output_type": "stream",
     "text": [
      "sampling\\쇼핑_462.wav 파일의 총 길이는 351 초입니다.\n",
      "./sampling\\쇼핑_462_00000.wav\n",
      "./sampling\\쇼핑_462_00120.wav\n",
      "./sampling\\쇼핑_462_00240.wav\n"
     ]
    },
    {
     "name": "stderr",
     "output_type": "stream",
     "text": [
      " 80%|████████  | 64/80 [44:46<11:11, 41.98s/it]"
     ]
    },
    {
     "name": "stdout",
     "output_type": "stream",
     "text": [
      "sampling\\쇼핑_478.wav 파일의 총 길이는 378 초입니다.\n",
      "./sampling\\쇼핑_478_00000.wav\n",
      "./sampling\\쇼핑_478_00120.wav\n",
      "./sampling\\쇼핑_478_00240.wav\n",
      "./sampling\\쇼핑_478_00360.wav\n"
     ]
    },
    {
     "name": "stderr",
     "output_type": "stream",
     "text": [
      " 81%|████████▏ | 65/80 [45:32<10:45, 43.04s/it]"
     ]
    },
    {
     "name": "stdout",
     "output_type": "stream",
     "text": [
      "sampling\\쇼핑_508.wav 파일의 총 길이는 335 초입니다.\n",
      "./sampling\\쇼핑_508_00000.wav\n",
      "./sampling\\쇼핑_508_00120.wav\n",
      "./sampling\\쇼핑_508_00240.wav\n"
     ]
    },
    {
     "name": "stderr",
     "output_type": "stream",
     "text": [
      " 82%|████████▎ | 66/80 [46:12<09:48, 42.07s/it]"
     ]
    },
    {
     "name": "stdout",
     "output_type": "stream",
     "text": [
      "sampling\\쇼핑_509.wav 파일의 총 길이는 373 초입니다.\n",
      "./sampling\\쇼핑_509_00000.wav\n",
      "./sampling\\쇼핑_509_00120.wav\n",
      "./sampling\\쇼핑_509_00240.wav\n",
      "./sampling\\쇼핑_509_00360.wav\n"
     ]
    },
    {
     "name": "stderr",
     "output_type": "stream",
     "text": [
      " 84%|████████▍ | 67/80 [46:56<09:16, 42.79s/it]"
     ]
    },
    {
     "name": "stdout",
     "output_type": "stream",
     "text": [
      "sampling\\쇼핑_514.wav 파일의 총 길이는 334 초입니다.\n",
      "./sampling\\쇼핑_514_00000.wav\n",
      "./sampling\\쇼핑_514_00120.wav\n",
      "./sampling\\쇼핑_514_00240.wav\n"
     ]
    },
    {
     "name": "stderr",
     "output_type": "stream",
     "text": [
      " 85%|████████▌ | 68/80 [47:34<08:16, 41.38s/it]"
     ]
    },
    {
     "name": "stdout",
     "output_type": "stream",
     "text": [
      "sampling\\쇼핑_519.wav 파일의 총 길이는 415 초입니다.\n",
      "./sampling\\쇼핑_519_00000.wav\n",
      "./sampling\\쇼핑_519_00120.wav\n",
      "./sampling\\쇼핑_519_00240.wav\n",
      "./sampling\\쇼핑_519_00360.wav\n"
     ]
    },
    {
     "name": "stderr",
     "output_type": "stream",
     "text": [
      " 86%|████████▋ | 69/80 [48:23<08:00, 43.65s/it]"
     ]
    },
    {
     "name": "stdout",
     "output_type": "stream",
     "text": [
      "sampling\\쇼핑_55.wav 파일의 총 길이는 370 초입니다.\n",
      "./sampling\\쇼핑_55_00000.wav\n",
      "./sampling\\쇼핑_55_00120.wav\n",
      "./sampling\\쇼핑_55_00240.wav\n",
      "./sampling\\쇼핑_55_00360.wav\n"
     ]
    },
    {
     "name": "stderr",
     "output_type": "stream",
     "text": [
      " 88%|████████▊ | 70/80 [49:06<07:13, 43.40s/it]"
     ]
    },
    {
     "name": "stdout",
     "output_type": "stream",
     "text": [
      "sampling\\쇼핑_551.wav 파일의 총 길이는 377 초입니다.\n",
      "./sampling\\쇼핑_551_00000.wav\n",
      "./sampling\\쇼핑_551_00120.wav\n",
      "./sampling\\쇼핑_551_00240.wav\n",
      "./sampling\\쇼핑_551_00360.wav\n"
     ]
    },
    {
     "name": "stderr",
     "output_type": "stream",
     "text": [
      " 89%|████████▉ | 71/80 [49:48<06:26, 42.98s/it]"
     ]
    },
    {
     "name": "stdout",
     "output_type": "stream",
     "text": [
      "sampling\\쇼핑_558.wav 파일의 총 길이는 352 초입니다.\n",
      "./sampling\\쇼핑_558_00000.wav\n",
      "./sampling\\쇼핑_558_00120.wav\n",
      "./sampling\\쇼핑_558_00240.wav\n"
     ]
    },
    {
     "name": "stderr",
     "output_type": "stream",
     "text": [
      " 90%|█████████ | 72/80 [50:29<05:38, 42.37s/it]"
     ]
    },
    {
     "name": "stdout",
     "output_type": "stream",
     "text": [
      "sampling\\쇼핑_638.wav 파일의 총 길이는 106 초입니다.\n",
      "./sampling\\쇼핑_638_00000.wav\n"
     ]
    },
    {
     "name": "stderr",
     "output_type": "stream",
     "text": [
      " 91%|█████████▏| 73/80 [50:41<03:52, 33.17s/it]"
     ]
    },
    {
     "name": "stdout",
     "output_type": "stream",
     "text": [
      "sampling\\쇼핑_642.wav 파일의 총 길이는 71 초입니다.\n",
      "./sampling\\쇼핑_642_00000.wav\n"
     ]
    },
    {
     "name": "stderr",
     "output_type": "stream",
     "text": [
      " 92%|█████████▎| 74/80 [50:48<02:33, 25.55s/it]"
     ]
    },
    {
     "name": "stdout",
     "output_type": "stream",
     "text": [
      "sampling\\쇼핑_768.wav 파일의 총 길이는 411 초입니다.\n",
      "./sampling\\쇼핑_768_00000.wav\n",
      "./sampling\\쇼핑_768_00120.wav\n",
      "./sampling\\쇼핑_768_00240.wav\n",
      "./sampling\\쇼핑_768_00360.wav\n"
     ]
    },
    {
     "name": "stderr",
     "output_type": "stream",
     "text": [
      " 94%|█████████▍| 75/80 [51:35<02:39, 31.96s/it]"
     ]
    },
    {
     "name": "stdout",
     "output_type": "stream",
     "text": [
      "sampling\\쇼핑_788.wav 파일의 총 길이는 191 초입니다.\n",
      "./sampling\\쇼핑_788_00000.wav\n",
      "./sampling\\쇼핑_788_00120.wav\n"
     ]
    },
    {
     "name": "stderr",
     "output_type": "stream",
     "text": [
      " 95%|█████████▌| 76/80 [51:57<01:55, 28.95s/it]"
     ]
    },
    {
     "name": "stdout",
     "output_type": "stream",
     "text": [
      "sampling\\쇼핑_797.wav 파일의 총 길이는 193 초입니다.\n",
      "./sampling\\쇼핑_797_00000.wav\n",
      "./sampling\\쇼핑_797_00120.wav\n"
     ]
    },
    {
     "name": "stderr",
     "output_type": "stream",
     "text": [
      " 96%|█████████▋| 77/80 [52:19<01:20, 26.67s/it]"
     ]
    },
    {
     "name": "stdout",
     "output_type": "stream",
     "text": [
      "sampling\\쇼핑_830.wav 파일의 총 길이는 380 초입니다.\n",
      "./sampling\\쇼핑_830_00000.wav\n",
      "./sampling\\쇼핑_830_00120.wav\n",
      "./sampling\\쇼핑_830_00240.wav\n",
      "./sampling\\쇼핑_830_00360.wav\n"
     ]
    },
    {
     "name": "stderr",
     "output_type": "stream",
     "text": [
      " 98%|█████████▊| 78/80 [53:02<01:03, 31.70s/it]"
     ]
    },
    {
     "name": "stdout",
     "output_type": "stream",
     "text": [
      "sampling\\쇼핑_879.wav 파일의 총 길이는 390 초입니다.\n",
      "./sampling\\쇼핑_879_00000.wav\n",
      "./sampling\\쇼핑_879_00120.wav\n",
      "./sampling\\쇼핑_879_00240.wav\n",
      "./sampling\\쇼핑_879_00360.wav\n"
     ]
    },
    {
     "name": "stderr",
     "output_type": "stream",
     "text": [
      " 99%|█████████▉| 79/80 [53:47<00:35, 35.82s/it]"
     ]
    },
    {
     "name": "stdout",
     "output_type": "stream",
     "text": [
      "sampling\\쇼핑_882.wav 파일의 총 길이는 807 초입니다.\n",
      "./sampling\\쇼핑_882_00000.wav\n",
      "./sampling\\쇼핑_882_00120.wav\n",
      "./sampling\\쇼핑_882_00240.wav\n",
      "./sampling\\쇼핑_882_00360.wav\n",
      "./sampling\\쇼핑_882_00480.wav\n",
      "./sampling\\쇼핑_882_00600.wav\n",
      "./sampling\\쇼핑_882_00720.wav\n"
     ]
    },
    {
     "name": "stderr",
     "output_type": "stream",
     "text": [
      "100%|██████████| 80/80 [55:21<00:00, 41.52s/it]\n"
     ]
    }
   ],
   "source": [
    "from tqdm import tqdm\n",
    "\n",
    "text_final_list = []\n",
    "wav_list = os.listdir(\"./sampling\")\n",
    "wav_list = [os.path.join(\"sampling\", i) for i in wav_list if i.count(\"_\") == 1]\n",
    "for wav_filename in tqdm(wav_list):\n",
    "    cut_wav(wav_filename)\n",
    "    data_list = get_datalist(wav_filename)\n",
    "    stt_result_list = transcribe_audio(data_list)\n",
    "    text_final = concatenate_texts(stt_result_list)\n",
    "    text_final_list.append(text_final)"
   ],
   "metadata": {
    "collapsed": false,
    "ExecuteTime": {
     "start_time": "2023-06-29T19:07:26.162738Z",
     "end_time": "2023-06-29T20:02:48.081435Z"
    }
   }
  },
  {
   "cell_type": "code",
   "execution_count": 34,
   "outputs": [],
   "source": [
    "with open(\"shopping_data.txt\",\"w\")as f:\n",
    "    f.write(\"\\n\".join(text_final_list))"
   ],
   "metadata": {
    "collapsed": false,
    "ExecuteTime": {
     "start_time": "2023-06-29T20:10:12.018993Z",
     "end_time": "2023-06-29T20:10:12.026994Z"
    }
   }
  },
  {
   "cell_type": "code",
   "execution_count": 33,
   "outputs": [
    {
     "data": {
      "text/plain": "궁금 쇼핑 0 0 0입니다 무엇을 도와드릴까요 이게 자동 주문을 했는데 연결이 바로 됐네요 제가 한번 확인해 보겠습니다 고객님 성함과 핸드폰 번호 말씀 부탁드리겠습니다 000 000 소중한 정보 확인 감사합니다 고객님 지금 주문이 되어 있지는 않고요 주민번호 오류 나서 넘어가거든요 아 그러십니까 그럼 제가 주문 바로 도와 드릴까요네네 주소지가 정확하게 등록이 되어 있지 않은데요 주소 한번 부탁을 드리겠습니다네 경기도 의정부시 00 00 00 00 00 00 다시 한번 확인 하겠습니다 경기도 의정부시 000000 확인 되고요 00 00 00 맞습니까네 맞아요 방송하고 있는 올인원스쿼트머신 주문하시는게 맞습니까네 맞아요네 색상 블랙과 화이트 중에 어느 색상으로 도와드릴까요 블랙이요네 자동 주문 할인 5,000원 적용하여 금액을 14만 4천 원입니다 일시불로 결제하면 만 원 더 할인됩니다 결제는 카드로 도와드릴까요 카드요 내일 카드 번호 말씀 부탁드리겠습니다 000000 다시 한번 확인 하겠습니다 000000 내일 카드 소유진은 고객님 본인 되십니까네 고객님 소리에 카드가 맞습니까네 저희 엄마 카드인데요 내일 소유지분 성함 말씀 부탁드립니다 00025 맞습니까네 맞아요네 000 고객님이 생년월일 6자리 말씀 부탁드리겠습니다 000000 카드 유효기간 말씀 부탁드리겠습니다 여기 그냥 써져 있는 걸로 불러 볼게요 4 4 0 0 0 0 0 0 0 0 4 4 무이자 6개월까지 가능하구요 20일로 하시면 아까 말씀드린 것처럼 만 원 할인됩니다 만약에 할부하면 얼마 안 되는 거예요 할부하면 5,000원만 할인되서 14만 4천 원입니다 잠시만요 아 일시불로 할게요네 고객님이 안전한 결제를 위해 카드인증 ARS로 연결해 드리겠습니다 안내멘트에 따라 카드 비밀번호 앞 두 자리 어떤으로 입력 부탁드립니다 연결 하겠습니다네 알겠어요 예 고객님 국민카드 일시불 결제 금액 13만 4천 원으로 카드 결제 알았습니다네 예 다음번 주문시 편리한 결제를 위해 카드정보 등록을 도와 드릴까요 아니요 등록 안 해 주셔도 돼요 내일 상품은 일요일 공유를 제외하고 4일 이내에 배송이 됩니다 예 예 교환이나 반품은 배송받으신 날로부터 30일이내에 연락 주셔야 하며 제품하자에 개봉 및 사용 시 기간 경과 시 교환 반품이 불가하오니 이점 양해 부탁드리겠습니다네 알겠어요 더 문의사항은 없으십니까네 없어요 좋은 상품으로 찾아뵙겠습니다 홍콩 고맙습니다네 감사합니다                                                                                                                                                                                                                                                                                                                                                                                                                                                                                                                                                                                                                                                                                                                                                                                                                                                                                                                                                                                                                                                                                                                                                                                                                                                                                                                                                                                                                                                                                                                                                                                                                                                                                                                                                                                                                                                                                                                0.0125\n000000 고객님 주문하려고 했는데 잘 안 됐나 봐요 아 그러십니까 이번만 예비적으로 혜택과 적용 해 드리겠습니다 정보 확인 후 주문 도와드리겠습니다 자동 주문 혜택은 하루입니다 주문 도와 드리면 되겠습니까 그리고 다른 곳으로 보내려고요 아네 고객님 이상한 먼저 말씀 부탁드립니다 맞습니까네 고객님이 폰 번호 말씀 부탁드립니다 0000 0000 수정한 정보 확인 감사합니다 고객님 그러면 받으시는 분 성함하고 전화번호 주소를 말씀해 주시겠습니까 00 00 00 00 00 배송지 말씀해 주시겠어요 고객님 조회가 안 되시는데 정확한 번지수를 말씀해 보시겠어요 그거 말고는 잘 모르겠어요 고객님 정확한 배송지를 말씀해 주셔야 될 것 같습니다 다른 거는 알아서 다 오던데요 이거는 식품이기 때문에 배송 중 오류가 되면 공공 고객님께서 금액만 손해 볼 수도 있기 때문에 정확한 배송지를 확인해 주셔야 합니다 고객님 상품 물량이 있으면 언제라도 주문은 가능하니까요 정확한 주소 확인 하시는게 좋을 것 같습니다 못해 죄송합니다 더 문의할 수 없습니까 항상 좋은 서비스로 찾아뵙겠습니다 000였습니다 고객님 먼저 통화 종료 해 주시겠습니까 수고하세요                                                                                                                                                                                                                                                                                                                                                                                                                                                                                                                                                                                                                                                                                                                                                                                                                                                                                                                                                                                                                                                                                                                                                                                                                                                                                                                                                                                                                                                                                                                                                                                                                                                                                                                                                                                                                                                                                                                                                                                                                                                                                                                                                                                                                                                                                                                                                                                                                                                                                                                                                          0.0125\n궁금 쇼핑 궁입니다 지금 농협 카드로 결제하면 5% 할인 되는 거죠 청구할인 됩니다 이건 다음 달에 청구서 받아 보면 결제금액에서 할인된다는 겁니다 농협 BC 카드는 적용이 안 됩니다네 알겠어요 고객님 주문 도와 드릴까요 궁금 쇼핑 처음 이용하십니까 한번 확인해 주세요네 고객님 전화번호 말씀해 주시겠습니까 00 00 00 00 00 00 등록되지 않은 분으로 확인되네요 등록 후 주문 도와드리겠습니다 고객님에 회원 서비스 제공을 위해 성함 생년월일 성별 주소 연락처를 등록하고 있습니다 이에 동의하십니까네네 감사합니다 성함 말씀 부탁드립니다 000요 확인 감사합니다 생년월일 6자리 말씀 부탁드립니다 00 00 00 확인 감사합니다 전화번호 00 00 00 00 등록해 드렸습니다 집 전화번호 등록해 드릴까요 아니요 내일 집 전화 없으면 휴대폰 번호만 등록하겠습니다네 그렇게 해주세요네 주소 말씀 부탁드립니다 부산시 연제구 00 00 00 확인 감사합니다 이벤트나 상품 서비스 광고를 문자로 드릴 수 있습니다네 방송 보신 상품 스위스 공공 전동 공구 자동 주문과 1,000원 할인 혜택 드릴 드려서 결제 도움드리겠습니다 결제는 카드로 하시겠습니까네 카드 번호 말씀 부탁드립니다 00 00 00 궁금 궁금 궁금 궁금 궁금 카드 소유주 고객님 본인 되십니까네 카드 유효기간 말씀 부탁드립니다 00 00 00 확인 감사합니다 최대 10개월 무이자 할부 집 게임을 해 주세요네 고객님이 안전한 결제를 위해 카드인증 ARS로 연결 하겠습니다 지금 할인받아서 금액이 138,000원 2죠 아니요 지금은 13만 7천 원에 대해서 10개월로 해 드릴 거고요 승인된 다음에 얼마가 할인되는 길을 안내해 드리겠습니다네 고객님 안전한 결제를 위해 카드인증 ARS 연결 하겠습니다 안내멘트에 따라 카드 비밀번호 앞 두 자리 입력 부탁드립니다 연결 하겠습니다네 요청하신 상품 13만 7천 원 6개월 무이자 할부 승인되었습니다 다음번 편리한 교체를 위해 카드 정보 등록 드릴까요 고객님 결제하신 카드는 할인이 안 됩니다 카드가 할인 될 경우에는 카드정보 나네 할인해 여기 나오는데이 카드는 할인 내역이 없습니다 지금이 카드가 농협카드인데 이번 주 할인되는 카드 잖아요 농협카드는 맞는데 할인되는 카드는 아닙니다 저희가 카드 사가 아니라 정확한 확인이 안 됩니다 할인되는 카드 농협 카드사에서 요청을 한 겁니다네 잘 알겠습니다 그럼 그냥 주문해 주세요네 알겠습니다 고객님 상품은 배송은 일요일 공휴일 제외 평균 3일이내 배송됩니다 교환 반품은 배송 받으신 날로부터 15일 이내에 연락을 주셔야 됩니다 잠깐만요 아까 본 건 138,000원이 금액은 뭐예요 조금 전에 말씀드렸는데 13만 8천 원은 상품 가격이고 자동 주문했을때 천원과 일시불 했을 때에 5천 원 할인해서 132,000원인 거예요 여기 농협카드로 결제시에 5% 청구할인 혜택을 받고 있는데 안타깝게 이카드는 할인이 안 된다고 안내해 드렸고요네 알겠습니다 그럼 적립은 되는 겁니까네 모바일에서 했을 때에 모두 동일하게 20% 적립이 됩니다 지금 결제된 금액이 148,000원 이잖아요 20%인 2만 7천 원 정도가 전국 되는 거죠 이번 주에만 되는 거예요네이 상품 많이 아니라 모든 상품이 해당됩니다 근데이 상품은 안타깝지만 지금 방송중에만 구매가 가능한 상품이에요 아직 한 30분 정도 남았어요네 일단 알겠습니다 고객님 모바일로 있을 때 만약에 가입 신청을 하시면 등록이 되어 있을 거예요 그거는 전화상으로 가입이 되어 있다는 거예요 등록여부를 먼저 확인하셔야 만 전화상이나 모바일에서 모든 주문이 가능합니다네 알겠습니다 혹시라도 모르시면 전화 주시기 바랍니다네 감사합니다 더 문의사항은 없습니까네 없어요네 저는 000 있습니다 감사합니다네 수고하세요                                                                                                                                                                                                                                                                                                                                                                                                                                                                                                                                                                                                                                                                                                                                                                                                                                                                                                                                                                                                                                                                                                                                                                                                                                              0.0125\n궁금 쇼핑 0 0 0입니다 여보세요 예 고객님 ARS 오류가 발생 해서 저희 상담사가 연결되었습니다 그런 거예요네 고객님 고객님 정보 등록 후 주문 도와드리겠습니다네 서비스의 제공 우리의 성함 생년월일 성별 주소 연락처를 등록하고 있습니다 이에 동의하십니까네 동의합니다 고객님 성함과 생년월일 6자리 말씀 부탁드립니다 0 0 0 00 00 00 핸드폰 번호 부탁드립니다 00 00 00 00 00 00 있으시면 등록해 드릴까요 제가 없어요네 그럼 주소지 확인 부탁드립니다 대전 동구 0000 소중한 정보 확인 감사드립니다 이벤트나 상품 서비스 광고 문자를 드릴 수 있습니다네 주문하신 상품이 현재 방송 중인 슬레진저 남성 방 1 + 기모 워킹화 맞습니까네 맞아요네 색상과 사이즈 확인 부탁드립니다 내일이 252요 결제하실 금액은 자동주문 할인 5만 8천 8백 원입니다네 카드 결제 도와 드릴까요네 카드 번호 확인 부탁드립니다 0000 00 00 00 00 00 카드 소유진은 고객님 본인 맞습니까네 저예요 유효 기간 내 자리 말씀 부탁드립니다 생년월일 6자리 다시 말씀 부탁드립니다 00 00 배송은 등록하신 주소지로 해 드리면 될까요 무이자 5개월 가능한데 어떻게 해 드릴까요 1시 불이요 안전한 결제를 위해 카드 인증 ARS로 연결해 드리겠습니다 안내멘트를 잘 들으시고 카드 비밀번호 앞 두 자리 입력 부탁드립니다 고객님 58,800원 21 결제 승인되었습니다네 감사합니다 다음번 주문시 편하게 결제할 수 있게 카드 정보 등록된 드릴까요네 상품은 일요일 공휴일 제외하고 평균 3일이내 배송됩니다네 알겠습니다 교환 상품은 배송 완료 후 7일 이내에 연락 주셔야 하며 제품하자에 택 제거 외부 착화시 기간 경과 시 교환 반품이 불가하오니 이점 양해 부탁드립니다네 알겠습니다 세트상품으로 부분 교환하거나 부분 반품은 불가합니다네 더 문의사항은 없으십니까네 없습니다 00 쇼핑 000이었습니다네 감사합니다                                                                                                                                                                                                                                                                                                                                                                                                                                                                                                                                                                                                                                                                                                                                                                                                                                                                                                                                                                                                                                                                                                                                                                                                                                                                                                                                                                                                                                                                                                                                                                                                                                                                                                                                                                                                                                                                                                                                                                                                                                                                                                                                                                       0.0125\n행복을 전하는 공공 쇼핑 상담 4000입니다네 안녕하세요 지금 나오고 있는 상품 주문 좀 하려고요 아 그렇습니까 고객님 공공 쇼핑 처음 이용하시면 고객 정보 등록 후 주문 도와 드리겠습니다네 알겠습니다네 고객님 회원 서비스 제공을 위해 성함 생년월일 성별 주소 연락처를 등록하고 있습니다 이에 동의하십니까 동의함네 감사합니다 전화 주신 고객님 본인 성함 말씀 부탁드립니다 맞습니까네 맞습니다네 생년월일 6자리 말씀 부탁드립니다 00 00 00네 전화번호 확인 부탁드립니다 000네 고객님 주소 확인 부탁드립니다네 서울시 영등포구 1,500 1000네 고객님 말씀해 주신 주소지가 서울시 영등포구 00 00 00 00 00네 맞습니다네 확인되었습니다 했습니다 소중한 정보 확인 감사합니다 이벤트나 상품 서비스 광고를 문자로 드려도 되겠습니까 있어요네 불편 드리지 않도록 주문해 관한 문자 발송하겠습니다네 알겠습니다 현재 방송 중인 상품 남성용 여성용 중 어느 상품 주문 도와 드릴까요네네 C2 여성 레이저 워싱 데님 3종 49,000원 상품 주문해 드릴까요 그런데 배꼽 밑에 길이가 어때요 미디길이 말씀하시는 건가요 열 사이즈로 입으시는 거세요 28사이즈 28 사이즈면 잠시만요 아네 미리가 너무 짧으면 아줌마들은 좀 불편하지 않아요 그래서요 아 그런데이 상품이 하이웨스트 상품은 아니거든요 6호까지 올라오나요 원래 하이 웨스트가 배꼽 위로 올라오는 건데 그것에 반이니까 배꼽 조금 및 정도 되겠네요 아 그러면 너무 타이트 하지 않을까요 신축성이 있는 상품이라서요 아 그래요 무서운 주문 해 볼게요 사서 입어 보고 안 맞으면 반품을 하든지 할게요네 28일 사이즈로 주문 도와 드릴까요네 28 사이즈예요 고객님 카드 결제로 도와드릴까요 내 카드 번호 확인 부탁드립니다네 00 00 00 말씀해 주신 카드 번호가 00 00 00 00 00 다 내 카드 소유자는 고객님 본인 되십니까네네 결제를 위해 고객님의 생년월일 다시 한번 말씀 부탁드립니다 4 0 0 0 0 0 0 카드 유효기간 확인 부탁드립니다 00 00 00 십니다 내일 4만 9천 원 결제해 드릴까요네 결제 해주세요네 고객님의 안전한 결제를 위해서 카드인증 ARS로 연결해 드리겠습니다 안내멘트에 따라 카드 비밀번호 앞 두 자리 입력 부탁드립니다 연결해 드리겠습니다네 알겠습니다                                                                                                                                                                                                                                                                                                                                                                                                                                                                                                                                                                                                                                                                                                                                                                                                                                                                                                                                                                                                                                                                                                                                                                                                                                                                                                                                                                                                                                                                                                                                                                                                                                                                                                                                                                                                                                                                                                                                                                             0.0125\n                                                                                                                                                                                                                                                                                                                                                                                                                                                                                                                                                                                                                                                                                                                                                                                                                                                                                                                                                                                                                                                                                                                                                                                                                                                                                                                                                                                                                                                                                                                                                                                                                                                                                                                                                                                                                                                                                                                                                                                                                                                                                                                                                                                                                                                                                                                                                                                                                                                                                                                                                                                                                                                                                                                                                                                                                                                                                                                                                                                                                                                                                                                                                                ...  \n궁금 궁금 궁금 궁금 합니다 주문 하려고 그러는데요네 저희 0000 회원 가입이 아직 안 돼 있어서요 그 정부 등록하고 하니까 적용해서 주문 도와드리겠습니다 회원 가입은 돼 있는데요 걸어주신 전화번호는 그 등록이 안 되어 있어요 공공으로 좀 해 보시겠어요 성함으로는 저희가 좀 어렵습니다 전화번호는 조회가 가능하고요 000000 한번 해 보시겠어요 되시는데요 그럼 이걸로 할까요네 그래요네 정보 확인 후 도움 드리겠습니다 그 성함 확인 부탁드리겠습니다 00025 확인해 주셔서 감사합니다 그 저희 쪽에 그 주소가 아직 그 등록이 안 되어 있어서요 주소 확인 부탁드리겠습니다 경기도 양평군 00000 경기도 양평군 00000 맞습니까네 자동 주문 전화 할인 적용해서 주문 도와드리겠습니다네네 고객님 올인원스쿼트머신 149,000원 상품 맞습니까네 맞아요이 블랙과 화이트가 있는데 색상 선택 부탁드리겠습니다 블록으로 해주세요 저 자동주문전화 할인 5,000원은 적용해서 했고요 그 이제 20% 할인 만 원이고요네 인식으로 하는 거니까네 카드 결제 도와 드릴까요네 농협카드는 적용이 되는 거죠 예 맞습니다 카드 번호네 말씀해 주세요 000000 번호가 00 00 00 00 00 00 맞습니까네 맞아요이 기간 확인 부탁드리겠습니다 공공연 공공 워리어 카드 소유자는 고객님 본인 되십니까네 카드 소유자 이신 000 고객님이 생년월일 6자리 확인 부탁드립니다 0000 공연 확인 감사합니다 그러시면 20일로 13만 4천 원 결제 요청하겠습니다 13만 4천 원이요네 맞습니다 안 맞는데요네 여기서 이제 그 50% 할인 적용이 되면 이제 추가로 6,700원 청구 할인이 되십니다 그러면은 그게 합해서 77,000 300원이 된다는 건가요 예 맞습니다네 알겠습니다 고객님이 안전한 결제를 위해 카드인증 ARS로 연결해 드리겠습니다 안내멘트에 따라 카드 비밀번호 앞 두 자리 입력 부탁드립니다 연결 하겠습니다 알겠어요네 카드 승인 중입니다네네 결제 잘 되었습니다 그 고객님 카드 송부 등록해 드릴까요 아니에요 근데 모바일 하고 내가 볼 때는 차이가 뭘까요 모바일에서 청구 할인이 7% 그래요 그래요 또 이제 적립이 있는데 저희 상담 쪽에서 하셔가지고 적립은 안 되고요 안에 이제 주문을 자주 하시면은 적립금 받는게 이제 또 좋으시고요 뭐 고객님 상황에 따라서 이제 장단점이 있으시겠죠네 알겠습니다 잘 드셔서 이제 배송은 일요일 공휴일 제외하고 평균 4일 안에 배송이 됩니다네 교환반품은 배송받으신 날로부터 30일 안에 연락 주셔야 하며 제품하자 회 개봉 및 사용 시 기간 경과 시 교환반품불가 한정 양해 부탁드리겠습니다네 저는 잘 되었습니다 더 문의사항은 없습니까 아네 알겠습니다 2019년에도 좋은 상품으로 찾아뵙겠습니다 0006습니다 수고하세요                                                                                                                                                                                                                                                                                                                                                                                                                                                                                                                                                                                                                                                                                                                                                                                                                                                                                                                                                                                                                                                                                                                                                                                                                                                                                                                                                                                                                                                                                                                                                                                                                                                                                                                                              0.0125\n000000입니다 방송하는 거 주문 하려고 하거든요 아 그러십니까 0000 처음 이용하시면 고객 정보 등록 후 상품 주문 도와드리겠습니다네 그래요 전화 주신 고객님이 회원 서비스 제공 우리의 성함 생년월일 성별 주소 연락처를 등록하고 있습니다 이에 동의하십니까네 감사합니다 성함 말씀 부탁드립니다 공룡 확인 감사합니다 생년월일 6자리 말씀 부탁드립니다 00000 확인 감사합니다 전화번호 말씀 부탁드립니다 00 00 00 00 00 00 소중한 정보 확인 감사 드리겠습니다 유선 번호 등록 해 드릴까요 없습니다네 감사합니다 주소 말씀 부탁드립니다 대전 중구 0000 말씀해 주신 주소지는 대전 중구 0000 맞습니까 맞아요네 감사합니다 이벤트나 상품 서비스 광고를 문자로 드릴 수 있습니다네 그래요 방송 중인 올인원 스쿼트 자동 주문 5,000원 할인을 드려서 처리 도움 드리면 되겠습니까네 색상은 블랙과 화이트가 있습니다 어느 색상 도움 드릴까요 블로그를 해주시죠 결제는 카드로 하시겠습니까네 카드 번호 말씀 부탁드립니다 잠깐만요네 고객님네 00 00 00 00 00 00 고객님 본인 되십니까 아예 배우자입니다 그럼 배우자 성함 말씀 부탁드립니다 공연 확인 감사합니다 000 생년월일 6자리 말씀 부탁드립니다 000000 카드 여기가 말씀 부탁드립니다 00 00 확인 감사합니다 2d5 개월까지 무이자 할부 가능 합니다 몇 개월 처리 도와 드릴까요 근데 아까 그 저 카드 번호가 다 안 된 거 같은데요 0000네 고객님 7개월까지 무이자 할부 가능합니다 예 알겠어요 6개월 해 주세요네 6개월 해드릴까요 고객님의 안전한 결제를 위해서 카드인증 ARS로 연결 합니다 안내멘트에 따라 카드 비밀번호 앞 두 자리 입력 부탁드립니다 연결 하겠습니다 알겠어요 144000원 6개월로 무이자 할부 숭인동 드렸습니다 다음번 편리한 교체를 위해 카드 정보 등록해 드릴까요네 해 주세요네 감사합니다 현금 배송은 일요일 공휴일 대회 일주일 내에 배송됩니다네 교환이나 반품은 배송받으신 날로부터 30일이내 연락 주셔야 하며 제품에 하자 위에 및 사용 시 기간 경과 시 교환이나 반품이 불가하오니 이점 양해 부탁드립니다이 제품 수령 후 박스 보관 부탁드립니다네 알겠습니다 덥은 야샤 없습니까 됐습니다 고객님 2019년에도 좋은 상품으로 찾아뵙겠습니다 000 열심히 다네 고맙습니다                                                                                                                                                                                                                                                                                                                                                                                                                                                                                                                                                                                                                                                                                                                                                                                                                                                                                                                                                                                                                                                                                                                                                                                                                                                                                                                                                                                                                                                                                                                                                                                                                                                                                                                                                                                                                                                                                                                                                             0.0125\n공공 쇼핑 000입니다네 안녕하세요 000 고객님 되십니까네 맞습니다 문의 주셨던 제모피아 상품 반품 가능하시고요 안에 구성품 누락되지 않게 포장 부탁드립니다네 놓을게요 기존에 배송 받으셨던 주소지가 부산시 사하구 00000 맞으세요 몇 동 몇 호세요 저희 000005 상품이 업체에 입고되면 확인 후 카드 취소 되실 겁니다네 알겠습니다 현금 이네요 고객님 현금으로 입금 하셨나요 환불 받으실 계좌 번호 확인해 주시겠어요 기업은행 있고요 00000 예금주는 000 고객님 본인 되세요 거예요 아드님 성함은 어떻게 되시는데요 그럼 이쪽 계좌로 업체 입고 다니고 주말 공휴일 제외하고 3일에서 4일 내에 입금 됩니다 알겠습니다 수고 기사가 드리는 인수증은 1개월간 보관 부탁드립니다 잘 보관 할게요 더 문의사항은 없습니까네 없습니다 상담 4000 나네 감사합니다                                                                                                                                                                                                                                                                                                                                                                                                                                                                                                                                                                                                                                                                                                                                                                                                                                                                                                                                                                                                                                                                                                                                                                                                                                                                                                                                                                                                                                                                                                                                                                                                                                                                                                                                                                                                                                                                                                                                                                                                                                                                                                                                                                                                                                                                                                                                                                                                                                                                                                                                                                                                                                                                                                                       0.0125\n공공 쇼핑입니다 000 고객님 되십니까네 맞습니다네 쿠쿠전기압력밥솥 번으로 연락을 드렸는데요 잠시 통화 괜찮으실까요네 괜찮아요네 다름이 아니라 쿠쿠전기압력밥솥 상품 혹시 전환 연결을 하셨습니까 뚜껑을 열었는데 열리지 않아서 교환 접수를 했거든요네 그러시면 전원 연결은 안 하셨다는 말씀이신 거죠네 맞아요네 일단 교환으로 진행을 도와 드리겠습니다 배송은 언제쯤 되나요 맞교환 처리가 조금 어렵습니다 그러면 언제 수고가 되는 거예요네 잠시만 기다려 주시겠습니까 아니 내가 상품 받은게 금요일이에요 그런데 다음날이 주말이라 월요일 날 바로 전화를 했는데요 근데 업체 확인이 안 됐다고 저녁에 전화 와서 그냥 사용하라고 했다가 오늘은 또 이렇게 넘어가고 오늘 바로 상품은 오지 않는다고 뭐 어떻게 하라는 거예요네 고객님 언제 출고가 된다는 건데요 오늘 듣는 거 오늘 되는 거 마셔요 오늘 출고는 조금 어려울 수 있습니다 제가 잘못한 것도 아니고 그쪽에서 불량을 준 건데 왜 처리가 바로 안 되는 건데요네 지금부터 안내를 해 드리려고 하는데요 안내를 도와드려도 되겠습니까네 일단은 출고로 확인되면 출고 송장을 보내야 되는데요 출고 송장은 하루 정도 걸려요 배송은 주문할 때 바로 출고가 되면서 왜 이건 안 되는 건데요 내일 주문 할 때는 이미 상품이 출고가 준비된 상태에서 주문을 받은 거 잖아요 상품수량 확보가 되고 나서 해 드린 거고 이건 불량 건으로 교환으로 진행을 해 드리는 거예요 알겠어요 그래도 오전 일찍 업체로 확인해 해서요 상품에 대해서 교환을 하라고 답변이 왔거든요 내가 이틀 전에 연락을 했는데 저녁에 연락이나 주고 일찍 전화를 줬다면 어제 줬어야지네 그리고 말을 했더니 사용을 그냥 하라고 했다 AS 증상이라고 했다가 이젠 출고가 안 된다는게 말이 안 되잖아요네 고객님 내가 이걸 왜 샀는데요 계속 쿠쿠 마쳤어요 똑같은 제품을 내가 쓰고 있다고요 아 진짜 이렇게 하면 피곤해요 그냥 반품 처리 해주세요 예 알겠습니다 반품으로 도와드리도록 하겠습니다 상품 수건은 배송 받으셨던 서울 구로구 0000 맞습니까네 맞아요네 나머지 주소 확인 부탁합니다 000000네 확인 감사합니다 상품은 그대로 포장해 주시면 택배 기사가 주말 공휴일 제외 4일에서 내일 방문하여 수고 할 예정입니다네 알겠어요 수거 기사가 드리는 인수증은 1개월간 보관 부탁드립니다 언제 환불되나요네 국민카드로 118,000원 무이자 12개월 결제하신 부분이 확인 되십니다 결제하신 카드는 상품이 정상적으로 입고되어 확인 후 주말 공휴일 제외하고 3일에서 4일 내일 취소 요청 될 예정입니다 그럼 계속 기다리라는 거네요네 죄송합니다 이거 그냥 가서 가라고요 예 빠른 수거요청 해 드리도록 하겠습니다 아 그리고 먼저 취소 부탁해 주세요 죄송하지만 상품 수거가 되어 취소 처리가 가능합니다 반품 접수 하면 바로 나오잖아요 그것만 있으면 되지 뭘 더 기다려야 하는데요 다른 업체들도 반품하면 다 그렇게 해 줘요네 최대한 빨리 처리 가능 하도록 하겠습니다 아니면 내가 전화해서 접수를 할까요 그러면 송장 번호 나오잖아요 거기서 그냥 바로 보내면 되지 뭘 얼마나 기다리는 거예요 죄송합니다 택배기사는 수거 송장이 나와야 수거가 가능한 부분이고요 공공 쇼핑에서 산 제품은 공공 쇼핑에서만 처리가 가능합니다 수거되는 날짜에 카드 취소 바로 해 주세요네 죄송하지만 아니 확인하고 이런 말 하지 말고네 죄송하지만 업체 확인 후에 처리가 가능합니다 가전제품 이다보니 빠르게 수고할 수 있게끔 요청 드리도록 하겠습니다네 지금 장난하는 것도 아니고 그렇게만 말 안 했어도 내가 이렇게까지 안 해요네 고객님 죄송합니다 빠르게 도와 드리겠습니다네 알겠어요 빨리 처리해 주세요네 죄송합니다 반품 접수 도와 드렸습니다                                                                                                                                                                                                                                                                                                                                                                                                                                                                                                                                                                                                                                                                                                                                                                                                                                                                                                                                                                                                                                                                                                                                                                                                                                                              0.0125\n공구 점핑 공공 아니 지금 이게 여러 가지 운동할 수 있다는 거죠네 맞습니다 아 이거는 자동 주문이 안 되네요 제가 등록이 안 된다고 그러는데요 지금 자동 주문 하셨는데요 등록이 안 돼서 아마 상담사 연결 된 것 같습니다 안에 등록 후 주문 도와 드릴까요 고객님네 자동 주문 하고요 행사 카드는 뭔데요 농협 NH 카드입니다 아 그건 아니고요 그러면 자동 주문만 하면 얼마예요 판매 가격이 149,000원 자동 주문 5,000원 한 되시면 144,000 원이고요 일시불로 했을 때 만 원 할인해 드리겠습니다네네 그러면 주문할게요네 감사합니다 공공 쇼핑 처음 이용해 주셔서 고객 정보 등록 후 주문 도와드리겠습니다 그럴게요 전화 주신 고객님의 회원 서비스 제공을 위해 성함 생년월일 성별 주소 연락처를 등록하고 있습니다 이에 동의하십니까네 감사합니다 성함 말씀 부탁드립니다 00025 확인 감사합니다 생년월일 6자리 말씀 부탁드립니다 궁둥이 확인 감사합니다 전화번호 말씀 부탁드립니다 000000 정보 확인 감사합니다 유선번호 등록해 드릴까요 아니요 감사합니다 주소 말씀 부탁드립니다 서울 서초구 00 00 00 00 00 00 파티요네네 고객님 말씀하신 주소 서울 서초구 0000 아파트 00 00 00 맞습니까네 맞아요네 확인 감사합니다 이벤트나 상품 서비스 광고를 문자로 드릴 수 있습니다네 그렇게 해주세요 예 방송 보시는 상품 요청하신 대로 책상 위에 블랙과 화이트가 있습니다 어느 상품으로 하실 건가요 화이트로 주세요 예 화이트색상 자동 주문 5,000원 할인 혜택 드려서 14만 4천 원 결제 도움 드리겠습니다 결제 카드 하시겠습니까네 그걸로 할게요 카드 번호 말씀 부탁드립니다네 고객님 본인 되십니까네 맞아요 카드 소유주 000 님의 생년월일 6자리 다시 한번 말씀 부탁드립니다 000000 확인 감사합니다 카드 유효기간 말씀 부탁드립니다 공금을 공공연히 아 예 감사합니다 목요일까지 무이자 할부 가능합니다 아니요 일시불로 해 주세요 일시불은 만 원 할인 혜택 드려서 13만 4천 원에 결제 도움 드리겠습니다네 고객님에 안전한 결제를 위해 카드인증 ARS로 연결합니다 안내 멘트 따라 카드 비밀번호 앞 두 자리 입력 부탁드립니다 연결하였습니다네 내일 요청하신 올인원스쿼트머신 화이트색상 134,000원 20을 승인 도움 드렸습니다 내일 다음번 편리한 결제를 위해 카드정보 등록해제 있도록 할까요네 그럴게요 감사합니다 상품 배송은 일요일 공휴일 제외 일주일 내내 배송이 됩니다네 교환이나 반품은 배송 받으신 날로부터 30일 이내에 연락을 주셔야 하며 제품에 하자 왜 개봉 및 사용 시 기간 경과 시 교환 반품 불가합니다 그런데 언제 배송 된다고요 일요일 공휴일 제외하고 4일입니다 안에 만약에 다음 주 월요일 날 배송도 가능해요 저희가 여행을 가서 조금 이번 주는 좀 그래서요 그렇게는 조금 어려울 것 같은데요 언제 여행 가시는 건가요 안 돼요 이번 주 중 3일 동안 사람이 없는데요 혹시 여기 아파트인데 아파트 경비실은 보관이 어려울까요 그런데 그이나 2일 날 출발하게 되면 바로 그 다음 날 오지 않아요 저희가 이제 보통은 말씀드린 것이 일요일 날이 연휴 때문에 업체에서 2일 날 출고 될 수도 있는데요 아마 3일 날 주문 안 되어 있을 거예요 언제요네 그런데 아직 정확하게 전달받지 못했습니다 그럼 3일이나 4일 날 주문한 거네요 예 그래서 넉넉하게 오히려 안으로 배송이 되는데 고객님 그 여행 스케줄 하고 비슷할 것 같거든요 그래서 저는 만약이 주문을 2일로 해 주신 다든가 3일 날로 해 주거나 이렇게 하면 안 되는 건가요네 그렇게는 어렵지 고객님 아 그럼 지금 바로 그냥 되는 거예요네 승인 하셨기 때문에 바로 처리가 되는 거고요 아네네 이게 지금 오늘 일이잖아요 현금 입금 하신다고 그래도 늦어도 3일 날 입금을 하셔야만 유지가 되는 거거든요 아네 그렇군요 아니면 3일 날 했는데 무통장 입금 처리 해 놓으면 3일 날 전화 한번 주셔서 이거 그러면 좀 연장해 주세요라고 하시면 될 것 같고요 그럼 어떻게 하라고요 다시 그럼 카드 안 하고요네 그럼 제가 카드 취소를 하고 무통장 입금 처리 하는 거죠네 금액은 동일 하니까요 그렇죠 그렇죠 그러면 3일안에 죄송한 마음 확인하고 2일 날 하게 되면 되는 건가요 오늘이 일요일 날이니까요 입금 일자가 3일까지 입금이에요 내일 아니더 3일은 여행 가니까 없는데요 입금 일자가 주문한 날로부터 3일이라고요 오늘 해야 된다는 거네요 그러니까 2일 날에 다시 결제 변경하셔도 4일 날 입금을 해 주셔야 되는 겁니다 복잡하네요 그러면 제가 이거를 메모를 해 놨다가 3일 날 오후 2시 까지니까요 3일 제가 오후 늦게 다시 결제 변경을 해 드릴게요 그러면 5일 날까지 입금하신 걸로 처리가 되거든요 그럼 거기서 언제 오시는 거예요네 아침에 옵니다 그러면 어렵게 없는데요 그럼 5일 내로 다시 또 변경을 하셔야 되는 건데요 아 그럼 지금 주문하면 3일 날 올 수도 있는 거네요 그렇죠 아 근데 이게 정확하게 몰라서 미안해요 아니면 근데 이거 인터넷으로도이 가격에 팔아요 고객님 모바일로 주문하시면 되는데요 고객님 이거 고객님이 다녀오셔서 하시면 되세요 그때도 하고 있어요 그때도 하니까요 잠시만요 고객님 제가 다시 정확히 안내를 해 드릴게요 저희가 입금 일자가 계속 변경이 되는 거기 때문에 갔다 와서 그냥 하는게 나을 것 같네요네 그럼 그때 오는데요 공공 쇼핑에서 만 하는 건가요 올인원스쿼트머신은 다른 쇼핑 사에서도 확인 가능한데요 고객님 그러면 방송 알림 서비스로 해 드릴까요 아니네 그럼 그렇게 해 주세요 그러면 이제 방송 할 때마다 1개월 이내 주문할 수 있도록 요청을 해 드릴 거고요 지금은 상품 취소 해 드릴게요 급한 건 아니니까요네네네 알겠습니다 고객님 내일 오전 취소 취소를 해드리고요 이게 이름이 뭐죠 저희 올인원스쿼트머신이에요 알겠습니다 그럼 그렇게 해 주세요네 우선 방송 알림에서 1개월 이내에 방송 할 때마다 고객님께 문자를 드리도록 하겠습니다네네 고객님 더 문의할 사람 없습니까네네 그거 오지는 않은 거지요네 지금 오늘 취소 했으니까요 아마 카드사로부터 취소 문자가 전달 되었을 겁니다네네 알겠습니다 더 좋은 상품으로 찾아뵙겠습니다 0 0 0 4    0.0125\nName: proportion, Length: 80, dtype: float64"
     },
     "execution_count": 33,
     "metadata": {},
     "output_type": "execute_result"
    }
   ],
   "source": [
    "import pandas as pd\n",
    "pd.Series(text_final_list).value_counts(\"\\n\")"
   ],
   "metadata": {
    "collapsed": false,
    "ExecuteTime": {
     "start_time": "2023-06-29T20:06:37.066304Z",
     "end_time": "2023-06-29T20:06:37.519276Z"
    }
   }
  },
  {
   "cell_type": "code",
   "execution_count": 35,
   "outputs": [
    {
     "data": {
      "text/plain": "['치아 보험 들어야 하나 치아 보험 애매하당 3 : 치아 보험은 뭔가 ㅠㅠ 오빠는 벌써 하나 했잖아... 임플란트 그냥 그 돈으로 치료하는 것도 하하 3 : 들어야 할 것 같은데 ㅠㅠ 임플란트 넘 비싸드라 보험 넣는 돈으로 치료하는 건? 3 : 임플란트 벌써 하셨구나 행님은 그때 얼마 주고 했지? 잘 가지도 않는데 하하 3 : 진짜 너무 비싸져?ㅠㅠ 여러 개 하면 돈 많이 깨질 듯 난 100만원 들었음 3 : 치아보험 비싼가여? 3 : 금액이? 몰랑 얼만지 아는 사람 한 몇만원 내는 거 같던디 하하 3 : ㅠㅠ 저도 알아봤었는데 예전에',\n '당근에는 없는 게 없어... 맞아 아주 용이해 하하 3 : 당근 들어가면... 뭐든 사게 돼요... 차 파는 사람도 있음; 당근 만든 사람도 개 부자 됐겠다 3 : 저는 컴퓨터 샀었는데... 아 집 파는 사람도 있음 키키 차 파는 사람 머임 하하 3 : 차도 판다고요? 3 : 대박 키키 3 : 아 집... 우와 당근에서 컴퓨터 샀어? 헐 당근으로 집 팔기 웃기다 3 : 근데 집도 대박인데... 당근으로 차 파는 사람 있음 키키 우리 뭐 팔아볼까 하하 3 : 컴퓨터 샀는데 키키 사기 당한 듯 해여... 외국인들은 사는 갑던데 우리도 좋은 거 팔아보자 3 : 그래픽 카드가... 6개월 만에 사망했어요',\n '오빠 야구 중계 좀 지금 현재 8회말 1–0 3 : 키키 지금 어떻게 되고 있나여 키키 자꾸 아저씨가 소리 질러서 궁금하다 케이티가 리드 중입니다 하하 3 : 오 케이티 우승인가여?... 나도 티비 보고 싶다 지금으로선 그래 보입니다 3 : 저희 옆집도 소리 질렀어요... 키키 와... 이제 9회 남음.... 저는 삼성을 응원 중 하하 3 : 야구 중계 보면서 키키 와 떨리겠다 대박이다... 1회 밖에  안 남음... 왜냐면 갤럭시 쓰거든요 저는 3 : 케이티가 우승이라니... 3 : 상상도 못해봄... 내가 다 떨리노 삼성이 역전하길 ㅠㅠ 3 : 갤러시 저도 씁니다 키키']"
     },
     "execution_count": 35,
     "metadata": {},
     "output_type": "execute_result"
    }
   ],
   "source": [
    "import mariadb\n",
    "\n",
    "conn = mariadb.connect(\n",
    "            user=\"root\",\n",
    "            password=\"hkit301301\",\n",
    "            host=\"182.229.34.184\",\n",
    "            port=3306,\n",
    "            database=\"301project\",\n",
    "            )\n",
    "cursor = conn.cursor()\n",
    "with open(\"./text2/0.txt\", encoding=\"utf-8\") as f:\n",
    "    txt = f.read()\n",
    "txt = txt.split(\"\\n\")\n",
    "txt[-3:]"
   ],
   "metadata": {
    "collapsed": false,
    "ExecuteTime": {
     "start_time": "2023-06-29T20:14:01.764045Z",
     "end_time": "2023-06-29T20:14:01.890697Z"
    }
   }
  },
  {
   "cell_type": "code",
   "execution_count": 37,
   "outputs": [],
   "source": [
    "with open(\"./text2/1.txt\", encoding=\"utf-8\") as f:\n",
    "    txt2 = f.read()"
   ],
   "metadata": {
    "collapsed": false,
    "ExecuteTime": {
     "start_time": "2023-06-29T21:32:29.841365Z",
     "end_time": "2023-06-29T21:32:29.853388Z"
    }
   }
  },
  {
   "cell_type": "code",
   "execution_count": 38,
   "outputs": [],
   "source": [
    "with open(\"./text2/1_.txt\", encoding=\"utf-8\") as f:\n",
    "    txt3 = f.read()"
   ],
   "metadata": {
    "collapsed": false,
    "ExecuteTime": {
     "start_time": "2023-06-29T21:32:30.965291Z",
     "end_time": "2023-06-29T21:32:30.972292Z"
    }
   }
  },
  {
   "cell_type": "code",
   "execution_count": 40,
   "outputs": [],
   "source": [
    "with open(\"./text2/shopping_data.txt\", encoding=\"cp949\") as f:\n",
    "    txt4 = f.read()"
   ],
   "metadata": {
    "collapsed": false,
    "ExecuteTime": {
     "start_time": "2023-06-29T21:32:48.256138Z",
     "end_time": "2023-06-29T21:32:48.283139Z"
    }
   }
  },
  {
   "cell_type": "code",
   "execution_count": 52,
   "outputs": [
    {
     "data": {
      "text/plain": "228"
     },
     "execution_count": 52,
     "metadata": {},
     "output_type": "execute_result"
    }
   ],
   "source": [
    "text_list = [(i, 0) for i in txt]\n",
    "text_list += [(i, 1) for i in txt2.split(\"\\n\")]\n",
    "text_list += [(i, 1) for i in txt3.split(\"\\n\")]\n",
    "text_list += [(i, 0) for i in txt4.split(\"\\n\")]"
   ],
   "metadata": {
    "collapsed": false,
    "ExecuteTime": {
     "start_time": "2023-06-29T21:40:09.918846Z",
     "end_time": "2023-06-29T21:40:09.944844Z"
    }
   }
  },
  {
   "cell_type": "code",
   "execution_count": 96,
   "outputs": [
    {
     "data": {
      "text/plain": "4523"
     },
     "execution_count": 96,
     "metadata": {},
     "output_type": "execute_result"
    }
   ],
   "source": [
    "len([i[1] for i in text_list if i])"
   ],
   "metadata": {
    "collapsed": false,
    "ExecuteTime": {
     "start_time": "2023-06-29T22:15:06.101038Z",
     "end_time": "2023-06-29T22:15:06.112062Z"
    }
   }
  },
  {
   "cell_type": "code",
   "execution_count": 55,
   "outputs": [],
   "source": [
    "txt = [(i[0].replace(\"'\", \"\"),i[1]) for i in text_list]"
   ],
   "metadata": {
    "collapsed": false,
    "ExecuteTime": {
     "start_time": "2023-06-29T21:44:00.453473Z",
     "end_time": "2023-06-29T21:44:00.477844Z"
    }
   }
  },
  {
   "cell_type": "code",
   "execution_count": 66,
   "outputs": [
    {
     "data": {
      "text/plain": "['jungsu22',\n 'heojihu',\n 'agim',\n 'jinminjun',\n 'minjun17',\n 'ihyeonsug',\n 'jinu01',\n 'yeongilbag',\n 'eungyeong60',\n 'gimjeonghun']"
     },
     "execution_count": 66,
     "metadata": {},
     "output_type": "execute_result"
    }
   ],
   "source": [
    "# %pip install faker\n",
    "from faker import Faker\n",
    "faker = Faker(\"ko-kr\")\n",
    "user_list = [faker.profile()[\"username\"] for i in range(10)]\n",
    "user_list"
   ],
   "metadata": {
    "collapsed": false,
    "ExecuteTime": {
     "start_time": "2023-06-29T21:54:32.549403Z",
     "end_time": "2023-06-29T21:54:32.630407Z"
    }
   }
  },
  {
   "cell_type": "code",
   "execution_count": 89,
   "outputs": [
    {
     "data": {
      "text/plain": "datetime.date(2005, 1, 1)"
     },
     "execution_count": 89,
     "metadata": {},
     "output_type": "execute_result"
    }
   ],
   "source": [
    "faker.profile()['birthdate']"
   ],
   "metadata": {
    "collapsed": false,
    "ExecuteTime": {
     "start_time": "2023-06-29T22:02:19.945346Z",
     "end_time": "2023-06-29T22:02:19.960341Z"
    }
   }
  },
  {
   "cell_type": "code",
   "execution_count": 83,
   "outputs": [
    {
     "data": {
      "text/plain": "['01074816464',\n '01027628262',\n '01082742820',\n '01059310804',\n '01052016755',\n '01085958896',\n '01076597299',\n '01041924512',\n '01034598616',\n '01022411500']"
     },
     "execution_count": 83,
     "metadata": {},
     "output_type": "execute_result"
    }
   ],
   "source": [
    "import random\n",
    "\n",
    "phone_list = [\"010\" + str(random.randint(11111111, 99999999)) for i in range(10)]\n",
    "phone_list"
   ],
   "metadata": {
    "collapsed": false,
    "ExecuteTime": {
     "start_time": "2023-06-29T21:59:32.672751Z",
     "end_time": "2023-06-29T21:59:32.688775Z"
    }
   }
  },
  {
   "cell_type": "code",
   "execution_count": 97,
   "outputs": [
    {
     "data": {
      "text/plain": "['2004-10-09', '2009-01-20', '2005-06-16', '2013-06-25', '2006-12-22']"
     },
     "execution_count": 97,
     "metadata": {},
     "output_type": "execute_result"
    }
   ],
   "source": [
    "date_list = [f\"{random.randint(2001, 2023)}-{str(random.randint(1, 12)).zfill(2)}-{str(random.randint(1, 28)).zfill(2)}\" for _ in range(4523)]\n",
    "date_list[:5]"
   ],
   "metadata": {
    "collapsed": false,
    "ExecuteTime": {
     "start_time": "2023-06-29T22:15:20.755447Z",
     "end_time": "2023-06-29T22:15:20.778463Z"
    }
   }
  },
  {
   "cell_type": "code",
   "execution_count": 98,
   "outputs": [
    {
     "data": {
      "text/plain": "['6627.wav',\n '1651.wav',\n '2429.wav',\n '7948.wav',\n '5200.wav',\n '9786.wav',\n '6822.wav',\n '5588.wav',\n '2360.wav',\n '9793.wav',\n '4293.wav',\n '8779.wav',\n '7633.wav',\n '7399.wav',\n '9703.wav',\n '995.wav',\n '9571.wav',\n '2287.wav',\n '7061.wav',\n '9454.wav',\n '976.wav',\n '5836.wav',\n '6689.wav',\n '9568.wav',\n '7236.wav',\n '2594.wav',\n '8633.wav',\n '7428.wav',\n '6172.wav',\n '7481.wav',\n '3074.wav',\n '2870.wav',\n '4887.wav',\n '7724.wav',\n '8764.wav',\n '8668.wav',\n '3134.wav',\n '1411.wav',\n '3754.wav',\n '5505.wav',\n '8836.wav',\n '3106.wav',\n '8639.wav',\n '140.wav',\n '6402.wav',\n '8974.wav',\n '9342.wav',\n '3904.wav',\n '9017.wav',\n '552.wav',\n '4285.wav',\n '5585.wav',\n '6224.wav',\n '8805.wav',\n '272.wav',\n '5319.wav',\n '6606.wav',\n '3612.wav',\n '6438.wav',\n '2360.wav',\n '2968.wav',\n '7520.wav',\n '8277.wav',\n '945.wav',\n '7894.wav',\n '9217.wav',\n '496.wav',\n '6566.wav',\n '8775.wav',\n '8951.wav',\n '3633.wav',\n '5115.wav',\n '895.wav',\n '8811.wav',\n '1274.wav',\n '5643.wav',\n '7321.wav',\n '8453.wav',\n '4232.wav',\n '8095.wav',\n '5376.wav',\n '6274.wav',\n '9730.wav',\n '7033.wav',\n '7639.wav',\n '9023.wav',\n '6434.wav',\n '256.wav',\n '8398.wav',\n '3888.wav',\n '9925.wav',\n '401.wav',\n '2969.wav',\n '8445.wav',\n '6977.wav',\n '735.wav',\n '2412.wav',\n '3423.wav',\n '6663.wav',\n '4463.wav',\n '5620.wav',\n '8178.wav',\n '1837.wav',\n '9923.wav',\n '4077.wav',\n '1741.wav',\n '983.wav',\n '6009.wav',\n '1365.wav',\n '607.wav',\n '8475.wav',\n '7827.wav',\n '2038.wav',\n '755.wav',\n '4241.wav',\n '9442.wav',\n '4748.wav',\n '7489.wav',\n '3748.wav',\n '8876.wav',\n '9217.wav',\n '4855.wav',\n '2536.wav',\n '7637.wav',\n '1831.wav',\n '899.wav',\n '2982.wav',\n '8826.wav',\n '5781.wav',\n '9897.wav',\n '9706.wav',\n '197.wav',\n '6588.wav',\n '8200.wav',\n '2674.wav',\n '5050.wav',\n '8020.wav',\n '2335.wav',\n '877.wav',\n '9670.wav',\n '506.wav',\n '5860.wav',\n '7008.wav',\n '8954.wav',\n '7845.wav',\n '311.wav',\n '9450.wav',\n '3158.wav',\n '634.wav',\n '5054.wav',\n '1944.wav',\n '6249.wav',\n '9613.wav',\n '5143.wav',\n '8824.wav',\n '9252.wav',\n '2139.wav',\n '6948.wav',\n '2248.wav',\n '5745.wav',\n '1697.wav',\n '3418.wav',\n '4463.wav',\n '4601.wav',\n '1926.wav',\n '215.wav',\n '8217.wav',\n '6043.wav',\n '8512.wav',\n '1353.wav',\n '5939.wav',\n '3362.wav',\n '5005.wav',\n '6488.wav',\n '2226.wav',\n '1474.wav',\n '6481.wav',\n '4403.wav',\n '5055.wav',\n '179.wav',\n '2166.wav',\n '8214.wav',\n '9796.wav',\n '4994.wav',\n '9333.wav',\n '1970.wav',\n '9989.wav',\n '2973.wav',\n '9083.wav',\n '3918.wav',\n '1551.wav',\n '6800.wav',\n '6703.wav',\n '4456.wav',\n '5935.wav',\n '7027.wav',\n '3344.wav',\n '9744.wav',\n '2280.wav',\n '6904.wav',\n '2246.wav',\n '9025.wav',\n '976.wav',\n '7093.wav',\n '3818.wav',\n '9809.wav',\n '4842.wav',\n '3290.wav',\n '5147.wav',\n '2529.wav',\n '2835.wav',\n '4999.wav',\n '7336.wav',\n '3681.wav',\n '7013.wav',\n '1764.wav',\n '5239.wav',\n '5476.wav',\n '8894.wav',\n '9092.wav',\n '2956.wav',\n '7928.wav',\n '9534.wav',\n '3227.wav',\n '5983.wav',\n '4463.wav',\n '8773.wav',\n '1075.wav',\n '671.wav',\n '8552.wav',\n '767.wav',\n '3974.wav',\n '7998.wav',\n '7729.wav',\n '9775.wav',\n '2778.wav',\n '8506.wav',\n '4717.wav',\n '9968.wav',\n '4547.wav',\n '8015.wav',\n '4821.wav',\n '9630.wav',\n '3687.wav',\n '9373.wav',\n '9569.wav',\n '3577.wav',\n '2499.wav',\n '1406.wav',\n '9847.wav',\n '2187.wav',\n '185.wav',\n '3486.wav',\n '6164.wav',\n '3995.wav',\n '7756.wav',\n '203.wav',\n '7885.wav',\n '3236.wav',\n '8523.wav',\n '6211.wav',\n '1768.wav',\n '5554.wav',\n '6546.wav',\n '4773.wav',\n '7422.wav',\n '7969.wav',\n '4761.wav',\n '2371.wav',\n '5239.wav',\n '465.wav',\n '2341.wav',\n '1505.wav',\n '6700.wav',\n '3957.wav',\n '1480.wav',\n '6090.wav',\n '6732.wav',\n '5124.wav',\n '3624.wav',\n '2790.wav',\n '1279.wav',\n '9388.wav',\n '6686.wav',\n '1652.wav',\n '4295.wav',\n '666.wav',\n '809.wav',\n '2335.wav',\n '3293.wav',\n '3498.wav',\n '3903.wav',\n '5481.wav',\n '4374.wav',\n '6441.wav',\n '6300.wav',\n '5734.wav',\n '5710.wav',\n '9843.wav',\n '4191.wav',\n '1533.wav',\n '8433.wav',\n '9668.wav',\n '8084.wav',\n '1325.wav',\n '5176.wav',\n '2943.wav',\n '6314.wav',\n '8838.wav',\n '7975.wav',\n '9641.wav',\n '173.wav',\n '2844.wav',\n '8656.wav',\n '1687.wav',\n '6664.wav',\n '6034.wav',\n '1190.wav',\n '5272.wav',\n '4431.wav',\n '9132.wav',\n '9403.wav',\n '3299.wav',\n '5474.wav',\n '5317.wav',\n '5307.wav',\n '9127.wav',\n '4289.wav',\n '7311.wav',\n '7303.wav',\n '4902.wav',\n '8347.wav',\n '9379.wav',\n '6509.wav',\n '4912.wav',\n '2916.wav',\n '6227.wav',\n '2341.wav',\n '9720.wav',\n '3887.wav',\n '7364.wav',\n '2317.wav',\n '6665.wav',\n '7154.wav',\n '6733.wav',\n '5783.wav',\n '6243.wav',\n '9635.wav',\n '3076.wav',\n '9306.wav',\n '9087.wav',\n '5824.wav',\n '8246.wav',\n '4836.wav',\n '7555.wav',\n '4393.wav',\n '8803.wav',\n '6670.wav',\n '8279.wav',\n '4494.wav',\n '9395.wav',\n '1150.wav',\n '515.wav',\n '2843.wav',\n '3361.wav',\n '6130.wav',\n '5702.wav',\n '8627.wav',\n '3356.wav',\n '764.wav',\n '6162.wav',\n '1023.wav',\n '669.wav',\n '3787.wav',\n '4911.wav',\n '9311.wav',\n '3354.wav',\n '6810.wav',\n '7213.wav',\n '7263.wav',\n '6874.wav',\n '751.wav',\n '5544.wav',\n '6216.wav',\n '8138.wav',\n '6464.wav',\n '9250.wav',\n '7645.wav',\n '3401.wav',\n '7577.wav',\n '3475.wav',\n '2023.wav',\n '5914.wav',\n '4614.wav',\n '2807.wav',\n '1815.wav',\n '6120.wav',\n '6346.wav',\n '2913.wav',\n '9103.wav',\n '3740.wav',\n '3099.wav',\n '5388.wav',\n '1271.wav',\n '6184.wav',\n '8586.wav',\n '4290.wav',\n '2413.wav',\n '6311.wav',\n '5837.wav',\n '8493.wav',\n '6403.wav',\n '6540.wav',\n '5061.wav',\n '4146.wav',\n '5351.wav',\n '8617.wav',\n '6414.wav',\n '6378.wav',\n '7516.wav',\n '2297.wav',\n '2075.wav',\n '2854.wav',\n '1540.wav',\n '5214.wav',\n '4440.wav',\n '3136.wav',\n '4707.wav',\n '3907.wav',\n '4755.wav',\n '5476.wav',\n '5215.wav',\n '247.wav',\n '837.wav',\n '8966.wav',\n '3231.wav',\n '4622.wav',\n '9645.wav',\n '2818.wav',\n '9384.wav',\n '5294.wav',\n '5291.wav',\n '7598.wav',\n '6185.wav',\n '6775.wav',\n '8308.wav',\n '6405.wav',\n '6755.wav',\n '6412.wav',\n '2056.wav',\n '9772.wav',\n '2589.wav',\n '1917.wav',\n '7024.wav',\n '2409.wav',\n '9412.wav',\n '7239.wav',\n '9706.wav',\n '4333.wav',\n '2096.wav',\n '6478.wav',\n '4386.wav',\n '8483.wav',\n '3367.wav',\n '9325.wav',\n '4327.wav',\n '2364.wav',\n '6031.wav',\n '8644.wav',\n '5147.wav',\n '1926.wav',\n '8395.wav',\n '5837.wav',\n '2588.wav',\n '3715.wav',\n '6378.wav',\n '5435.wav',\n '8829.wav',\n '9724.wav',\n '3595.wav',\n '4775.wav',\n '8391.wav',\n '5677.wav',\n '1100.wav',\n '5624.wav',\n '7288.wav',\n '5325.wav',\n '6640.wav',\n '2182.wav',\n '4731.wav',\n '4535.wav',\n '9912.wav',\n '2523.wav',\n '5601.wav',\n '4973.wav',\n '6034.wav',\n '1006.wav',\n '4976.wav',\n '4044.wav',\n '664.wav',\n '3294.wav',\n '4132.wav',\n '4099.wav',\n '625.wav',\n '1664.wav',\n '5691.wav',\n '9565.wav',\n '8544.wav',\n '8992.wav',\n '7800.wav',\n '9454.wav',\n '6527.wav',\n '8973.wav',\n '9798.wav',\n '674.wav',\n '3974.wav',\n '7571.wav',\n '6329.wav',\n '6563.wav',\n '1269.wav',\n '2149.wav',\n '6385.wav',\n '7055.wav',\n '3322.wav',\n '3853.wav',\n '9719.wav',\n '4100.wav',\n '7696.wav',\n '3931.wav',\n '4331.wav',\n '6518.wav',\n '8912.wav',\n '7732.wav',\n '8555.wav',\n '1721.wav',\n '6364.wav',\n '6006.wav',\n '5593.wav',\n '8073.wav',\n '6620.wav',\n '5096.wav',\n '9866.wav',\n '4326.wav',\n '4155.wav',\n '3403.wav',\n '7337.wav',\n '8899.wav',\n '8374.wav',\n '318.wav',\n '6984.wav',\n '890.wav',\n '4082.wav',\n '1009.wav',\n '5383.wav',\n '3011.wav',\n '9086.wav',\n '2840.wav',\n '1794.wav',\n '6867.wav',\n '8191.wav',\n '1009.wav',\n '5716.wav',\n '7524.wav',\n '4302.wav',\n '6190.wav',\n '2375.wav',\n '4525.wav',\n '5764.wav',\n '5749.wav',\n '6598.wav',\n '6998.wav',\n '4413.wav',\n '9547.wav',\n '356.wav',\n '5731.wav',\n '559.wav',\n '8255.wav',\n '3183.wav',\n '3121.wav',\n '4726.wav',\n '8505.wav',\n '4313.wav',\n '6413.wav',\n '2955.wav',\n '4454.wav',\n '3323.wav',\n '2792.wav',\n '3847.wav',\n '4416.wav',\n '4660.wav',\n '3721.wav',\n '273.wav',\n '5752.wav',\n '6617.wav',\n '5561.wav',\n '3361.wav',\n '4729.wav',\n '7910.wav',\n '5149.wav',\n '761.wav',\n '223.wav',\n '4684.wav',\n '4286.wav',\n '8179.wav',\n '2217.wav',\n '851.wav',\n '9456.wav',\n '440.wav',\n '1020.wav',\n '848.wav',\n '7330.wav',\n '8082.wav',\n '5078.wav',\n '1690.wav',\n '4387.wav',\n '2544.wav',\n '824.wav',\n '2899.wav',\n '6273.wav',\n '3849.wav',\n '2135.wav',\n '9815.wav',\n '8619.wav',\n '8148.wav',\n '5857.wav',\n '8990.wav',\n '5292.wav',\n '7382.wav',\n '3796.wav',\n '7327.wav',\n '7112.wav',\n '2576.wav',\n '8086.wav',\n '7102.wav',\n '9394.wav',\n '4954.wav',\n '4020.wav',\n '5275.wav',\n '1033.wav',\n '9034.wav',\n '5165.wav',\n '5966.wav',\n '3000.wav',\n '7570.wav',\n '6625.wav',\n '8835.wav',\n '9822.wav',\n '5751.wav',\n '808.wav',\n '7334.wav',\n '1783.wav',\n '8961.wav',\n '4472.wav',\n '4076.wav',\n '7437.wav',\n '408.wav',\n '7901.wav',\n '3162.wav',\n '9028.wav',\n '3518.wav',\n '4524.wav',\n '9685.wav',\n '7936.wav',\n '3239.wav',\n '8929.wav',\n '1966.wav',\n '3371.wav',\n '1578.wav',\n '4222.wav',\n '7050.wav',\n '7484.wav',\n '9183.wav',\n '6274.wav',\n '3921.wav',\n '8605.wav',\n '5107.wav',\n '1514.wav',\n '3639.wav',\n '9814.wav',\n '5300.wav',\n '8629.wav',\n '5129.wav',\n '4706.wav',\n '8498.wav',\n '7229.wav',\n '9603.wav',\n '4806.wav',\n '4798.wav',\n '4561.wav',\n '7697.wav',\n '5635.wav',\n '341.wav',\n '6741.wav',\n '3002.wav',\n '1287.wav',\n '6742.wav',\n '5031.wav',\n '9059.wav',\n '5417.wav',\n '9608.wav',\n '5014.wav',\n '1942.wav',\n '3583.wav',\n '8438.wav',\n '4407.wav',\n '6339.wav',\n '8846.wav',\n '3366.wav',\n '6671.wav',\n '3959.wav',\n '9357.wav',\n '2548.wav',\n '2660.wav',\n '8460.wav',\n '4640.wav',\n '2399.wav',\n '3473.wav',\n '3576.wav',\n '4101.wav',\n '7168.wav',\n '1369.wav',\n '4408.wav',\n '3621.wav',\n '2913.wav',\n '6927.wav',\n '876.wav',\n '3486.wav',\n '6791.wav',\n '3279.wav',\n '6131.wav',\n '5770.wav',\n '4837.wav',\n '1039.wav',\n '5396.wav',\n '4431.wav',\n '3308.wav',\n '1726.wav',\n '9500.wav',\n '2783.wav',\n '762.wav',\n '2227.wav',\n '1842.wav',\n '6297.wav',\n '289.wav',\n '8558.wav',\n '1547.wav',\n '1813.wav',\n '6520.wav',\n '9331.wav',\n '6365.wav',\n '4870.wav',\n '3667.wav',\n '6929.wav',\n '1258.wav',\n '5990.wav',\n '8947.wav',\n '4660.wav',\n '3980.wav',\n '6650.wav',\n '5199.wav',\n '5058.wav',\n '8857.wav',\n '126.wav',\n '8825.wav',\n '4127.wav',\n '4864.wav',\n '298.wav',\n '9708.wav',\n '370.wav',\n '964.wav',\n '5741.wav',\n '6677.wav',\n '6150.wav',\n '4967.wav',\n '9930.wav',\n '5741.wav',\n '3363.wav',\n '4813.wav',\n '6014.wav',\n '3812.wav',\n '9001.wav',\n '3686.wav',\n '7502.wav',\n '5399.wav',\n '7704.wav',\n '4838.wav',\n '6008.wav',\n '5643.wav',\n '4028.wav',\n '8751.wav',\n '4368.wav',\n '5615.wav',\n '9069.wav',\n '7064.wav',\n '9464.wav',\n '1907.wav',\n '7121.wav',\n '9216.wav',\n '1487.wav',\n '8611.wav',\n '8580.wav',\n '5144.wav',\n '9314.wav',\n '3993.wav',\n '6127.wav',\n '3580.wav',\n '2358.wav',\n '6838.wav',\n '1469.wav',\n '7346.wav',\n '4923.wav',\n '3002.wav',\n '5369.wav',\n '6525.wav',\n '5285.wav',\n '708.wav',\n '8330.wav',\n '4874.wav',\n '885.wav',\n '3419.wav',\n '4870.wav',\n '3143.wav',\n '3734.wav',\n '3932.wav',\n '7102.wav',\n '9273.wav',\n '4930.wav',\n '6810.wav',\n '8838.wav',\n '3374.wav',\n '1491.wav',\n '1722.wav',\n '3724.wav',\n '9138.wav',\n '6744.wav',\n '3082.wav',\n '6760.wav',\n '7752.wav',\n '3605.wav',\n '4938.wav',\n '9986.wav',\n '5306.wav',\n '7379.wav',\n '9936.wav',\n '4099.wav',\n '4080.wav',\n '6736.wav',\n '7203.wav',\n '9282.wav',\n '7242.wav',\n '1946.wav',\n '8210.wav',\n '9185.wav',\n '2316.wav',\n '8645.wav',\n '6743.wav',\n '7399.wav',\n '2657.wav',\n '3870.wav',\n '7821.wav',\n '2921.wav',\n '5022.wav',\n '3796.wav',\n '2368.wav',\n '372.wav',\n '9384.wav',\n '3288.wav',\n '9709.wav',\n '8541.wav',\n '9174.wav',\n '8702.wav',\n '5213.wav',\n '9114.wav',\n '5601.wav',\n '5906.wav',\n '7035.wav',\n '9304.wav',\n '6047.wav',\n '2561.wav',\n '7353.wav',\n '5411.wav',\n '3938.wav',\n '8988.wav',\n '5798.wav',\n '4109.wav',\n '7054.wav',\n '5463.wav',\n '8693.wav',\n '6450.wav',\n '3982.wav',\n '1163.wav',\n '2775.wav',\n '275.wav',\n '1812.wav',\n '3588.wav',\n '2504.wav',\n '4413.wav',\n '6151.wav',\n '7932.wav',\n '7186.wav',\n '132.wav',\n '5864.wav',\n '3053.wav',\n '2762.wav',\n '9031.wav',\n '2593.wav',\n '2682.wav',\n '8948.wav',\n '2873.wav',\n '4851.wav',\n '7207.wav',\n '9552.wav',\n '1117.wav',\n '660.wav',\n '5922.wav',\n '2053.wav',\n '8367.wav',\n '3075.wav',\n '3700.wav',\n '7672.wav',\n '5865.wav',\n '7537.wav',\n '3881.wav',\n '7712.wav',\n '3397.wav',\n '1357.wav',\n '1673.wav',\n '5345.wav',\n '5605.wav',\n '2592.wav',\n '1996.wav',\n '4501.wav',\n '1929.wav',\n '7618.wav',\n '3213.wav',\n '7749.wav',\n '6609.wav',\n '1977.wav',\n '1985.wav',\n '3241.wav',\n '1837.wav',\n '404.wav',\n '9345.wav',\n '2144.wav',\n '3674.wav',\n '165.wav',\n '4380.wav',\n '3805.wav',\n '1501.wav',\n '4568.wav',\n '1393.wav',\n '9422.wav',\n '6588.wav',\n '4003.wav',\n '8776.wav',\n '5046.wav',\n '8494.wav',\n '4388.wav',\n '3115.wav',\n '6299.wav',\n '3419.wav',\n '6856.wav',\n '8353.wav',\n '588.wav',\n '7164.wav',\n '4263.wav',\n '4804.wav',\n '4214.wav',\n '7220.wav',\n '3192.wav',\n '1452.wav',\n '1350.wav',\n '764.wav',\n '814.wav',\n '7631.wav',\n '1455.wav',\n '560.wav',\n '1251.wav',\n '8913.wav',\n '9089.wav',\n '2368.wav',\n '229.wav',\n '5516.wav',\n '2134.wav',\n '2581.wav',\n '7300.wav',\n '4732.wav',\n '2332.wav',\n '3556.wav',\n '2646.wav',\n '9379.wav',\n '9414.wav',\n '5250.wav',\n '133.wav',\n '6965.wav',\n '7865.wav',\n '7502.wav',\n '7169.wav',\n '5215.wav',\n '9826.wav',\n ...]"
     },
     "execution_count": 98,
     "metadata": {},
     "output_type": "execute_result"
    }
   ],
   "source": [
    "file_list = [str(random.randint(111, 9999)) + \".wav\" for i in range(4523)]\n",
    "file_list"
   ],
   "metadata": {
    "collapsed": false,
    "ExecuteTime": {
     "start_time": "2023-06-29T22:16:13.811706Z",
     "end_time": "2023-06-29T22:16:13.825640Z"
    }
   }
  },
  {
   "cell_type": "code",
   "execution_count": 100,
   "outputs": [
    {
     "name": "stderr",
     "output_type": "stream",
     "text": [
      "4523it [02:28, 30.52it/s]\n"
     ]
    }
   ],
   "source": [
    "import random\n",
    "random.shuffle(txt)\n",
    "for idx, i in tqdm(enumerate(txt)):\n",
    "    query = f\"\"\"INSERT INTO voicedata(user_id,declaration,audio_file,content,disdata,created_date) VALUES('{user_list[idx % 10]}','{phone_list[idx % 10]}','{file_list[idx]}','{i[0]}', '{i[1]}', '{date_list[idx]}')\"\"\"\n",
    "    cursor.execute(query)\n",
    "    conn.commit()"
   ],
   "metadata": {
    "collapsed": false,
    "ExecuteTime": {
     "start_time": "2023-06-29T22:18:32.883089Z",
     "end_time": "2023-06-29T22:21:01.082921Z"
    }
   }
  },
  {
   "cell_type": "code",
   "execution_count": null,
   "outputs": [],
   "source": [
    "cursor.close()\n",
    "conn.close()"
   ],
   "metadata": {
    "collapsed": false
   }
  }
 ],
 "metadata": {
  "kernelspec": {
   "display_name": "Python 3",
   "language": "python",
   "name": "python3"
  },
  "language_info": {
   "codemirror_mode": {
    "name": "ipython",
    "version": 2
   },
   "file_extension": ".py",
   "mimetype": "text/x-python",
   "name": "python",
   "nbconvert_exporter": "python",
   "pygments_lexer": "ipython2",
   "version": "2.7.6"
  }
 },
 "nbformat": 4,
 "nbformat_minor": 0
}
