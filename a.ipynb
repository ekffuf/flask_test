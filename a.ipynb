{
 "cells": [
  {
   "cell_type": "code",
   "execution_count": 37,
   "metadata": {
    "collapsed": true,
    "ExecuteTime": {
     "start_time": "2023-06-28T12:26:36.652395Z",
     "end_time": "2023-06-28T12:26:36.669843Z"
    }
   },
   "outputs": [
    {
     "name": "stdout",
     "output_type": "stream",
     "text": [
      "16\n"
     ]
    }
   ],
   "source": [
    "while True:\n",
    "    if f\"{i}\"==f\"{i}\":\n",
    "        i+=1\n",
    "        print(i)\n",
    "        break"
   ]
  },
  {
   "cell_type": "code",
   "execution_count": 1,
   "outputs": [],
   "source": [
    "import mariadb\n",
    "\n",
    "conn = mariadb.connect(\n",
    "    user=\"root\",\n",
    "    password=\"hkit301301\",\n",
    "    host=\"182.229.34.184\",\n",
    "    port=3306,\n",
    "    database=\"301project\"\n",
    ")\n",
    "\n",
    "cursor = conn.cursor()\n",
    "query = \"SELECT CONVERT(text USING UTF8),result from flask2\"\n",
    "cursor.execute(query)\n",
    "result = cursor.fetchall()\n",
    "cursor.close()\n",
    "conn.close()"
   ],
   "metadata": {
    "collapsed": false,
    "ExecuteTime": {
     "start_time": "2023-06-29T10:33:42.689835Z",
     "end_time": "2023-06-29T10:33:43.144818Z"
    }
   }
  },
  {
   "cell_type": "code",
   "execution_count": 28,
   "outputs": [
    {
     "data": {
      "text/plain": "[('그러면 주문할게요 저희 공공 쇼핑 처음이라고 나옵니다 신규 가입 먼저 하고 상담 도와 드리겠습니다 고객님의 회원 서비스 제공을 위해 성함 생년월일 성별 주소 연락처 등록하고 있습니다 이에 동의하시겠습니까네 감사합니다 성함 먼저 말씀 아시겠습니까 000 000 분이십니까네 생년월일 6자리 말씀해 주시겠습니까 000000 핸드폰 번호는 000000 맞습니까네 맞아요 주소지 말씀 하시겠습니까 부산시 남구 000 건지 확인 감사합니다 이벤트나 상품 서비스 광고 문자 드릴 수 있습니다네 현재 방송 중인 상품 남성용과 여성용 주문하시면 됩니다 히트상품 이니까 두 개 주시는 거죠 일단 선택하시겠습니까 사이즈 말씀해 주시겠습니까 240 이요 여성용은 화이트 240으로 하셨고 남성용 색상 말씀해 주시겠습니까 남성용도 화이트 262화 남성용은 260 하셨습니다 다시 한번 사이즈 확인하겠습니다 여성용은 240 남성용은 260 얘는 7만 9천 6백 원입니다 카드 결제하시겠습니까네 카드 번호 처음부터 말씀해 주시겠습니까 00 00 00 00 서울 잡은 돈이니까네 생년월일 6자리 말씀해 주시겠습니까 0000 지금 7만 9천 6백원 일시불 진행해 드리겠습니다 고객님의 안전한 결제를 위해 카드인증 ARS 연결해 드리겠습니다 안내멘트에 따라 카드 비밀번호 앞 두 자리 입력 부탁드립니다 입력하신 후에는 다시 저에게 연결됩니다 끊지 말고 기다려 주시겠습니까 연결해 드리겠습니다 공주 게임 공입니다 지금 그 방송하는 거 주문하려고요 죄송합니다 지금 저희 쪽에서 문자 발송 중이어서 상담을 도와드릴 수 없는 점 양해 부탁드립니다 죄송하지만 제가 전화 드릴 수도 있는데 한 5분 안에 다시 전화 드려도 되겠습니까 아니면 고객님 다시 한번 전화 주시겠습니까 아 그럼 카드 번호를 제가 잘못 받아 적었나 봅니다 다시 한번 말씀 부탁드립니다 00 00 00 00 다시 한번 인증 센터 연결 하겠습니다 네 결제 승인되었습니다 상품은 일요일 공휴일 제외 평일기준 3일에서 4일 안에 배송됩니다 교환 반품은 배송 받으신 날로부터 7일 하늘 연락하셔도 됩니다 제품하자에 택 제거 나 외부 착하나 기간 경과시 교환반품불가 한 점 양해 부탁드립니다 주문시 편리한 결제를 위해 카드 등록해 드릴까요네 주문 되었습니다 더 문 의상 없습니까 만약에 사이즈가 안 맞으면요 배송받으신 날로부터 7일 안으로 전화 주시면 됩니다 재거나 외부 착용하시면 안 되고요 근데 상품을 다시 보내고 하는 비용은 저희가 하는 건가요 고객님 부담은 아닙니다 교환 반품 조건에 맞은요 물론 조건에 맞지 않으면 교환 반품 자체가 되지 않고요 아네 알겠어요 더 없습니까네 없어요네 감사합니다 저는 002 없습니다네 수고하세요 다시 전화 주세요 그러면 휴대폰 번호 말씀해 주시겠습니까 000 000 000 000 고객님 전화번호는 000 하셨습니다 5분 안에 다시 전화 드리겠습니다네 고객님 기다려 주셔서 감사합니다 공공 쇼핑 0 0 0입니다 주문 도와 드릴까요네 지금 방송 나오는 000 데일리슈즈 2개는 따로 주문이 안 되는 거예요 죄송하지만 해당 상품은 세트 판매입니다 무조건 그렇게 주문 해야 되나 보네요 ',\n  '0'),\n ('서비스 제공을 위해 성함 생년월일 성별 주소 연락처를 등록하고 있습니다 이에 동의하십니까네 감사합니다 성함 말씀 부탁드립니다 0025 확인 감사합니다 생년월일 6자리 말씀 부탁드립니다 궁둥이 확인 감사합니다 전화번호 말씀 부탁드립니다 000000 정보 확인 감사합니다 유선번호 등록해 드릴까요 아니요 감사합니다 주소 말씀 부탁드립니다 서울 서초구 00 00 00 00 00 00 죄송하지만 00 00 파티요네네 고객님 말씀하신 주소 서울 서초구 000000 아파트 00 00 00 맞습니까 맞아요네 확인 감사합니다 이벤트나 상품 서비스 문자로 드릴 수 있습니다네 그렇게 해 주세요 예 방송 보시는 상품 요청하신 대로 책상 위에 블랙과 화이트가 있습니다 어느 상품으로 하실 건가요 화이트로 주세요 예 화이트색상 자동 주문 5,000원 할인 혜택 드려서 14만 4천 원 결제 도움 드리겠습니다 결제 카드 하시겠습니까네 그걸로 할게요 카드 번호 말씀 부탁드립니다 4 0 0 0 0 공구 점핑 000 아니 지금 이게 여러가지 운동할 수 있다는 거죠네 맞습니다 아 이거는 자동 주문이 안 되네요 제가 등록이 안 된다고 그러는데요 지금 자동 주문 하셨는데요 등록이 안 돼서 아마 상담사 연결 된 것 같습니다 고객님 본인 되십니까네 맞아요 카드 소유주 000 님의 생년월일 6자리 다시 한번 말씀 부탁드립니다 000000 확인 감사합니다 카드 유효기간 말씀 부탁드립니다 공금을 공공연히 아 예 감사합니다 목요일까지 무이자 할부 가능합니다 아니요 20으로 해 주세요 일시불은 만 원 할인 혜택 드려서 13만 4천 원에 결제 도움 드리겠습니다네 고객님의 안전한 결제를 위해 카드인증 ARS로 연결합니다 안내멘트에 따라 카드 비밀번호 앞 두 자리 입력 부탁드립니다 연결하였습니다네 내일 요청하신 올인원스쿼트머신 화이트 색상 134,000원 20을 승인 도움 드렸습니다네 다음번 편리한 결제를 위해 카드 정보 등록해제 있도록 할까요네 그럴게요 감사합니다 상품 배송은 일요일 공휴일 제외 일주일 내내 배송이 됩니다네 교환이나 반품은 배송 받으신 날로부터 30일 이내에 연락을 주셔야 하며 제품에 개봉 및 사용 시 기간 경과 시 교환 반품 불가합니다 그런데 언제 배송 된다고요 일요일 공휴일 제외하고 4일입니다 안에 만약에 다음 주 월요일 날 배송도 가능 해요 저희가 여행을 가서 조금 이번 주는 좀 그래서요 그렇게는 조금 어려울 거 같은데요 언제 여행 가시는 건가요 안 돼요 이번 주 중 3일 동안 사람이 없는데요 혹시 여기 아파트인데 아파트 경비실은 보관이 어려울 거예요 그런데 그이나 2일 날 출발하게 되면 바로 그 다음 날 오지 않아요 저희가 이제 보통은 말씀드린 것이 일요일 날이 연휴 때문에 업체에서 2일 날 출고 될 수도 있는데요 아마 3일 날 주문 안 되어 있을 거예요 언제요네 그런데 아직 정확하게 전달받지 못했습니다 그럼 3일이나 4일 날 주문한 거네요 예 그래서 넉넉하게 오히려 안으로 배송이 되는데 고객님 그 여행 스케줄 하고 비슷할 것 같거든요 그래서 저는 만약이 주문을 2일로 해 주신 다든가 3일 날로 해 주거나 이렇게 하면 안 되는 건가요네 그렇게는 어렵지 고객님 아 그럼 지금 바로 그냥 되는 거예요네 승인 하셨기 때문에 되는 거고요 아네네 이게 지금 오늘 일이잖아요 현금 입금 하신다고 그래도 늦어도 3일 날 입금을 하셔야만 유지가 되는 거거든요 아네 그렇군요 아니면 3일 날 했는데 무통장입금 처리 해 놓으면 3일 날 전화 한번 주셔서 이거 그러면 좀 연장해 주세요라고 하시면 될 것 같고요 그럼 어떻게 하라고요 다시 그럼 카드 안 하고요네 그럼 제가 카드 취소를 하고 무통장 입금 처리 하는 거죠네 금요일은 동일 하니까요 그렇죠 아니네 두 누구 주문 도와 드릴까요 고객님 리 자동 주문 하고요 행사 카드는 뭔데요 농협 NH 카드입니다 아 그건 아니고요 그러면 자동 주문만 하면 얼마예요 판매 가격이 149,000원 그러면 3일안에 제 성함만 확인하고 2일 날 하게 되면 되는 건가요 오늘이 1일 날이니까요 입금 일자가 3일까지 입금이에요 내일 아니더 3일은 여행 가니까 없는데요 입금 일자가 주문한 날로부터 3일이라고요 지금 오늘 해야 된다는 거네요 그러니까 2일 날에 다시 결제 변경하셔도 4일 날 입금을 해 주셔야 되는 겁니다 복잡하네요 그러면 제가 이거를 메모를 해 놨다가 3일 날 오후 2시 까지니까요 3일 제가 오후 늦게 다시 결제 변경을 해 드릴게요 그러면 5일 날까지 입금하신 처리가 되거든요 그럼 거기서 언제 오시는 거예요네 지리산은 아침에 옵니다 그러면 어렵게 없는데요 그럼 5일 내로 다시 또 변경을 하셔야 되는 건데요 아 그럼 지금 주문하면 3일 날 올 수도 있는 거네요 그렇죠 아 근데 이게 정확하게 몰라서 잠이 안 해요 아니면 근데 이거 인터넷으로도이 가격에 팔아요 고객님 모바일로 주문하시면 되는데요 고객님 이거 고객님이 다녀오셔서 하시면 되세요 그때도 하고 있어요 예 그때도 하니까요 예 잠시만요 고객님 제가 다시 정확히 안내를 해 드릴게요 저희가 입금 일자가 계속 변경이 되는 거기 때문에 갔다 와서 그냥 하는게 나을 것 같네요네 그럼 그때 오는데요 궁금 쇼핑에서 만 하는 건가요 올인원스쿼트머신은 다른 쇼핑 사에서도 확인 가능한데요 고객님 그러면 방송 알림 서비스로 해 드릴까요 아 예네 그럼 그렇게 해 주세요 그러면 이제 방송 할 때마다 1개월 이내 주문할 수 있도록 요청을 해 드릴 거고요 지금은 상품 취소 해 드릴게요 급한 건 아니니까요네네네 알겠습니다 고객님 내일 오전 취소 취소를 해드리고요 이게 이름이 뭐죠 저희 올인원스쿼트머신이에요 알겠습니다 그럼 그렇게 해 주세요네 우선 방송 알림에서 1개월 이내에 방송 할 때마다 고객님께 문자를 드리도록 하겠습니다네네 고객님 더 문의할 사람 없습니까네네 그거 오지는 않은 거지요 네 지금 오늘 취소 했으니까요 아마 카드사로부터 취소 문자가 전달되었을 겁니다네네 알겠습니다 더 좋은 상품으로 찾아뵙겠습니다 000 있습니다네 주문 5,000원 할인 혜택 되시면 14만 4천 원이고요 일시불로 했을 때 만 원 할인해 드리겠습니다네네 그러면 주문할게요네 감사합니다 공공 쇼핑 처음 이용해 주셔서 고객 정보 등록 후 주문 도와드리겠습니다 그럴게요 전화 주신 고객님에 ',\n  '0'),\n ('안녕하십니까 공공 쇼핑 0 0 0입니다 아네 안녕하세요네 문의하셨던 000 LA 갈비 취소 처리 해 드리려고 연락 드렸습니다 아네 감사합니다네 근데 주소 처리가 안 돼서 저희가 반품으로 접수해 드릴게요네 그게 무슨 말씀이시죠 출고 처리가 되었을 수도 있어서 취소가 안 되고 반품 접수 많습니다 만약 출고가 될 경우 수취거부 부탁드립니다 그냥 돌려 보내면 되는 건가요네 맞습니다 고객님 카드 취소 처리는 되었습니다 더 문의할 사항 없습니까 결제처리가 벌써 되었나요네 고객님 하루 이틀 내로 카드 취소 될 거예요네 감사합니다 더 문의하실 사랑 없으심 없습니다네 감사합니다 공주 핀입니다네 수고하세요',\n  '0')]"
     },
     "execution_count": 28,
     "metadata": {},
     "output_type": "execute_result"
    }
   ],
   "source": [
    "result[-3:]"
   ],
   "metadata": {
    "collapsed": false,
    "ExecuteTime": {
     "start_time": "2023-06-29T11:09:09.002941Z",
     "end_time": "2023-06-29T11:09:09.014966Z"
    }
   }
  },
  {
   "cell_type": "code",
   "execution_count": 4,
   "outputs": [],
   "source": [
    "X = [i[0] for i in result]"
   ],
   "metadata": {
    "collapsed": false,
    "ExecuteTime": {
     "start_time": "2023-06-29T10:34:33.110619Z",
     "end_time": "2023-06-29T10:34:33.129645Z"
    }
   }
  },
  {
   "cell_type": "code",
   "execution_count": 6,
   "outputs": [
    {
     "data": {
      "text/plain": "['그러면 주문할게요 저희 공공 쇼핑 처음이라고 나옵니다 신규 가입 먼저 하고 상담 도와 드리겠습니다 고객님의 회원 서비스 제공을 위해 성함 생년월일 성별 주소 연락처 등록하고 있습니다 이에 동의하시겠습니까네 감사합니다 성함 먼저 말씀 아시겠습니까 000 000 분이십니까네 생년월일 6자리 말씀해 주시겠습니까 000000 핸드폰 번호는 000000 맞습니까네 맞아요 주소지 말씀 하시겠습니까 부산시 남구 000 건지 확인 감사합니다 이벤트나 상품 서비스 광고 문자 드릴 수 있습니다네 현재 방송 중인 상품 남성용과 여성용 주문하시면 됩니다 히트상품 이니까 두 개 주시는 거죠 일단 선택하시겠습니까 사이즈 말씀해 주시겠습니까 240 이요 여성용은 화이트 240으로 하셨고 남성용 색상 말씀해 주시겠습니까 남성용도 화이트 262화 남성용은 260 하셨습니다 다시 한번 사이즈 확인하겠습니다 여성용은 240 남성용은 260 얘는 7만 9천 6백 원입니다 카드 결제하시겠습니까네 카드 번호 처음부터 말씀해 주시겠습니까 00 00 00 00 서울 잡은 돈이니까네 생년월일 6자리 말씀해 주시겠습니까 0000 지금 7만 9천 6백원 일시불 진행해 드리겠습니다 고객님의 안전한 결제를 위해 카드인증 ARS 연결해 드리겠습니다 안내멘트에 따라 카드 비밀번호 앞 두 자리 입력 부탁드립니다 입력하신 후에는 다시 저에게 연결됩니다 끊지 말고 기다려 주시겠습니까 연결해 드리겠습니다 공주 게임 공입니다 지금 그 방송하는 거 주문하려고요 죄송합니다 지금 저희 쪽에서 문자 발송 중이어서 상담을 도와드릴 수 없는 점 양해 부탁드립니다 죄송하지만 제가 전화 드릴 수도 있는데 한 5분 안에 다시 전화 드려도 되겠습니까 아니면 고객님 다시 한번 전화 주시겠습니까 아 그럼 카드 번호를 제가 잘못 받아 적었나 봅니다 다시 한번 말씀 부탁드립니다 00 00 00 00 다시 한번 인증 센터 연결 하겠습니다 네 결제 승인되었습니다 상품은 일요일 공휴일 제외 평일기준 3일에서 4일 안에 배송됩니다 교환 반품은 배송 받으신 날로부터 7일 하늘 연락하셔도 됩니다 제품하자에 택 제거 나 외부 착하나 기간 경과시 교환반품불가 한 점 양해 부탁드립니다 주문시 편리한 결제를 위해 카드 등록해 드릴까요네 주문 되었습니다 더 문 의상 없습니까 만약에 사이즈가 안 맞으면요 배송받으신 날로부터 7일 안으로 전화 주시면 됩니다 재거나 외부 착용하시면 안 되고요 근데 상품을 다시 보내고 하는 비용은 저희가 하는 건가요 고객님 부담은 아닙니다 교환 반품 조건에 맞은요 물론 조건에 맞지 않으면 교환 반품 자체가 되지 않고요 아네 알겠어요 더 없습니까네 없어요네 감사합니다 저는 002 없습니다네 수고하세요 다시 전화 주세요 그러면 휴대폰 번호 말씀해 주시겠습니까 000 000 000 000 고객님 전화번호는 000 하셨습니다 5분 안에 다시 전화 드리겠습니다네 고객님 기다려 주셔서 감사합니다 공공 쇼핑 0 0 0입니다 주문 도와 드릴까요네 지금 방송 나오는 000 데일리슈즈 2개는 따로 주문이 안 되는 거예요 죄송하지만 해당 상품은 세트 판매입니다 무조건 그렇게 주문 해야 되나 보네요 ',\n '서비스 제공을 위해 성함 생년월일 성별 주소 연락처를 등록하고 있습니다 이에 동의하십니까네 감사합니다 성함 말씀 부탁드립니다 0025 확인 감사합니다 생년월일 6자리 말씀 부탁드립니다 궁둥이 확인 감사합니다 전화번호 말씀 부탁드립니다 000000 정보 확인 감사합니다 유선번호 등록해 드릴까요 아니요 감사합니다 주소 말씀 부탁드립니다 서울 서초구 00 00 00 00 00 00 죄송하지만 00 00 파티요네네 고객님 말씀하신 주소 서울 서초구 000000 아파트 00 00 00 맞습니까 맞아요네 확인 감사합니다 이벤트나 상품 서비스 문자로 드릴 수 있습니다네 그렇게 해 주세요 예 방송 보시는 상품 요청하신 대로 책상 위에 블랙과 화이트가 있습니다 어느 상품으로 하실 건가요 화이트로 주세요 예 화이트색상 자동 주문 5,000원 할인 혜택 드려서 14만 4천 원 결제 도움 드리겠습니다 결제 카드 하시겠습니까네 그걸로 할게요 카드 번호 말씀 부탁드립니다 4 0 0 0 0 공구 점핑 000 아니 지금 이게 여러가지 운동할 수 있다는 거죠네 맞습니다 아 이거는 자동 주문이 안 되네요 제가 등록이 안 된다고 그러는데요 지금 자동 주문 하셨는데요 등록이 안 돼서 아마 상담사 연결 된 것 같습니다 고객님 본인 되십니까네 맞아요 카드 소유주 000 님의 생년월일 6자리 다시 한번 말씀 부탁드립니다 000000 확인 감사합니다 카드 유효기간 말씀 부탁드립니다 공금을 공공연히 아 예 감사합니다 목요일까지 무이자 할부 가능합니다 아니요 20으로 해 주세요 일시불은 만 원 할인 혜택 드려서 13만 4천 원에 결제 도움 드리겠습니다네 고객님의 안전한 결제를 위해 카드인증 ARS로 연결합니다 안내멘트에 따라 카드 비밀번호 앞 두 자리 입력 부탁드립니다 연결하였습니다네 내일 요청하신 올인원스쿼트머신 화이트 색상 134,000원 20을 승인 도움 드렸습니다네 다음번 편리한 결제를 위해 카드 정보 등록해제 있도록 할까요네 그럴게요 감사합니다 상품 배송은 일요일 공휴일 제외 일주일 내내 배송이 됩니다네 교환이나 반품은 배송 받으신 날로부터 30일 이내에 연락을 주셔야 하며 제품에 개봉 및 사용 시 기간 경과 시 교환 반품 불가합니다 그런데 언제 배송 된다고요 일요일 공휴일 제외하고 4일입니다 안에 만약에 다음 주 월요일 날 배송도 가능 해요 저희가 여행을 가서 조금 이번 주는 좀 그래서요 그렇게는 조금 어려울 거 같은데요 언제 여행 가시는 건가요 안 돼요 이번 주 중 3일 동안 사람이 없는데요 혹시 여기 아파트인데 아파트 경비실은 보관이 어려울 거예요 그런데 그이나 2일 날 출발하게 되면 바로 그 다음 날 오지 않아요 저희가 이제 보통은 말씀드린 것이 일요일 날이 연휴 때문에 업체에서 2일 날 출고 될 수도 있는데요 아마 3일 날 주문 안 되어 있을 거예요 언제요네 그런데 아직 정확하게 전달받지 못했습니다 그럼 3일이나 4일 날 주문한 거네요 예 그래서 넉넉하게 오히려 안으로 배송이 되는데 고객님 그 여행 스케줄 하고 비슷할 것 같거든요 그래서 저는 만약이 주문을 2일로 해 주신 다든가 3일 날로 해 주거나 이렇게 하면 안 되는 건가요네 그렇게는 어렵지 고객님 아 그럼 지금 바로 그냥 되는 거예요네 승인 하셨기 때문에 되는 거고요 아네네 이게 지금 오늘 일이잖아요 현금 입금 하신다고 그래도 늦어도 3일 날 입금을 하셔야만 유지가 되는 거거든요 아네 그렇군요 아니면 3일 날 했는데 무통장입금 처리 해 놓으면 3일 날 전화 한번 주셔서 이거 그러면 좀 연장해 주세요라고 하시면 될 것 같고요 그럼 어떻게 하라고요 다시 그럼 카드 안 하고요네 그럼 제가 카드 취소를 하고 무통장 입금 처리 하는 거죠네 금요일은 동일 하니까요 그렇죠 아니네 두 누구 주문 도와 드릴까요 고객님 리 자동 주문 하고요 행사 카드는 뭔데요 농협 NH 카드입니다 아 그건 아니고요 그러면 자동 주문만 하면 얼마예요 판매 가격이 149,000원 그러면 3일안에 제 성함만 확인하고 2일 날 하게 되면 되는 건가요 오늘이 1일 날이니까요 입금 일자가 3일까지 입금이에요 내일 아니더 3일은 여행 가니까 없는데요 입금 일자가 주문한 날로부터 3일이라고요 지금 오늘 해야 된다는 거네요 그러니까 2일 날에 다시 결제 변경하셔도 4일 날 입금을 해 주셔야 되는 겁니다 복잡하네요 그러면 제가 이거를 메모를 해 놨다가 3일 날 오후 2시 까지니까요 3일 제가 오후 늦게 다시 결제 변경을 해 드릴게요 그러면 5일 날까지 입금하신 처리가 되거든요 그럼 거기서 언제 오시는 거예요네 지리산은 아침에 옵니다 그러면 어렵게 없는데요 그럼 5일 내로 다시 또 변경을 하셔야 되는 건데요 아 그럼 지금 주문하면 3일 날 올 수도 있는 거네요 그렇죠 아 근데 이게 정확하게 몰라서 잠이 안 해요 아니면 근데 이거 인터넷으로도이 가격에 팔아요 고객님 모바일로 주문하시면 되는데요 고객님 이거 고객님이 다녀오셔서 하시면 되세요 그때도 하고 있어요 예 그때도 하니까요 예 잠시만요 고객님 제가 다시 정확히 안내를 해 드릴게요 저희가 입금 일자가 계속 변경이 되는 거기 때문에 갔다 와서 그냥 하는게 나을 것 같네요네 그럼 그때 오는데요 궁금 쇼핑에서 만 하는 건가요 올인원스쿼트머신은 다른 쇼핑 사에서도 확인 가능한데요 고객님 그러면 방송 알림 서비스로 해 드릴까요 아 예네 그럼 그렇게 해 주세요 그러면 이제 방송 할 때마다 1개월 이내 주문할 수 있도록 요청을 해 드릴 거고요 지금은 상품 취소 해 드릴게요 급한 건 아니니까요네네네 알겠습니다 고객님 내일 오전 취소 취소를 해드리고요 이게 이름이 뭐죠 저희 올인원스쿼트머신이에요 알겠습니다 그럼 그렇게 해 주세요네 우선 방송 알림에서 1개월 이내에 방송 할 때마다 고객님께 문자를 드리도록 하겠습니다네네 고객님 더 문의할 사람 없습니까네네 그거 오지는 않은 거지요 네 지금 오늘 취소 했으니까요 아마 카드사로부터 취소 문자가 전달되었을 겁니다네네 알겠습니다 더 좋은 상품으로 찾아뵙겠습니다 000 있습니다네 주문 5,000원 할인 혜택 되시면 14만 4천 원이고요 일시불로 했을 때 만 원 할인해 드리겠습니다네네 그러면 주문할게요네 감사합니다 공공 쇼핑 처음 이용해 주셔서 고객 정보 등록 후 주문 도와드리겠습니다 그럴게요 전화 주신 고객님에 ',\n '안녕하십니까 공공 쇼핑 0 0 0입니다 아네 안녕하세요네 문의하셨던 000 LA 갈비 취소 처리 해 드리려고 연락 드렸습니다 아네 감사합니다네 근데 주소 처리가 안 돼서 저희가 반품으로 접수해 드릴게요네 그게 무슨 말씀이시죠 출고 처리가 되었을 수도 있어서 취소가 안 되고 반품 접수 많습니다 만약 출고가 될 경우 수취거부 부탁드립니다 그냥 돌려 보내면 되는 건가요네 맞습니다 고객님 카드 취소 처리는 되었습니다 더 문의할 사항 없습니까 결제처리가 벌써 되었나요네 고객님 하루 이틀 내로 카드 취소 될 거예요네 감사합니다 더 문의하실 사랑 없으심 없습니다네 감사합니다 공주 핀입니다네 수고하세요']"
     },
     "execution_count": 6,
     "metadata": {},
     "output_type": "execute_result"
    }
   ],
   "source": [
    "X[-3:]"
   ],
   "metadata": {
    "collapsed": false,
    "ExecuteTime": {
     "start_time": "2023-06-29T10:35:00.232525Z",
     "end_time": "2023-06-29T10:35:00.243526Z"
    }
   }
  },
  {
   "cell_type": "code",
   "execution_count": 7,
   "outputs": [],
   "source": [
    "import numpy as np\n",
    "y = np.array([i[1] for i in result])"
   ],
   "metadata": {
    "collapsed": false,
    "ExecuteTime": {
     "start_time": "2023-06-29T10:35:33.373384Z",
     "end_time": "2023-06-29T10:35:33.539382Z"
    }
   }
  },
  {
   "cell_type": "code",
   "execution_count": 26,
   "outputs": [
    {
     "data": {
      "text/plain": "2418"
     },
     "execution_count": 26,
     "metadata": {},
     "output_type": "execute_result"
    }
   ],
   "source": [],
   "metadata": {
    "collapsed": false,
    "ExecuteTime": {
     "start_time": "2023-06-29T11:06:03.060389Z",
     "end_time": "2023-06-29T11:06:03.476390Z"
    }
   }
  },
  {
   "cell_type": "code",
   "execution_count": 10,
   "outputs": [],
   "source": [
    "import pandas as pd\n",
    "df = pd.DataFrame({\"document\": X, \"label\": y})"
   ],
   "metadata": {
    "collapsed": false,
    "ExecuteTime": {
     "start_time": "2023-06-29T10:39:03.559013Z",
     "end_time": "2023-06-29T10:39:03.569037Z"
    }
   }
  },
  {
   "cell_type": "code",
   "execution_count": 33,
   "outputs": [
    {
     "data": {
      "text/plain": "0    2190\n1     228\nName: count, dtype: int64"
     },
     "execution_count": 33,
     "metadata": {},
     "output_type": "execute_result"
    }
   ],
   "source": [
    "pd.Series(y).value_counts()"
   ],
   "metadata": {
    "collapsed": false,
    "ExecuteTime": {
     "start_time": "2023-06-29T11:13:03.026224Z",
     "end_time": "2023-06-29T11:13:03.043077Z"
    }
   }
  },
  {
   "cell_type": "code",
   "execution_count": 34,
   "outputs": [
    {
     "data": {
      "text/plain": "array(['0', '0', '0', ..., '0', '0', '0'], dtype='<U1')"
     },
     "execution_count": 34,
     "metadata": {},
     "output_type": "execute_result"
    }
   ],
   "source": [
    "y"
   ],
   "metadata": {
    "collapsed": false,
    "ExecuteTime": {
     "start_time": "2023-06-29T11:43:35.888172Z",
     "end_time": "2023-06-29T11:43:35.923944Z"
    }
   }
  },
  {
   "cell_type": "code",
   "execution_count": 12,
   "outputs": [],
   "source": [
    "import os\n",
    "import tensorflow as tf\n",
    "import pickle as pk\n",
    "from tensorflow.keras.preprocessing.text import Tokenizer\n",
    "from tensorflow.keras.preprocessing.sequence import pad_sequences\n",
    "from sklearn.model_selection import train_test_split"
   ],
   "metadata": {
    "collapsed": false,
    "ExecuteTime": {
     "start_time": "2023-06-29T10:43:20.510122Z",
     "end_time": "2023-06-29T10:43:24.255948Z"
    }
   }
  },
  {
   "cell_type": "code",
   "execution_count": 16,
   "outputs": [],
   "source": [
    "MAX_LEN = 1000\n",
    "TRUNC = \"pre\"\n",
    "\n",
    "train_input, val_input, train_target, val_target = train_test_split(df[\"document\"], df[\"label\"], test_size=0.4, stratify=df[\"label\"])\n",
    "tokenizer = Tokenizer()\n",
    "\n",
    "tokenizer.fit_on_texts(train_input)\n",
    "train_sequences = tokenizer.texts_to_sequences(train_input)\n",
    "\n",
    "train_seq = pad_sequences(train_sequences, maxlen=MAX_LEN, truncating=TRUNC)\n",
    "val_sequences = tokenizer.texts_to_sequences(val_input)\n",
    "val_seq = pad_sequences(val_sequences, maxlen=MAX_LEN, truncating=TRUNC)"
   ],
   "metadata": {
    "collapsed": false,
    "ExecuteTime": {
     "start_time": "2023-06-29T10:45:41.217555Z",
     "end_time": "2023-06-29T10:45:41.830557Z"
    }
   }
  },
  {
   "cell_type": "code",
   "execution_count": 37,
   "outputs": [
    {
     "name": "stdout",
     "output_type": "stream",
     "text": [
      "Epoch 1/50\n"
     ]
    },
    {
     "ename": "UnimplementedError",
     "evalue": "Graph execution error:\n\nDetected at node 'binary_crossentropy/Cast' defined at (most recent call last):\n    File \"C:\\Users\\HKIT\\anaconda3\\lib\\runpy.py\", line 196, in _run_module_as_main\n      return _run_code(code, main_globals, None,\n    File \"C:\\Users\\HKIT\\anaconda3\\lib\\runpy.py\", line 86, in _run_code\n      exec(code, run_globals)\n    File \"C:\\Users\\HKIT\\anaconda3\\lib\\site-packages\\ipykernel_launcher.py\", line 17, in <module>\n      app.launch_new_instance()\n    File \"C:\\Users\\HKIT\\anaconda3\\lib\\site-packages\\traitlets\\config\\application.py\", line 1043, in launch_instance\n      app.start()\n    File \"C:\\Users\\HKIT\\anaconda3\\lib\\site-packages\\ipykernel\\kernelapp.py\", line 725, in start\n      self.io_loop.start()\n    File \"C:\\Users\\HKIT\\anaconda3\\lib\\site-packages\\tornado\\platform\\asyncio.py\", line 195, in start\n      self.asyncio_loop.run_forever()\n    File \"C:\\Users\\HKIT\\anaconda3\\lib\\asyncio\\base_events.py\", line 603, in run_forever\n      self._run_once()\n    File \"C:\\Users\\HKIT\\anaconda3\\lib\\asyncio\\base_events.py\", line 1906, in _run_once\n      handle._run()\n    File \"C:\\Users\\HKIT\\anaconda3\\lib\\asyncio\\events.py\", line 80, in _run\n      self._context.run(self._callback, *self._args)\n    File \"C:\\Users\\HKIT\\anaconda3\\lib\\site-packages\\ipykernel\\kernelbase.py\", line 513, in dispatch_queue\n      await self.process_one()\n    File \"C:\\Users\\HKIT\\anaconda3\\lib\\site-packages\\ipykernel\\kernelbase.py\", line 502, in process_one\n      await dispatch(*args)\n    File \"C:\\Users\\HKIT\\anaconda3\\lib\\site-packages\\ipykernel\\kernelbase.py\", line 409, in dispatch_shell\n      await result\n    File \"C:\\Users\\HKIT\\anaconda3\\lib\\site-packages\\ipykernel\\kernelbase.py\", line 729, in execute_request\n      reply_content = await reply_content\n    File \"C:\\Users\\HKIT\\anaconda3\\lib\\site-packages\\ipykernel\\ipkernel.py\", line 422, in do_execute\n      res = shell.run_cell(\n    File \"C:\\Users\\HKIT\\anaconda3\\lib\\site-packages\\ipykernel\\zmqshell.py\", line 540, in run_cell\n      return super().run_cell(*args, **kwargs)\n    File \"C:\\Users\\HKIT\\anaconda3\\lib\\site-packages\\IPython\\core\\interactiveshell.py\", line 3009, in run_cell\n      result = self._run_cell(\n    File \"C:\\Users\\HKIT\\anaconda3\\lib\\site-packages\\IPython\\core\\interactiveshell.py\", line 3064, in _run_cell\n      result = runner(coro)\n    File \"C:\\Users\\HKIT\\anaconda3\\lib\\site-packages\\IPython\\core\\async_helpers.py\", line 129, in _pseudo_sync_runner\n      coro.send(None)\n    File \"C:\\Users\\HKIT\\anaconda3\\lib\\site-packages\\IPython\\core\\interactiveshell.py\", line 3269, in run_cell_async\n      has_raised = await self.run_ast_nodes(code_ast.body, cell_name,\n    File \"C:\\Users\\HKIT\\anaconda3\\lib\\site-packages\\IPython\\core\\interactiveshell.py\", line 3448, in run_ast_nodes\n      if await self.run_code(code, result, async_=asy):\n    File \"C:\\Users\\HKIT\\anaconda3\\lib\\site-packages\\IPython\\core\\interactiveshell.py\", line 3508, in run_code\n      exec(code_obj, self.user_global_ns, self.user_ns)\n    File \"C:\\Users\\HKIT\\AppData\\Local\\Temp\\ipykernel_12148\\3562328433.py\", line 9, in <module>\n      history = model.fit(train_seq, train_target, epochs=50, batch_size=32, validation_data=(val_seq, val_target))\n    File \"C:\\Users\\HKIT\\anaconda3\\lib\\site-packages\\keras\\utils\\traceback_utils.py\", line 65, in error_handler\n      return fn(*args, **kwargs)\n    File \"C:\\Users\\HKIT\\anaconda3\\lib\\site-packages\\keras\\engine\\training.py\", line 1685, in fit\n      tmp_logs = self.train_function(iterator)\n    File \"C:\\Users\\HKIT\\anaconda3\\lib\\site-packages\\keras\\engine\\training.py\", line 1284, in train_function\n      return step_function(self, iterator)\n    File \"C:\\Users\\HKIT\\anaconda3\\lib\\site-packages\\keras\\engine\\training.py\", line 1268, in step_function\n      outputs = model.distribute_strategy.run(run_step, args=(data,))\n    File \"C:\\Users\\HKIT\\anaconda3\\lib\\site-packages\\keras\\engine\\training.py\", line 1249, in run_step\n      outputs = model.train_step(data)\n    File \"C:\\Users\\HKIT\\anaconda3\\lib\\site-packages\\keras\\engine\\training.py\", line 1051, in train_step\n      loss = self.compute_loss(x, y, y_pred, sample_weight)\n    File \"C:\\Users\\HKIT\\anaconda3\\lib\\site-packages\\keras\\engine\\training.py\", line 1109, in compute_loss\n      return self.compiled_loss(\n    File \"C:\\Users\\HKIT\\anaconda3\\lib\\site-packages\\keras\\engine\\compile_utils.py\", line 265, in __call__\n      loss_value = loss_obj(y_t, y_p, sample_weight=sw)\n    File \"C:\\Users\\HKIT\\anaconda3\\lib\\site-packages\\keras\\losses.py\", line 142, in __call__\n      losses = call_fn(y_true, y_pred)\n    File \"C:\\Users\\HKIT\\anaconda3\\lib\\site-packages\\keras\\losses.py\", line 268, in call\n      return ag_fn(y_true, y_pred, **self._fn_kwargs)\n    File \"C:\\Users\\HKIT\\anaconda3\\lib\\site-packages\\keras\\losses.py\", line 2145, in binary_crossentropy\n      y_true = tf.cast(y_true, y_pred.dtype)\nNode: 'binary_crossentropy/Cast'\nCast string to float is not supported\n\t [[{{node binary_crossentropy/Cast}}]] [Op:__inference_train_function_138694]",
     "output_type": "error",
     "traceback": [
      "\u001B[1;31m---------------------------------------------------------------------------\u001B[0m",
      "\u001B[1;31mUnimplementedError\u001B[0m                        Traceback (most recent call last)",
      "Cell \u001B[1;32mIn[37], line 9\u001B[0m\n\u001B[0;32m      6\u001B[0m model\u001B[38;5;241m.\u001B[39madd(tf\u001B[38;5;241m.\u001B[39mkeras\u001B[38;5;241m.\u001B[39mlayers\u001B[38;5;241m.\u001B[39mDense(\u001B[38;5;241m1\u001B[39m, activation\u001B[38;5;241m=\u001B[39m\u001B[38;5;124m\"\u001B[39m\u001B[38;5;124msigmoid\u001B[39m\u001B[38;5;124m\"\u001B[39m))\n\u001B[0;32m      8\u001B[0m model\u001B[38;5;241m.\u001B[39mcompile(loss\u001B[38;5;241m=\u001B[39m\u001B[38;5;124m\"\u001B[39m\u001B[38;5;124mbinary_crossentropy\u001B[39m\u001B[38;5;124m\"\u001B[39m, optimizer\u001B[38;5;241m=\u001B[39m\u001B[38;5;124m\"\u001B[39m\u001B[38;5;124madam\u001B[39m\u001B[38;5;124m\"\u001B[39m, metrics\u001B[38;5;241m=\u001B[39m[\u001B[38;5;124m\"\u001B[39m\u001B[38;5;124maccuracy\u001B[39m\u001B[38;5;124m\"\u001B[39m])\n\u001B[1;32m----> 9\u001B[0m history \u001B[38;5;241m=\u001B[39m \u001B[43mmodel\u001B[49m\u001B[38;5;241;43m.\u001B[39;49m\u001B[43mfit\u001B[49m\u001B[43m(\u001B[49m\u001B[43mtrain_seq\u001B[49m\u001B[43m,\u001B[49m\u001B[43m \u001B[49m\u001B[43mtrain_target\u001B[49m\u001B[43m,\u001B[49m\u001B[43m \u001B[49m\u001B[43mepochs\u001B[49m\u001B[38;5;241;43m=\u001B[39;49m\u001B[38;5;241;43m50\u001B[39;49m\u001B[43m,\u001B[49m\u001B[43m \u001B[49m\u001B[43mbatch_size\u001B[49m\u001B[38;5;241;43m=\u001B[39;49m\u001B[38;5;241;43m32\u001B[39;49m\u001B[43m,\u001B[49m\u001B[43m \u001B[49m\u001B[43mvalidation_data\u001B[49m\u001B[38;5;241;43m=\u001B[39;49m\u001B[43m(\u001B[49m\u001B[43mval_seq\u001B[49m\u001B[43m,\u001B[49m\u001B[43m \u001B[49m\u001B[43mval_target\u001B[49m\u001B[43m)\u001B[49m\u001B[43m)\u001B[49m\n",
      "File \u001B[1;32m~\\anaconda3\\lib\\site-packages\\keras\\utils\\traceback_utils.py:70\u001B[0m, in \u001B[0;36mfilter_traceback.<locals>.error_handler\u001B[1;34m(*args, **kwargs)\u001B[0m\n\u001B[0;32m     67\u001B[0m     filtered_tb \u001B[38;5;241m=\u001B[39m _process_traceback_frames(e\u001B[38;5;241m.\u001B[39m__traceback__)\n\u001B[0;32m     68\u001B[0m     \u001B[38;5;66;03m# To get the full stack trace, call:\u001B[39;00m\n\u001B[0;32m     69\u001B[0m     \u001B[38;5;66;03m# `tf.debugging.disable_traceback_filtering()`\u001B[39;00m\n\u001B[1;32m---> 70\u001B[0m     \u001B[38;5;28;01mraise\u001B[39;00m e\u001B[38;5;241m.\u001B[39mwith_traceback(filtered_tb) \u001B[38;5;28;01mfrom\u001B[39;00m \u001B[38;5;28;01mNone\u001B[39;00m\n\u001B[0;32m     71\u001B[0m \u001B[38;5;28;01mfinally\u001B[39;00m:\n\u001B[0;32m     72\u001B[0m     \u001B[38;5;28;01mdel\u001B[39;00m filtered_tb\n",
      "File \u001B[1;32m~\\anaconda3\\lib\\site-packages\\tensorflow\\python\\eager\\execute.py:52\u001B[0m, in \u001B[0;36mquick_execute\u001B[1;34m(op_name, num_outputs, inputs, attrs, ctx, name)\u001B[0m\n\u001B[0;32m     50\u001B[0m \u001B[38;5;28;01mtry\u001B[39;00m:\n\u001B[0;32m     51\u001B[0m   ctx\u001B[38;5;241m.\u001B[39mensure_initialized()\n\u001B[1;32m---> 52\u001B[0m   tensors \u001B[38;5;241m=\u001B[39m pywrap_tfe\u001B[38;5;241m.\u001B[39mTFE_Py_Execute(ctx\u001B[38;5;241m.\u001B[39m_handle, device_name, op_name,\n\u001B[0;32m     53\u001B[0m                                       inputs, attrs, num_outputs)\n\u001B[0;32m     54\u001B[0m \u001B[38;5;28;01mexcept\u001B[39;00m core\u001B[38;5;241m.\u001B[39m_NotOkStatusException \u001B[38;5;28;01mas\u001B[39;00m e:\n\u001B[0;32m     55\u001B[0m   \u001B[38;5;28;01mif\u001B[39;00m name \u001B[38;5;129;01mis\u001B[39;00m \u001B[38;5;129;01mnot\u001B[39;00m \u001B[38;5;28;01mNone\u001B[39;00m:\n",
      "\u001B[1;31mUnimplementedError\u001B[0m: Graph execution error:\n\nDetected at node 'binary_crossentropy/Cast' defined at (most recent call last):\n    File \"C:\\Users\\HKIT\\anaconda3\\lib\\runpy.py\", line 196, in _run_module_as_main\n      return _run_code(code, main_globals, None,\n    File \"C:\\Users\\HKIT\\anaconda3\\lib\\runpy.py\", line 86, in _run_code\n      exec(code, run_globals)\n    File \"C:\\Users\\HKIT\\anaconda3\\lib\\site-packages\\ipykernel_launcher.py\", line 17, in <module>\n      app.launch_new_instance()\n    File \"C:\\Users\\HKIT\\anaconda3\\lib\\site-packages\\traitlets\\config\\application.py\", line 1043, in launch_instance\n      app.start()\n    File \"C:\\Users\\HKIT\\anaconda3\\lib\\site-packages\\ipykernel\\kernelapp.py\", line 725, in start\n      self.io_loop.start()\n    File \"C:\\Users\\HKIT\\anaconda3\\lib\\site-packages\\tornado\\platform\\asyncio.py\", line 195, in start\n      self.asyncio_loop.run_forever()\n    File \"C:\\Users\\HKIT\\anaconda3\\lib\\asyncio\\base_events.py\", line 603, in run_forever\n      self._run_once()\n    File \"C:\\Users\\HKIT\\anaconda3\\lib\\asyncio\\base_events.py\", line 1906, in _run_once\n      handle._run()\n    File \"C:\\Users\\HKIT\\anaconda3\\lib\\asyncio\\events.py\", line 80, in _run\n      self._context.run(self._callback, *self._args)\n    File \"C:\\Users\\HKIT\\anaconda3\\lib\\site-packages\\ipykernel\\kernelbase.py\", line 513, in dispatch_queue\n      await self.process_one()\n    File \"C:\\Users\\HKIT\\anaconda3\\lib\\site-packages\\ipykernel\\kernelbase.py\", line 502, in process_one\n      await dispatch(*args)\n    File \"C:\\Users\\HKIT\\anaconda3\\lib\\site-packages\\ipykernel\\kernelbase.py\", line 409, in dispatch_shell\n      await result\n    File \"C:\\Users\\HKIT\\anaconda3\\lib\\site-packages\\ipykernel\\kernelbase.py\", line 729, in execute_request\n      reply_content = await reply_content\n    File \"C:\\Users\\HKIT\\anaconda3\\lib\\site-packages\\ipykernel\\ipkernel.py\", line 422, in do_execute\n      res = shell.run_cell(\n    File \"C:\\Users\\HKIT\\anaconda3\\lib\\site-packages\\ipykernel\\zmqshell.py\", line 540, in run_cell\n      return super().run_cell(*args, **kwargs)\n    File \"C:\\Users\\HKIT\\anaconda3\\lib\\site-packages\\IPython\\core\\interactiveshell.py\", line 3009, in run_cell\n      result = self._run_cell(\n    File \"C:\\Users\\HKIT\\anaconda3\\lib\\site-packages\\IPython\\core\\interactiveshell.py\", line 3064, in _run_cell\n      result = runner(coro)\n    File \"C:\\Users\\HKIT\\anaconda3\\lib\\site-packages\\IPython\\core\\async_helpers.py\", line 129, in _pseudo_sync_runner\n      coro.send(None)\n    File \"C:\\Users\\HKIT\\anaconda3\\lib\\site-packages\\IPython\\core\\interactiveshell.py\", line 3269, in run_cell_async\n      has_raised = await self.run_ast_nodes(code_ast.body, cell_name,\n    File \"C:\\Users\\HKIT\\anaconda3\\lib\\site-packages\\IPython\\core\\interactiveshell.py\", line 3448, in run_ast_nodes\n      if await self.run_code(code, result, async_=asy):\n    File \"C:\\Users\\HKIT\\anaconda3\\lib\\site-packages\\IPython\\core\\interactiveshell.py\", line 3508, in run_code\n      exec(code_obj, self.user_global_ns, self.user_ns)\n    File \"C:\\Users\\HKIT\\AppData\\Local\\Temp\\ipykernel_12148\\3562328433.py\", line 9, in <module>\n      history = model.fit(train_seq, train_target, epochs=50, batch_size=32, validation_data=(val_seq, val_target))\n    File \"C:\\Users\\HKIT\\anaconda3\\lib\\site-packages\\keras\\utils\\traceback_utils.py\", line 65, in error_handler\n      return fn(*args, **kwargs)\n    File \"C:\\Users\\HKIT\\anaconda3\\lib\\site-packages\\keras\\engine\\training.py\", line 1685, in fit\n      tmp_logs = self.train_function(iterator)\n    File \"C:\\Users\\HKIT\\anaconda3\\lib\\site-packages\\keras\\engine\\training.py\", line 1284, in train_function\n      return step_function(self, iterator)\n    File \"C:\\Users\\HKIT\\anaconda3\\lib\\site-packages\\keras\\engine\\training.py\", line 1268, in step_function\n      outputs = model.distribute_strategy.run(run_step, args=(data,))\n    File \"C:\\Users\\HKIT\\anaconda3\\lib\\site-packages\\keras\\engine\\training.py\", line 1249, in run_step\n      outputs = model.train_step(data)\n    File \"C:\\Users\\HKIT\\anaconda3\\lib\\site-packages\\keras\\engine\\training.py\", line 1051, in train_step\n      loss = self.compute_loss(x, y, y_pred, sample_weight)\n    File \"C:\\Users\\HKIT\\anaconda3\\lib\\site-packages\\keras\\engine\\training.py\", line 1109, in compute_loss\n      return self.compiled_loss(\n    File \"C:\\Users\\HKIT\\anaconda3\\lib\\site-packages\\keras\\engine\\compile_utils.py\", line 265, in __call__\n      loss_value = loss_obj(y_t, y_p, sample_weight=sw)\n    File \"C:\\Users\\HKIT\\anaconda3\\lib\\site-packages\\keras\\losses.py\", line 142, in __call__\n      losses = call_fn(y_true, y_pred)\n    File \"C:\\Users\\HKIT\\anaconda3\\lib\\site-packages\\keras\\losses.py\", line 268, in call\n      return ag_fn(y_true, y_pred, **self._fn_kwargs)\n    File \"C:\\Users\\HKIT\\anaconda3\\lib\\site-packages\\keras\\losses.py\", line 2145, in binary_crossentropy\n      y_true = tf.cast(y_true, y_pred.dtype)\nNode: 'binary_crossentropy/Cast'\nCast string to float is not supported\n\t [[{{node binary_crossentropy/Cast}}]] [Op:__inference_train_function_138694]"
     ]
    }
   ],
   "source": [
    "model = tf.keras.Sequential()\n",
    "model.add(tf.keras.layers.Embedding(input_dim=800000, output_dim=64, input_length=MAX_LEN))\n",
    "model.add(tf.keras.layers.Bidirectional(tf.keras.layers.LSTM(2, return_sequences=True)))\n",
    "model.add(tf.keras.layers.Bidirectional(tf.keras.layers.LSTM(2, return_sequences=False)))\n",
    "model.add(tf.keras.layers.Dropout(rate=0.3))\n",
    "model.add(tf.keras.layers.Dense(1, activation=\"sigmoid\"))\n",
    "\n",
    "model.compile(loss=\"binary_crossentropy\", optimizer=\"adam\", metrics=[\"accuracy\"])\n",
    "history = model.fit(train_seq, train_target, epochs=50, batch_size=32, validation_data=(val_seq, val_target))\n"
   ],
   "metadata": {
    "collapsed": false
   }
  },
  {
   "cell_type": "code",
   "execution_count": null,
   "outputs": [],
   "source": [],
   "metadata": {
    "collapsed": false
   }
  }
 ],
 "metadata": {
  "kernelspec": {
   "display_name": "Python 3",
   "language": "python",
   "name": "python3"
  },
  "language_info": {
   "codemirror_mode": {
    "name": "ipython",
    "version": 2
   },
   "file_extension": ".py",
   "mimetype": "text/x-python",
   "name": "python",
   "nbconvert_exporter": "python",
   "pygments_lexer": "ipython2",
   "version": "2.7.6"
  }
 },
 "nbformat": 4,
 "nbformat_minor": 0
}
